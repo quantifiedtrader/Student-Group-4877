{
 "cells": [
  {
   "cell_type": "markdown",
   "metadata": {},
   "source": [
    "# **Layout of Code**\n",
    "\n",
    "### Step 1 - Conceptual Framework building for Iron Condor Analysis \n",
    "1. Instead of loading Data directly, we will build **Option Chain FrameWork** using the contract names present in the Month-wise nested Option Data Folder for FY2023. \n",
    "\n",
    "By Option Chain Framework, we mean list of all Contracts of type CE /PE for all the Strikes. There are a total of 12 monthly option series for stock option and 52 weekly option series for index options.\n",
    "\n",
    "2. We assume that the data is stored in nested folder named after the month of their generation. For Example\n",
    "    - 2023\n",
    "        - Jan 2023\n",
    "            - xxxx.csv\n",
    "            - xxxx1.csv\n",
    "            - ......csv\n",
    "            - ......csv\n",
    "            - xxxx2.csv  \n",
    "        - Feb 2023\n",
    "            - .....csv\n",
    "        - March 2023\n",
    "        - ..... 2023\n",
    "        - ..... 2023\n",
    "        - Dec 2023\n",
    "\n",
    "Option Chain Frame Work is build using the ticker for each expiry. \n",
    "\n",
    "### Step 2 - Building Classes for Iron Condor\n",
    "\n",
    "1. Using the Code above, We will build the Function for Iron Condor and Evaluate by extracting different performance parameters.\n",
    "\n",
    "2. We will build Options Class , Iron Condor Class and Compare_Condor Class \n",
    "- Option Class - It will store Data and method to extarct the data\n",
    "- Iron Condor Class - It will generate Iron Condor Based on Strikes, Lot Size and Symmetry about ATM Strike.\n",
    "- Compare_Condor Class - It will compare the IRon Condor Class based on several Perfromance Parameters.  \n",
    "\n",
    "### Step 3 - Comparion and Evaluation of Iron Condors\n",
    "\n",
    "1. For each expiry series we deploy same Iron Condor Strategy for symmetric and asymmtric cases and compare the results. \n",
    "\n",
    "    - Strategy involves\n",
    "        - A. Finding the ATM strike price for each expiry series at the begining of the expiry month \n",
    "        - B. Selecting short PE/CE 3 strikes away from the ATM strike and selecting long PE/CE 6 strikes away from the ATM strike\n",
    "        - C. Evaluation performance for symmetric and asymetric cases"
   ]
  },
  {
   "cell_type": "markdown",
   "metadata": {},
   "source": [
    "# STEP 1 : Conceptual Framework building for Iron Condor Analysis "
   ]
  },
  {
   "cell_type": "markdown",
   "metadata": {},
   "source": [
    "In this step, \n",
    "- We will build a python program to extarct data form the nested Option Data Folder, and arrange the Data in suitable format. \n",
    "- This compiled Data will be used for selecting suitable strikes as per the strategy. \n",
    "- Building function to extract the historical data of selected legs of Iron Condor.\n",
    "- Using the historical Data and the selected Option Contracts, Build the Dataframe - 'Premium Data'  which will hold historical data of selected Contracts.\n",
    "- Build the historical Performance of Iron Condor "
   ]
  },
  {
   "cell_type": "markdown",
   "metadata": {},
   "source": [
    "### Requirements \n",
    "1. Folder Structure should be in required format descibed below\n",
    "2. All Files needs to be unzipped"
   ]
  },
  {
   "cell_type": "code",
   "execution_count": 124,
   "metadata": {},
   "outputs": [],
   "source": [
    "# Importing Libraries required in the analysis\n",
    "import os   \n",
    "from datetime import datetime\n",
    "import tqdm\n",
    "import pandas as pd\n",
    "import numpy as np \n",
    "import yfinance as yf\n",
    "     "
   ]
  },
  {
   "cell_type": "markdown",
   "metadata": {},
   "source": [
    "**In Code below**\n",
    "- We build a list of all the contracts availble with us in the nested folders w or w/o extracting RaR files.\n",
    "- Using pandas we build dataframe using infromation present in the contracts ticker name\n",
    "- Columns are generated with \n",
    "    - Contract Names\n",
    "    - Ticker\n",
    "    - Expiry\n",
    "    - Date\n",
    "    - Type\n",
    "    - Asset Type\n",
    "    - Strike\n",
    "    \n",
    "- We avoid loading the data directly to save memory. We will build option Chain for each ticker + each exipry series combination. From the Option Chain , we select the ATM stike at the start of month and wait till end of month.- We will see the development of PnL Curve along with the following\n",
    "    - Drawdown\n",
    "    - Risk Adjusted Return"
   ]
  },
  {
   "cell_type": "markdown",
   "metadata": {},
   "source": [
    "**Without Unzipping the Folders**\n",
    "\n",
    "In the code Below , we extrct the contracts name from nested folders without unziping them to save memory. "
   ]
  },
  {
   "cell_type": "code",
   "execution_count": 125,
   "metadata": {},
   "outputs": [],
   "source": [
    "# This code build Option Chain Framework without Extracting the RaR files saving the Memory\n",
    "\n",
    "## Issue Coming as Error 13 - Permission denied. To Be Checked Later\n",
    "\n",
    "# import os\n",
    "# import rarfile \n",
    "# import pandas as pd\n",
    "# import numpy as np\n",
    "# folder_path = 'C:/Users/paras/Downloads/2023'\n",
    "# # Get all the rar archive in the folder\n",
    "# archives = os.listdir(folder_path)\n",
    "# option_contracts_list=[]\n",
    "# for archive in archives:\n",
    "#     print(archive)\n",
    "#     month=str(archive).strip('Options').strip('2023.rar')\n",
    "#     path=\"C:/Users/paras/Downloads/2023/\"+str(archive)\n",
    "#     archive=rarfile.RarFile(path,'r')\n",
    "#     option_contracts_list.extend([x.strip('Options ').strip(month).strip('2023/').strip('.csv') for x in archive.namelist()])\n",
    "# contracts_dataframe=pd.DataFrame(option_contracts_list,columns=['Contract Names'])\n"
   ]
  },
  {
   "cell_type": "markdown",
   "metadata": {},
   "source": [
    "In the code below, \n",
    "- We will extract the file names of contracts present in the nested folder organisations\n",
    "- Folders and Contract Tickers are named and placed according to Expiry, Strike, Option Type so  We will extract this information to build a Option chain Framework.\n",
    "\n",
    "    - Step 1. Transverse Nested Folders and collect all file Paths + remove the extension .csv\n",
    "    - Step 2. Store all file names in a DataFrame -> 'contracts_dataframe'"
   ]
  },
  {
   "cell_type": "code",
   "execution_count": 126,
   "metadata": {},
   "outputs": [
    {
     "data": {
      "text/html": [
       "<div>\n",
       "<style scoped>\n",
       "    .dataframe tbody tr th:only-of-type {\n",
       "        vertical-align: middle;\n",
       "    }\n",
       "\n",
       "    .dataframe tbody tr th {\n",
       "        vertical-align: top;\n",
       "    }\n",
       "\n",
       "    .dataframe thead th {\n",
       "        text-align: right;\n",
       "    }\n",
       "</style>\n",
       "<table border=\"1\" class=\"dataframe\">\n",
       "  <thead>\n",
       "    <tr style=\"text-align: right;\">\n",
       "      <th></th>\n",
       "      <th>Contract Names</th>\n",
       "    </tr>\n",
       "  </thead>\n",
       "  <tbody>\n",
       "    <tr>\n",
       "      <th>0</th>\n",
       "      <td>AARTIIND230427440PE</td>\n",
       "    </tr>\n",
       "    <tr>\n",
       "      <th>1</th>\n",
       "      <td>AARTIIND230427450PE</td>\n",
       "    </tr>\n",
       "    <tr>\n",
       "      <th>2</th>\n",
       "      <td>AARTIIND230427460PE</td>\n",
       "    </tr>\n",
       "    <tr>\n",
       "      <th>3</th>\n",
       "      <td>AARTIIND230427470PE</td>\n",
       "    </tr>\n",
       "    <tr>\n",
       "      <th>4</th>\n",
       "      <td>AARTIIND230427480CE</td>\n",
       "    </tr>\n",
       "    <tr>\n",
       "      <th>...</th>\n",
       "      <td>...</td>\n",
       "    </tr>\n",
       "    <tr>\n",
       "      <th>307992</th>\n",
       "      <td>ZYDUSLIFE231130560PE</td>\n",
       "    </tr>\n",
       "    <tr>\n",
       "      <th>307993</th>\n",
       "      <td>ZYDUSLIFE231130590PE</td>\n",
       "    </tr>\n",
       "    <tr>\n",
       "      <th>307994</th>\n",
       "      <td>ZYDUSLIFE231130600PE</td>\n",
       "    </tr>\n",
       "    <tr>\n",
       "      <th>307995</th>\n",
       "      <td>ZYDUSLIFE231130650CE</td>\n",
       "    </tr>\n",
       "    <tr>\n",
       "      <th>307996</th>\n",
       "      <td>ZYDUSLIFE231130700CE</td>\n",
       "    </tr>\n",
       "  </tbody>\n",
       "</table>\n",
       "<p>307997 rows × 1 columns</p>\n",
       "</div>"
      ],
      "text/plain": [
       "              Contract Names\n",
       "0        AARTIIND230427440PE\n",
       "1        AARTIIND230427450PE\n",
       "2        AARTIIND230427460PE\n",
       "3        AARTIIND230427470PE\n",
       "4        AARTIIND230427480CE\n",
       "...                      ...\n",
       "307992  ZYDUSLIFE231130560PE\n",
       "307993  ZYDUSLIFE231130590PE\n",
       "307994  ZYDUSLIFE231130600PE\n",
       "307995  ZYDUSLIFE231130650CE\n",
       "307996  ZYDUSLIFE231130700CE\n",
       "\n",
       "[307997 rows x 1 columns]"
      ]
     },
     "execution_count": 126,
     "metadata": {},
     "output_type": "execute_result"
    }
   ],
   "source": [
    "# This code build Option Chain Framework after Extracting the RaR files\n",
    "\n",
    "root_folder = 'C:/Users/paras/Downloads/2023'           # Specify the root folder path where all the unzipped option monthly data is present.\n",
    "\n",
    "# Function to traverse nested folders and collect file paths\n",
    "def contracts_list(folder_path):\n",
    "    file_paths = []\n",
    "    for _, _, files in os.walk(folder_path):\n",
    "        for file in files:\n",
    "            file_paths.append(file[:-4])                # Collect file paths in the nested folder structure\n",
    "\n",
    "    contracts_dataframe=pd.DataFrame(file_paths,columns=['Contract Names'])\n",
    "    return contracts_dataframe\n",
    "\n",
    "contracts_dataframe = contracts_list(root_folder)       # Here Function Returns the contract names as a dataframe object\n",
    "contracts_dataframe"
   ]
  },
  {
   "cell_type": "markdown",
   "metadata": {},
   "source": [
    "In the above step , we have extracted all the file names. We will use these file names to build Option Chain Framework for all Ticker Symbols.\n",
    "\n",
    "Using ***contracts_dataframe***, we will perform following steps on the contract names,\n",
    "\n",
    "- Extract the Ticker symbol\n",
    "- Extract the Expiry Date and convert it in correct format\n",
    "- Extract the Strike \n",
    "- Extract the Type - PE/CE\n",
    "- Assign the Asset Type \n",
    "- Build a new Dataframe with only Stock/Index Options \n"
   ]
  },
  {
   "cell_type": "code",
   "execution_count": 127,
   "metadata": {},
   "outputs": [],
   "source": [
    "from datetime import datetime     #For Datetime Processing and Transformations\n",
    "\n",
    "def build_option_chain_framework(contracts_dataframe):\n",
    "\n",
    "    #Extract the Ticker\n",
    "    contracts_dataframe['Ticker']=contracts_dataframe['Contract Names'].apply(lambda x : (x[:x.find('2')]))\n",
    "    #Extract the Expiry Date \n",
    "    contracts_dataframe['Expiry Date']=contracts_dataframe['Contract Names'].apply(lambda x : (x[x.find('2'):x.find('2')+6]))\n",
    "    #Extract the Strike\n",
    "    contracts_dataframe['Strike']=contracts_dataframe['Contract Names'].apply(lambda x : (x[x.find('2')+6:-2]))\n",
    "    #Extract the Type - PE/CE\n",
    "    contracts_dataframe['Type']=contracts_dataframe['Contract Names'].apply(lambda x: x[-2:])\n",
    "    #Transformation of Expiry Date in correct format - %yy%mm%dd. This is followed throughout this project\n",
    "    contracts_dataframe['Expiry Date']=contracts_dataframe['Expiry Date'].apply(lambda x : '20'+x)\n",
    "    #Assign the Asset Type\n",
    "    contracts_dataframe['Asset Type'] = np.where(contracts_dataframe['Expiry Date'].str.len() < 6, 'Commodity', 'Stocks/Index')\n",
    "    #Selection of Only Stock.Index Options by Filtering Original Datframe and Saving it as new variable 'option_contracts_dataframe'\n",
    "    option_contracts_dataframe=contracts_dataframe[contracts_dataframe['Asset Type']=='Stocks/Index'].copy()\n",
    "    #Converting the Expiry Date Column into datetime format\n",
    "    option_contracts_dataframe['Expiry Date']=option_contracts_dataframe['Expiry Date'].apply(lambda x : datetime.strptime(x,'%Y%m%d'))\n",
    "\n",
    "    return option_contracts_dataframe\n",
    "\n",
    "\n",
    "option_contracts_framework_2023=build_option_chain_framework(contracts_dataframe=contracts_dataframe) "
   ]
  },
  {
   "cell_type": "code",
   "execution_count": 128,
   "metadata": {},
   "outputs": [
    {
     "data": {
      "text/html": [
       "<div>\n",
       "<style scoped>\n",
       "    .dataframe tbody tr th:only-of-type {\n",
       "        vertical-align: middle;\n",
       "    }\n",
       "\n",
       "    .dataframe tbody tr th {\n",
       "        vertical-align: top;\n",
       "    }\n",
       "\n",
       "    .dataframe thead th {\n",
       "        text-align: right;\n",
       "    }\n",
       "</style>\n",
       "<table border=\"1\" class=\"dataframe\">\n",
       "  <thead>\n",
       "    <tr style=\"text-align: right;\">\n",
       "      <th></th>\n",
       "      <th>Contract Names</th>\n",
       "      <th>Ticker</th>\n",
       "      <th>Expiry Date</th>\n",
       "      <th>Strike</th>\n",
       "      <th>Type</th>\n",
       "      <th>Asset Type</th>\n",
       "    </tr>\n",
       "  </thead>\n",
       "  <tbody>\n",
       "    <tr>\n",
       "      <th>0</th>\n",
       "      <td>AARTIIND230427440PE</td>\n",
       "      <td>AARTIIND</td>\n",
       "      <td>2023-04-27</td>\n",
       "      <td>440</td>\n",
       "      <td>PE</td>\n",
       "      <td>Stocks/Index</td>\n",
       "    </tr>\n",
       "    <tr>\n",
       "      <th>1</th>\n",
       "      <td>AARTIIND230427450PE</td>\n",
       "      <td>AARTIIND</td>\n",
       "      <td>2023-04-27</td>\n",
       "      <td>450</td>\n",
       "      <td>PE</td>\n",
       "      <td>Stocks/Index</td>\n",
       "    </tr>\n",
       "    <tr>\n",
       "      <th>2</th>\n",
       "      <td>AARTIIND230427460PE</td>\n",
       "      <td>AARTIIND</td>\n",
       "      <td>2023-04-27</td>\n",
       "      <td>460</td>\n",
       "      <td>PE</td>\n",
       "      <td>Stocks/Index</td>\n",
       "    </tr>\n",
       "    <tr>\n",
       "      <th>3</th>\n",
       "      <td>AARTIIND230427470PE</td>\n",
       "      <td>AARTIIND</td>\n",
       "      <td>2023-04-27</td>\n",
       "      <td>470</td>\n",
       "      <td>PE</td>\n",
       "      <td>Stocks/Index</td>\n",
       "    </tr>\n",
       "    <tr>\n",
       "      <th>4</th>\n",
       "      <td>AARTIIND230427480CE</td>\n",
       "      <td>AARTIIND</td>\n",
       "      <td>2023-04-27</td>\n",
       "      <td>480</td>\n",
       "      <td>CE</td>\n",
       "      <td>Stocks/Index</td>\n",
       "    </tr>\n",
       "    <tr>\n",
       "      <th>...</th>\n",
       "      <td>...</td>\n",
       "      <td>...</td>\n",
       "      <td>...</td>\n",
       "      <td>...</td>\n",
       "      <td>...</td>\n",
       "      <td>...</td>\n",
       "    </tr>\n",
       "    <tr>\n",
       "      <th>307992</th>\n",
       "      <td>ZYDUSLIFE231130560PE</td>\n",
       "      <td>ZYDUSLIFE</td>\n",
       "      <td>2023-11-30</td>\n",
       "      <td>560</td>\n",
       "      <td>PE</td>\n",
       "      <td>Stocks/Index</td>\n",
       "    </tr>\n",
       "    <tr>\n",
       "      <th>307993</th>\n",
       "      <td>ZYDUSLIFE231130590PE</td>\n",
       "      <td>ZYDUSLIFE</td>\n",
       "      <td>2023-11-30</td>\n",
       "      <td>590</td>\n",
       "      <td>PE</td>\n",
       "      <td>Stocks/Index</td>\n",
       "    </tr>\n",
       "    <tr>\n",
       "      <th>307994</th>\n",
       "      <td>ZYDUSLIFE231130600PE</td>\n",
       "      <td>ZYDUSLIFE</td>\n",
       "      <td>2023-11-30</td>\n",
       "      <td>600</td>\n",
       "      <td>PE</td>\n",
       "      <td>Stocks/Index</td>\n",
       "    </tr>\n",
       "    <tr>\n",
       "      <th>307995</th>\n",
       "      <td>ZYDUSLIFE231130650CE</td>\n",
       "      <td>ZYDUSLIFE</td>\n",
       "      <td>2023-11-30</td>\n",
       "      <td>650</td>\n",
       "      <td>CE</td>\n",
       "      <td>Stocks/Index</td>\n",
       "    </tr>\n",
       "    <tr>\n",
       "      <th>307996</th>\n",
       "      <td>ZYDUSLIFE231130700CE</td>\n",
       "      <td>ZYDUSLIFE</td>\n",
       "      <td>2023-11-30</td>\n",
       "      <td>700</td>\n",
       "      <td>CE</td>\n",
       "      <td>Stocks/Index</td>\n",
       "    </tr>\n",
       "  </tbody>\n",
       "</table>\n",
       "<p>307933 rows × 6 columns</p>\n",
       "</div>"
      ],
      "text/plain": [
       "              Contract Names     Ticker Expiry Date Strike Type    Asset Type\n",
       "0        AARTIIND230427440PE   AARTIIND  2023-04-27    440   PE  Stocks/Index\n",
       "1        AARTIIND230427450PE   AARTIIND  2023-04-27    450   PE  Stocks/Index\n",
       "2        AARTIIND230427460PE   AARTIIND  2023-04-27    460   PE  Stocks/Index\n",
       "3        AARTIIND230427470PE   AARTIIND  2023-04-27    470   PE  Stocks/Index\n",
       "4        AARTIIND230427480CE   AARTIIND  2023-04-27    480   CE  Stocks/Index\n",
       "...                      ...        ...         ...    ...  ...           ...\n",
       "307992  ZYDUSLIFE231130560PE  ZYDUSLIFE  2023-11-30    560   PE  Stocks/Index\n",
       "307993  ZYDUSLIFE231130590PE  ZYDUSLIFE  2023-11-30    590   PE  Stocks/Index\n",
       "307994  ZYDUSLIFE231130600PE  ZYDUSLIFE  2023-11-30    600   PE  Stocks/Index\n",
       "307995  ZYDUSLIFE231130650CE  ZYDUSLIFE  2023-11-30    650   CE  Stocks/Index\n",
       "307996  ZYDUSLIFE231130700CE  ZYDUSLIFE  2023-11-30    700   CE  Stocks/Index\n",
       "\n",
       "[307933 rows x 6 columns]"
      ]
     },
     "execution_count": 128,
     "metadata": {},
     "output_type": "execute_result"
    }
   ],
   "source": [
    "# This OCF forms the foundation block of analysis as all the strategy is building using this framework, and during impelementation of strategy , data is collected and processed using seperate function.\n",
    "option_contracts_framework_2023  # Option Contract Data is stored in this variable"
   ]
  },
  {
   "cell_type": "markdown",
   "metadata": {},
   "source": [
    "In following code , we will extract list of all stock Index tickers from ***option_contracts_dataframe***"
   ]
  },
  {
   "cell_type": "code",
   "execution_count": 129,
   "metadata": {},
   "outputs": [
    {
     "name": "stdout",
     "output_type": "stream",
     "text": [
      "Option Contracts Framework 2023 has a total of  207  Tickers\n",
      "\n",
      "Example of Ticker List : -\n"
     ]
    },
    {
     "data": {
      "text/plain": [
       "['AARTIIND',\n",
       " 'ABB',\n",
       " 'ABBOTINDIA',\n",
       " 'ABCAPITAL',\n",
       " 'ABFRL',\n",
       " 'ACC',\n",
       " 'ADANIENT',\n",
       " 'ADANIPORTS',\n",
       " 'ALKEM',\n",
       " 'AMBUJACEM']"
      ]
     },
     "execution_count": 129,
     "metadata": {},
     "output_type": "execute_result"
    }
   ],
   "source": [
    "def get_tickers(framework):\n",
    "    \"\"\"\n",
    "    framework : Pandas Dataframe of all contracts categorised based on Ticker , Expiry Date, Strike, Type of Option and Asset Type \n",
    "    \"\"\"\n",
    "    ticker_list=np.sort(list(set(framework['Ticker'])))    #Arranging Elements Alphabhetically \n",
    "    return list(ticker_list)\n",
    "\n",
    "ticker_list=get_tickers(framework=option_contracts_framework_2023)\n",
    "print(\"Option Contracts Framework 2023 has a total of \", len(ticker_list),\" Tickers\")\n",
    "print(\"\\nExample of Ticker List : -\")\n",
    "ticker_list[0:10]"
   ]
  },
  {
   "cell_type": "markdown",
   "metadata": {},
   "source": [
    "We can extract the Option Chain Frame work for a particular stock.Index by filtering the option_contract_dataframe and sort them in ascending order by Expiry Dates\n"
   ]
  },
  {
   "cell_type": "code",
   "execution_count": 130,
   "metadata": {},
   "outputs": [
    {
     "data": {
      "text/html": [
       "<div>\n",
       "<style scoped>\n",
       "    .dataframe tbody tr th:only-of-type {\n",
       "        vertical-align: middle;\n",
       "    }\n",
       "\n",
       "    .dataframe tbody tr th {\n",
       "        vertical-align: top;\n",
       "    }\n",
       "\n",
       "    .dataframe thead th {\n",
       "        text-align: right;\n",
       "    }\n",
       "</style>\n",
       "<table border=\"1\" class=\"dataframe\">\n",
       "  <thead>\n",
       "    <tr style=\"text-align: right;\">\n",
       "      <th></th>\n",
       "      <th>Contract Names</th>\n",
       "      <th>Ticker</th>\n",
       "      <th>Expiry Date</th>\n",
       "      <th>Strike</th>\n",
       "      <th>Type</th>\n",
       "      <th>Asset Type</th>\n",
       "    </tr>\n",
       "  </thead>\n",
       "  <tbody>\n",
       "    <tr>\n",
       "      <th>103129</th>\n",
       "      <td>AMBUJACEM230125590CE</td>\n",
       "      <td>AMBUJACEM</td>\n",
       "      <td>2023-01-25</td>\n",
       "      <td>590</td>\n",
       "      <td>CE</td>\n",
       "      <td>Stocks/Index</td>\n",
       "    </tr>\n",
       "    <tr>\n",
       "      <th>103115</th>\n",
       "      <td>AMBUJACEM230125550PE</td>\n",
       "      <td>AMBUJACEM</td>\n",
       "      <td>2023-01-25</td>\n",
       "      <td>550</td>\n",
       "      <td>PE</td>\n",
       "      <td>Stocks/Index</td>\n",
       "    </tr>\n",
       "    <tr>\n",
       "      <th>103113</th>\n",
       "      <td>AMBUJACEM230125545PE</td>\n",
       "      <td>AMBUJACEM</td>\n",
       "      <td>2023-01-25</td>\n",
       "      <td>545</td>\n",
       "      <td>PE</td>\n",
       "      <td>Stocks/Index</td>\n",
       "    </tr>\n",
       "    <tr>\n",
       "      <th>103112</th>\n",
       "      <td>AMBUJACEM230125545CE</td>\n",
       "      <td>AMBUJACEM</td>\n",
       "      <td>2023-01-25</td>\n",
       "      <td>545</td>\n",
       "      <td>CE</td>\n",
       "      <td>Stocks/Index</td>\n",
       "    </tr>\n",
       "    <tr>\n",
       "      <th>103111</th>\n",
       "      <td>AMBUJACEM230125540PE</td>\n",
       "      <td>AMBUJACEM</td>\n",
       "      <td>2023-01-25</td>\n",
       "      <td>540</td>\n",
       "      <td>PE</td>\n",
       "      <td>Stocks/Index</td>\n",
       "    </tr>\n",
       "    <tr>\n",
       "      <th>...</th>\n",
       "      <td>...</td>\n",
       "      <td>...</td>\n",
       "      <td>...</td>\n",
       "      <td>...</td>\n",
       "      <td>...</td>\n",
       "      <td>...</td>\n",
       "    </tr>\n",
       "    <tr>\n",
       "      <th>49854</th>\n",
       "      <td>AMBUJACEM240125465PE</td>\n",
       "      <td>AMBUJACEM</td>\n",
       "      <td>2024-01-25</td>\n",
       "      <td>465</td>\n",
       "      <td>PE</td>\n",
       "      <td>Stocks/Index</td>\n",
       "    </tr>\n",
       "    <tr>\n",
       "      <th>49861</th>\n",
       "      <td>AMBUJACEM240125485PE</td>\n",
       "      <td>AMBUJACEM</td>\n",
       "      <td>2024-01-25</td>\n",
       "      <td>485</td>\n",
       "      <td>PE</td>\n",
       "      <td>Stocks/Index</td>\n",
       "    </tr>\n",
       "    <tr>\n",
       "      <th>49903</th>\n",
       "      <td>AMBUJACEM240229590CE</td>\n",
       "      <td>AMBUJACEM</td>\n",
       "      <td>2024-02-29</td>\n",
       "      <td>590</td>\n",
       "      <td>CE</td>\n",
       "      <td>Stocks/Index</td>\n",
       "    </tr>\n",
       "    <tr>\n",
       "      <th>49901</th>\n",
       "      <td>AMBUJACEM240229450PE</td>\n",
       "      <td>AMBUJACEM</td>\n",
       "      <td>2024-02-29</td>\n",
       "      <td>450</td>\n",
       "      <td>PE</td>\n",
       "      <td>Stocks/Index</td>\n",
       "    </tr>\n",
       "    <tr>\n",
       "      <th>49902</th>\n",
       "      <td>AMBUJACEM240229550CE</td>\n",
       "      <td>AMBUJACEM</td>\n",
       "      <td>2024-02-29</td>\n",
       "      <td>550</td>\n",
       "      <td>CE</td>\n",
       "      <td>Stocks/Index</td>\n",
       "    </tr>\n",
       "  </tbody>\n",
       "</table>\n",
       "<p>1344 rows × 6 columns</p>\n",
       "</div>"
      ],
      "text/plain": [
       "              Contract Names     Ticker Expiry Date Strike Type    Asset Type\n",
       "103129  AMBUJACEM230125590CE  AMBUJACEM  2023-01-25    590   CE  Stocks/Index\n",
       "103115  AMBUJACEM230125550PE  AMBUJACEM  2023-01-25    550   PE  Stocks/Index\n",
       "103113  AMBUJACEM230125545PE  AMBUJACEM  2023-01-25    545   PE  Stocks/Index\n",
       "103112  AMBUJACEM230125545CE  AMBUJACEM  2023-01-25    545   CE  Stocks/Index\n",
       "103111  AMBUJACEM230125540PE  AMBUJACEM  2023-01-25    540   PE  Stocks/Index\n",
       "...                      ...        ...         ...    ...  ...           ...\n",
       "49854   AMBUJACEM240125465PE  AMBUJACEM  2024-01-25    465   PE  Stocks/Index\n",
       "49861   AMBUJACEM240125485PE  AMBUJACEM  2024-01-25    485   PE  Stocks/Index\n",
       "49903   AMBUJACEM240229590CE  AMBUJACEM  2024-02-29    590   CE  Stocks/Index\n",
       "49901   AMBUJACEM240229450PE  AMBUJACEM  2024-02-29    450   PE  Stocks/Index\n",
       "49902   AMBUJACEM240229550CE  AMBUJACEM  2024-02-29    550   CE  Stocks/Index\n",
       "\n",
       "[1344 rows x 6 columns]"
      ]
     },
     "execution_count": 130,
     "metadata": {},
     "output_type": "execute_result"
    }
   ],
   "source": [
    "#For Example \n",
    "ticker='AMBUJACEM' #Any ticker from the ticker list can be choosen\n",
    "option_contracts_framework_2023[option_contracts_framework_2023['Ticker']==ticker].sort_values(by='Expiry Date')"
   ]
  },
  {
   "cell_type": "markdown",
   "metadata": {},
   "source": [
    "We can see form above example that the Expiry Dates of Feb 2024 are also included. We can Filter  results to 2023 only. \n",
    "In code below, we will Extract list of all Expiry Dates for a particular ticker and Filtering Expiry Dates for Year 2023\n",
    "\n"
   ]
  },
  {
   "cell_type": "code",
   "execution_count": 131,
   "metadata": {},
   "outputs": [
    {
     "data": {
      "text/plain": [
       "[Timestamp('2023-01-25 00:00:00'),\n",
       " Timestamp('2023-02-23 00:00:00'),\n",
       " Timestamp('2023-03-29 00:00:00'),\n",
       " Timestamp('2023-04-27 00:00:00'),\n",
       " Timestamp('2023-05-25 00:00:00'),\n",
       " Timestamp('2023-06-29 00:00:00'),\n",
       " Timestamp('2023-07-27 00:00:00'),\n",
       " Timestamp('2023-08-31 00:00:00'),\n",
       " Timestamp('2023-09-28 00:00:00'),\n",
       " Timestamp('2023-10-26 00:00:00'),\n",
       " Timestamp('2023-11-30 00:00:00'),\n",
       " Timestamp('2023-12-28 00:00:00')]"
      ]
     },
     "execution_count": 131,
     "metadata": {},
     "output_type": "execute_result"
    }
   ],
   "source": [
    "def get_expiry(ticker,framework,Year=[2023],filter_by_year=True):\n",
    "    # Extract list of all Expiry Dates for a particular ticker\n",
    "    expiry_dates_list=list(set(framework[framework['Ticker']==ticker]['Expiry Date']))\n",
    "    if filter_by_year:\n",
    "        # Filtering Expiry Dates for Year 2023\n",
    "        expiry_dates_list = [date for date in expiry_dates_list if date.year == Year[0]]\n",
    "        return np.sort(expiry_dates_list).tolist()\n",
    "get_expiry(ticker=ticker_list[0],framework=option_contracts_framework_2023)\n",
    "\n",
    "#These are the list of expiries for given ticker for the Year 2023"
   ]
  },
  {
   "cell_type": "markdown",
   "metadata": {},
   "source": [
    "Till now we have Extracted all the information related to option/tickers/expiry dates.\n",
    "\n",
    "In code below , we will build Option Chain for all strikes for a given Expiry Series without the premium values. \n",
    "This will not be used in final code, but it helps visually to undertand the process"
   ]
  },
  {
   "cell_type": "code",
   "execution_count": 132,
   "metadata": {},
   "outputs": [
    {
     "data": {
      "text/html": [
       "<div>\n",
       "<style scoped>\n",
       "    .dataframe tbody tr th:only-of-type {\n",
       "        vertical-align: middle;\n",
       "    }\n",
       "\n",
       "    .dataframe tbody tr th {\n",
       "        vertical-align: top;\n",
       "    }\n",
       "\n",
       "    .dataframe thead th {\n",
       "        text-align: right;\n",
       "    }\n",
       "</style>\n",
       "<table border=\"1\" class=\"dataframe\">\n",
       "  <thead>\n",
       "    <tr style=\"text-align: right;\">\n",
       "      <th></th>\n",
       "      <th>Expiry Dates</th>\n",
       "      <th>CE</th>\n",
       "      <th>Call Contracts</th>\n",
       "      <th>Strike</th>\n",
       "      <th>Put Contracts</th>\n",
       "      <th>PE</th>\n",
       "    </tr>\n",
       "  </thead>\n",
       "  <tbody>\n",
       "    <tr>\n",
       "      <th>0</th>\n",
       "      <td>2023-01-25</td>\n",
       "      <td>CE</td>\n",
       "      <td>AARTIIND230125500CE</td>\n",
       "      <td>500</td>\n",
       "      <td>AARTIIND230125500PE</td>\n",
       "      <td>PE</td>\n",
       "    </tr>\n",
       "    <tr>\n",
       "      <th>1</th>\n",
       "      <td>2023-01-25</td>\n",
       "      <td>CE</td>\n",
       "      <td>AARTIIND230125540CE</td>\n",
       "      <td>540</td>\n",
       "      <td>AARTIIND230125540PE</td>\n",
       "      <td>PE</td>\n",
       "    </tr>\n",
       "    <tr>\n",
       "      <th>2</th>\n",
       "      <td>2023-01-25</td>\n",
       "      <td>CE</td>\n",
       "      <td>AARTIIND230125550CE</td>\n",
       "      <td>550</td>\n",
       "      <td>AARTIIND230125550PE</td>\n",
       "      <td>PE</td>\n",
       "    </tr>\n",
       "    <tr>\n",
       "      <th>3</th>\n",
       "      <td>2023-01-25</td>\n",
       "      <td>CE</td>\n",
       "      <td>AARTIIND230125560CE</td>\n",
       "      <td>560</td>\n",
       "      <td>AARTIIND230125560PE</td>\n",
       "      <td>PE</td>\n",
       "    </tr>\n",
       "    <tr>\n",
       "      <th>4</th>\n",
       "      <td>2023-01-25</td>\n",
       "      <td>CE</td>\n",
       "      <td>AARTIIND230125570CE</td>\n",
       "      <td>570</td>\n",
       "      <td>AARTIIND230125570PE</td>\n",
       "      <td>PE</td>\n",
       "    </tr>\n",
       "    <tr>\n",
       "      <th>5</th>\n",
       "      <td>2023-01-25</td>\n",
       "      <td>CE</td>\n",
       "      <td>AARTIIND230125580CE</td>\n",
       "      <td>580</td>\n",
       "      <td>AARTIIND230125580PE</td>\n",
       "      <td>PE</td>\n",
       "    </tr>\n",
       "    <tr>\n",
       "      <th>6</th>\n",
       "      <td>2023-01-25</td>\n",
       "      <td>CE</td>\n",
       "      <td>AARTIIND230125590CE</td>\n",
       "      <td>590</td>\n",
       "      <td>AARTIIND230125590PE</td>\n",
       "      <td>PE</td>\n",
       "    </tr>\n",
       "    <tr>\n",
       "      <th>7</th>\n",
       "      <td>2023-01-25</td>\n",
       "      <td>CE</td>\n",
       "      <td>AARTIIND230125600CE</td>\n",
       "      <td>600</td>\n",
       "      <td>AARTIIND230125600PE</td>\n",
       "      <td>PE</td>\n",
       "    </tr>\n",
       "    <tr>\n",
       "      <th>8</th>\n",
       "      <td>2023-01-25</td>\n",
       "      <td>CE</td>\n",
       "      <td>AARTIIND230125610CE</td>\n",
       "      <td>610</td>\n",
       "      <td>AARTIIND230125610PE</td>\n",
       "      <td>PE</td>\n",
       "    </tr>\n",
       "    <tr>\n",
       "      <th>9</th>\n",
       "      <td>2023-01-25</td>\n",
       "      <td>CE</td>\n",
       "      <td>AARTIIND230125620CE</td>\n",
       "      <td>620</td>\n",
       "      <td>AARTIIND230125620PE</td>\n",
       "      <td>PE</td>\n",
       "    </tr>\n",
       "    <tr>\n",
       "      <th>10</th>\n",
       "      <td>2023-01-25</td>\n",
       "      <td>CE</td>\n",
       "      <td>AARTIIND230125630CE</td>\n",
       "      <td>630</td>\n",
       "      <td>AARTIIND230125630PE</td>\n",
       "      <td>PE</td>\n",
       "    </tr>\n",
       "    <tr>\n",
       "      <th>11</th>\n",
       "      <td>2023-01-25</td>\n",
       "      <td>CE</td>\n",
       "      <td>AARTIIND230125640CE</td>\n",
       "      <td>640</td>\n",
       "      <td>AARTIIND230125640PE</td>\n",
       "      <td>PE</td>\n",
       "    </tr>\n",
       "    <tr>\n",
       "      <th>12</th>\n",
       "      <td>2023-01-25</td>\n",
       "      <td>CE</td>\n",
       "      <td>AARTIIND230125650CE</td>\n",
       "      <td>650</td>\n",
       "      <td>AARTIIND230125650PE</td>\n",
       "      <td>PE</td>\n",
       "    </tr>\n",
       "    <tr>\n",
       "      <th>13</th>\n",
       "      <td>2023-01-25</td>\n",
       "      <td>CE</td>\n",
       "      <td>AARTIIND230125660CE</td>\n",
       "      <td>660</td>\n",
       "      <td>AARTIIND230125660PE</td>\n",
       "      <td>PE</td>\n",
       "    </tr>\n",
       "    <tr>\n",
       "      <th>14</th>\n",
       "      <td>2023-01-25</td>\n",
       "      <td>CE</td>\n",
       "      <td>AARTIIND230125670CE</td>\n",
       "      <td>670</td>\n",
       "      <td>AARTIIND230125670PE</td>\n",
       "      <td>PE</td>\n",
       "    </tr>\n",
       "    <tr>\n",
       "      <th>15</th>\n",
       "      <td>2023-01-25</td>\n",
       "      <td>CE</td>\n",
       "      <td>AARTIIND230125680CE</td>\n",
       "      <td>680</td>\n",
       "      <td>AARTIIND230125680PE</td>\n",
       "      <td>PE</td>\n",
       "    </tr>\n",
       "    <tr>\n",
       "      <th>16</th>\n",
       "      <td>2023-01-25</td>\n",
       "      <td>CE</td>\n",
       "      <td>AARTIIND230125690CE</td>\n",
       "      <td>690</td>\n",
       "      <td>AARTIIND230125690PE</td>\n",
       "      <td>PE</td>\n",
       "    </tr>\n",
       "    <tr>\n",
       "      <th>17</th>\n",
       "      <td>2023-01-25</td>\n",
       "      <td>CE</td>\n",
       "      <td>AARTIIND230125700CE</td>\n",
       "      <td>700</td>\n",
       "      <td>AARTIIND230125700PE</td>\n",
       "      <td>PE</td>\n",
       "    </tr>\n",
       "    <tr>\n",
       "      <th>18</th>\n",
       "      <td>2023-01-25</td>\n",
       "      <td>CE</td>\n",
       "      <td>AARTIIND230125750CE</td>\n",
       "      <td>750</td>\n",
       "      <td>AARTIIND230125750PE</td>\n",
       "      <td>PE</td>\n",
       "    </tr>\n",
       "    <tr>\n",
       "      <th>19</th>\n",
       "      <td>2023-01-25</td>\n",
       "      <td>CE</td>\n",
       "      <td>AARTIIND230125830CE</td>\n",
       "      <td>830</td>\n",
       "      <td>AARTIIND230125830PE</td>\n",
       "      <td>PE</td>\n",
       "    </tr>\n",
       "  </tbody>\n",
       "</table>\n",
       "</div>"
      ],
      "text/plain": [
       "   Expiry Dates  CE       Call Contracts Strike        Put Contracts  PE\n",
       "0    2023-01-25  CE  AARTIIND230125500CE    500  AARTIIND230125500PE  PE\n",
       "1    2023-01-25  CE  AARTIIND230125540CE    540  AARTIIND230125540PE  PE\n",
       "2    2023-01-25  CE  AARTIIND230125550CE    550  AARTIIND230125550PE  PE\n",
       "3    2023-01-25  CE  AARTIIND230125560CE    560  AARTIIND230125560PE  PE\n",
       "4    2023-01-25  CE  AARTIIND230125570CE    570  AARTIIND230125570PE  PE\n",
       "5    2023-01-25  CE  AARTIIND230125580CE    580  AARTIIND230125580PE  PE\n",
       "6    2023-01-25  CE  AARTIIND230125590CE    590  AARTIIND230125590PE  PE\n",
       "7    2023-01-25  CE  AARTIIND230125600CE    600  AARTIIND230125600PE  PE\n",
       "8    2023-01-25  CE  AARTIIND230125610CE    610  AARTIIND230125610PE  PE\n",
       "9    2023-01-25  CE  AARTIIND230125620CE    620  AARTIIND230125620PE  PE\n",
       "10   2023-01-25  CE  AARTIIND230125630CE    630  AARTIIND230125630PE  PE\n",
       "11   2023-01-25  CE  AARTIIND230125640CE    640  AARTIIND230125640PE  PE\n",
       "12   2023-01-25  CE  AARTIIND230125650CE    650  AARTIIND230125650PE  PE\n",
       "13   2023-01-25  CE  AARTIIND230125660CE    660  AARTIIND230125660PE  PE\n",
       "14   2023-01-25  CE  AARTIIND230125670CE    670  AARTIIND230125670PE  PE\n",
       "15   2023-01-25  CE  AARTIIND230125680CE    680  AARTIIND230125680PE  PE\n",
       "16   2023-01-25  CE  AARTIIND230125690CE    690  AARTIIND230125690PE  PE\n",
       "17   2023-01-25  CE  AARTIIND230125700CE    700  AARTIIND230125700PE  PE\n",
       "18   2023-01-25  CE  AARTIIND230125750CE    750  AARTIIND230125750PE  PE\n",
       "19   2023-01-25  CE  AARTIIND230125830CE    830  AARTIIND230125830PE  PE"
      ]
     },
     "execution_count": 132,
     "metadata": {},
     "output_type": "execute_result"
    }
   ],
   "source": [
    "def option_chain(ticker,expiry,framework):\n",
    "    # Filter dataframe with ticker symbol and Expiry Date\n",
    "    df=framework[(framework['Ticker'] == ticker) & (framework['Expiry Date'] == expiry)]\n",
    "    # Extracting the PE Side and CE Side of the DataFrame to Merge them Horizontally on the Strike Price\n",
    "    df_PE=df[df['Type']=='PE']\n",
    "    df_CE=df[df['Type']=='CE']\n",
    "    df=pd.merge(df_CE,df_PE,on='Strike')\n",
    "    # Removing, Renaming and Re-Arranging the Columns to build Option Chain Structure\n",
    "\n",
    "    #Removing unncessary columns \n",
    "    df.drop(['Ticker_x','Asset Type_x','Ticker_y','Expiry Date_y','Asset Type_y'],axis=1,inplace=True)\n",
    "    #Renaming the columns\n",
    "    df.rename(columns={\"Contract Names_x\":\"Call Contracts\",\n",
    "                        \"Expiry Date_x\":\"Expiry Dates\",\n",
    "                        \"Type_x\":\"CE\",\n",
    "                        \"Contract Names_y\":\"Put Contracts\",\n",
    "                        \"Type_y\":\"PE\"},inplace=True)\n",
    "    #Rearranging the columns\n",
    "    df=df[['Expiry Dates','CE','Call Contracts','Strike','Put Contracts','PE']]\n",
    "    return df\n",
    "\n",
    "# This function build option chains of a ticker for a given expiry and option chain framework\n",
    "df= option_chain(ticker=ticker_list[0],\n",
    "             expiry=get_expiry(ticker=ticker_list[0],framework=option_contracts_framework_2023)[0],\n",
    "             framework=option_contracts_framework_2023)\n",
    "df"
   ]
  },
  {
   "cell_type": "markdown",
   "metadata": {},
   "source": [
    "In above code, We have build Option chain for a given Ticker+Expiry combination.\n",
    "\n",
    "As per the  Trading Strategy, We will use the 4 Option Contracts to build the Iron Condor\n",
    "\n",
    "The Selection of 4 options are based on the ATM Strike Price of the Ticker at the Start of the New Expiry Series. We will short OTM PE/CE options 3 strike away from ATM Strike Price and Long DOTM PE/CE 6 strike away from the ATM Strike Price. \n",
    "\n",
    "After Selcting the Options Contracts based on above strategy, We will extract the option contract Data from the nested Folders - > This saves memory\n",
    "\n",
    "Also the Folder Structures is such that , the option contract even if monthly extends beyond 1 month, since most buying happens at the inital stages to overcome the theta decay. To overcome this issue, we use following algorithm \n",
    "\n",
    "- Select the option contract.\n",
    "- Look for the .csv file having option contract name in all folder ( Can be optimised by transerving in a limited range of folder)\n",
    "- Concatenate Vertically all the .csv files present in different folders\n",
    "\n",
    "\n",
    "\n",
    "**The historical data for different contracts have irregular timestamps as the data is of 1 minute and their order placements are independent of each other.**\n",
    "**There are various method to solve this issue**\n",
    "\n",
    "**1. Either we concatenate on similar time stamp, but this will remove important data at head and tail end**\n",
    "\n",
    "**2. Or we resample the data to higher time stamp and then concatenate.**\n",
    "\n",
    "**We will go with second option**\n",
    "**We will focus only on the close price of the premiums and remove other rows**"
   ]
  },
  {
   "cell_type": "code",
   "execution_count": 133,
   "metadata": {},
   "outputs": [],
   "source": [
    "def list_month_folders(root_folder):\n",
    "    \"\"\"\n",
    "    This Fucntion will find the list of all the folders having monthly tick by tick data\n",
    "    The struture of folders are assumed to be\n",
    "    - 2023\n",
    "        - Jan 2023\n",
    "            - abc1.csv\n",
    "            - abc2.csv\n",
    "            - abc3.csv  \n",
    "        - Feb 2023 \n",
    "        ....\n",
    "        ....\n",
    "        - Dec 2023 \n",
    "    \"\"\"\n",
    "    folders = []                                        # for storing folder paths \n",
    "    for item in os.listdir(root_folder):                \n",
    "        # Folder structure has 2 level, root folder path and folder inside the root folder, so single iteration is enough\n",
    "        item_path = os.path.join(root_folder, item)\n",
    "        # if os.path.isdir(item_path):                  # Check \n",
    "        folders.append(item_path)\n",
    "    return folders\n",
    "\n",
    "\n",
    "def get_data(root_folder, filename):\n",
    "    \"\"\"\n",
    "    This function trasverse all the nested folders and searches for the contract name and concat csv files with same nameon a single dataframe object. \n",
    "    \n",
    "    \"\"\"\n",
    "    filename=filename+'.csv'\n",
    "    month_folders=list_month_folders(root_folder)           # Saving Folder names\n",
    "    # print(month_folders)                                  # This is used to see the output of months folders path \n",
    "\n",
    "    df=pd.DataFrame()\n",
    "    for month_folder in month_folders:\n",
    "        for foldername, _, filenames in os.walk(month_folder):\n",
    "            if filename in filenames:\n",
    "                file_path = os.path.join(foldername, filename)  # Build path for all .csv files having input contract name\n",
    "                with open(file_path, 'r') as file:\n",
    "                    data = pd.read_csv(file)\n",
    "                    # Issue - > After merger only common datetime index remains. Can be inproved later stage.\n",
    "                    df=pd.concat([df,data],axis=0)              # concat all csv files with input contract name \n",
    "\n",
    "    df.rename(columns={'<ticker>':'Ticker',                     # rename the columns of Datframe. \n",
    "                       '<date>':'Date',\n",
    "                       '<time>':'Time',\n",
    "                       '<open>':'Open',\n",
    "                       '<high>':'High',\n",
    "                       '<low>':'Low',\n",
    "                       '<close>':'Close',\n",
    "                       '<volume>':'Volume',\n",
    "                       '<o/i>':'OI'}\n",
    "                       ,inplace=True)\n",
    "    df['Datetime'] = pd.to_datetime(df['Date'] + ' ' + df['Time'],format='mixed')   # Build Datetime column to be used as Index as data is of 1 minute TimeFrame - > Both Date and Time are important. \n",
    "    df.set_index(['Datetime'],inplace=True)\n",
    "    df.sort_index(inplace=True)\n",
    "\n",
    "    # Resampling the Data to 15 minute TimeFrame, which is used by Institutional Trading\n",
    "    df=df.resample('15T').last()                                # Taking the Closing Price in 15 minute TimeFrame\n",
    "    return df\n"
   ]
  },
  {
   "cell_type": "code",
   "execution_count": 134,
   "metadata": {},
   "outputs": [
    {
     "data": {
      "text/html": [
       "<div>\n",
       "<style scoped>\n",
       "    .dataframe tbody tr th:only-of-type {\n",
       "        vertical-align: middle;\n",
       "    }\n",
       "\n",
       "    .dataframe tbody tr th {\n",
       "        vertical-align: top;\n",
       "    }\n",
       "\n",
       "    .dataframe thead th {\n",
       "        text-align: right;\n",
       "    }\n",
       "</style>\n",
       "<table border=\"1\" class=\"dataframe\">\n",
       "  <thead>\n",
       "    <tr style=\"text-align: right;\">\n",
       "      <th></th>\n",
       "      <th>Ticker</th>\n",
       "      <th>Date</th>\n",
       "      <th>Time</th>\n",
       "      <th>Open</th>\n",
       "      <th>High</th>\n",
       "      <th>Low</th>\n",
       "      <th>Close</th>\n",
       "      <th>Volume</th>\n",
       "      <th>&lt;o/i&gt;</th>\n",
       "    </tr>\n",
       "    <tr>\n",
       "      <th>Datetime</th>\n",
       "      <th></th>\n",
       "      <th></th>\n",
       "      <th></th>\n",
       "      <th></th>\n",
       "      <th></th>\n",
       "      <th></th>\n",
       "      <th></th>\n",
       "      <th></th>\n",
       "      <th></th>\n",
       "    </tr>\n",
       "  </thead>\n",
       "  <tbody>\n",
       "    <tr>\n",
       "      <th>2023-02-01 09:15:00</th>\n",
       "      <td>CHAMBLFERT230223315PE</td>\n",
       "      <td>02/01/2023</td>\n",
       "      <td>09:29:00</td>\n",
       "      <td>12.10</td>\n",
       "      <td>12.10</td>\n",
       "      <td>12.00</td>\n",
       "      <td>12.00</td>\n",
       "      <td>9000.0</td>\n",
       "      <td>105000.0</td>\n",
       "    </tr>\n",
       "    <tr>\n",
       "      <th>2023-02-01 09:30:00</th>\n",
       "      <td>CHAMBLFERT230223315PE</td>\n",
       "      <td>02/01/2023</td>\n",
       "      <td>09:41:00</td>\n",
       "      <td>12.05</td>\n",
       "      <td>12.05</td>\n",
       "      <td>12.05</td>\n",
       "      <td>12.05</td>\n",
       "      <td>49500.0</td>\n",
       "      <td>174000.0</td>\n",
       "    </tr>\n",
       "    <tr>\n",
       "      <th>2023-02-01 09:45:00</th>\n",
       "      <td>CHAMBLFERT230223315PE</td>\n",
       "      <td>02/01/2023</td>\n",
       "      <td>09:58:00</td>\n",
       "      <td>13.20</td>\n",
       "      <td>13.20</td>\n",
       "      <td>13.20</td>\n",
       "      <td>13.20</td>\n",
       "      <td>9000.0</td>\n",
       "      <td>240000.0</td>\n",
       "    </tr>\n",
       "    <tr>\n",
       "      <th>2023-02-01 10:00:00</th>\n",
       "      <td>CHAMBLFERT230223315PE</td>\n",
       "      <td>02/01/2023</td>\n",
       "      <td>10:10:00</td>\n",
       "      <td>12.30</td>\n",
       "      <td>12.30</td>\n",
       "      <td>12.30</td>\n",
       "      <td>12.30</td>\n",
       "      <td>1500.0</td>\n",
       "      <td>261000.0</td>\n",
       "    </tr>\n",
       "    <tr>\n",
       "      <th>2023-02-01 10:15:00</th>\n",
       "      <td>None</td>\n",
       "      <td>None</td>\n",
       "      <td>None</td>\n",
       "      <td>NaN</td>\n",
       "      <td>NaN</td>\n",
       "      <td>NaN</td>\n",
       "      <td>NaN</td>\n",
       "      <td>NaN</td>\n",
       "      <td>NaN</td>\n",
       "    </tr>\n",
       "    <tr>\n",
       "      <th>...</th>\n",
       "      <td>...</td>\n",
       "      <td>...</td>\n",
       "      <td>...</td>\n",
       "      <td>...</td>\n",
       "      <td>...</td>\n",
       "      <td>...</td>\n",
       "      <td>...</td>\n",
       "      <td>...</td>\n",
       "      <td>...</td>\n",
       "    </tr>\n",
       "    <tr>\n",
       "      <th>2023-02-23 13:30:00</th>\n",
       "      <td>None</td>\n",
       "      <td>None</td>\n",
       "      <td>None</td>\n",
       "      <td>NaN</td>\n",
       "      <td>NaN</td>\n",
       "      <td>NaN</td>\n",
       "      <td>NaN</td>\n",
       "      <td>NaN</td>\n",
       "      <td>NaN</td>\n",
       "    </tr>\n",
       "    <tr>\n",
       "      <th>2023-02-23 13:45:00</th>\n",
       "      <td>None</td>\n",
       "      <td>None</td>\n",
       "      <td>None</td>\n",
       "      <td>NaN</td>\n",
       "      <td>NaN</td>\n",
       "      <td>NaN</td>\n",
       "      <td>NaN</td>\n",
       "      <td>NaN</td>\n",
       "      <td>NaN</td>\n",
       "    </tr>\n",
       "    <tr>\n",
       "      <th>2023-02-23 14:00:00</th>\n",
       "      <td>CHAMBLFERT230223315PE</td>\n",
       "      <td>02/23/2023</td>\n",
       "      <td>14:00:00</td>\n",
       "      <td>37.95</td>\n",
       "      <td>37.95</td>\n",
       "      <td>37.95</td>\n",
       "      <td>37.95</td>\n",
       "      <td>1500.0</td>\n",
       "      <td>51000.0</td>\n",
       "    </tr>\n",
       "    <tr>\n",
       "      <th>2023-02-23 14:15:00</th>\n",
       "      <td>None</td>\n",
       "      <td>None</td>\n",
       "      <td>None</td>\n",
       "      <td>NaN</td>\n",
       "      <td>NaN</td>\n",
       "      <td>NaN</td>\n",
       "      <td>NaN</td>\n",
       "      <td>NaN</td>\n",
       "      <td>NaN</td>\n",
       "    </tr>\n",
       "    <tr>\n",
       "      <th>2023-02-23 14:30:00</th>\n",
       "      <td>CHAMBLFERT230223315PE</td>\n",
       "      <td>02/23/2023</td>\n",
       "      <td>14:37:00</td>\n",
       "      <td>37.95</td>\n",
       "      <td>37.95</td>\n",
       "      <td>37.95</td>\n",
       "      <td>37.95</td>\n",
       "      <td>1500.0</td>\n",
       "      <td>49500.0</td>\n",
       "    </tr>\n",
       "  </tbody>\n",
       "</table>\n",
       "<p>2134 rows × 9 columns</p>\n",
       "</div>"
      ],
      "text/plain": [
       "                                    Ticker        Date      Time   Open  \\\n",
       "Datetime                                                                  \n",
       "2023-02-01 09:15:00  CHAMBLFERT230223315PE  02/01/2023  09:29:00  12.10   \n",
       "2023-02-01 09:30:00  CHAMBLFERT230223315PE  02/01/2023  09:41:00  12.05   \n",
       "2023-02-01 09:45:00  CHAMBLFERT230223315PE  02/01/2023  09:58:00  13.20   \n",
       "2023-02-01 10:00:00  CHAMBLFERT230223315PE  02/01/2023  10:10:00  12.30   \n",
       "2023-02-01 10:15:00                   None        None      None    NaN   \n",
       "...                                    ...         ...       ...    ...   \n",
       "2023-02-23 13:30:00                   None        None      None    NaN   \n",
       "2023-02-23 13:45:00                   None        None      None    NaN   \n",
       "2023-02-23 14:00:00  CHAMBLFERT230223315PE  02/23/2023  14:00:00  37.95   \n",
       "2023-02-23 14:15:00                   None        None      None    NaN   \n",
       "2023-02-23 14:30:00  CHAMBLFERT230223315PE  02/23/2023  14:37:00  37.95   \n",
       "\n",
       "                      High    Low  Close   Volume    <o/i>   \n",
       "Datetime                                                     \n",
       "2023-02-01 09:15:00  12.10  12.00  12.00   9000.0  105000.0  \n",
       "2023-02-01 09:30:00  12.05  12.05  12.05  49500.0  174000.0  \n",
       "2023-02-01 09:45:00  13.20  13.20  13.20   9000.0  240000.0  \n",
       "2023-02-01 10:00:00  12.30  12.30  12.30   1500.0  261000.0  \n",
       "2023-02-01 10:15:00    NaN    NaN    NaN      NaN       NaN  \n",
       "...                    ...    ...    ...      ...       ...  \n",
       "2023-02-23 13:30:00    NaN    NaN    NaN      NaN       NaN  \n",
       "2023-02-23 13:45:00    NaN    NaN    NaN      NaN       NaN  \n",
       "2023-02-23 14:00:00  37.95  37.95  37.95   1500.0   51000.0  \n",
       "2023-02-23 14:15:00    NaN    NaN    NaN      NaN       NaN  \n",
       "2023-02-23 14:30:00  37.95  37.95  37.95   1500.0   49500.0  \n",
       "\n",
       "[2134 rows x 9 columns]"
      ]
     },
     "execution_count": 134,
     "metadata": {},
     "output_type": "execute_result"
    }
   ],
   "source": [
    "# EXAMPLE OF USE OF get_data Function\n",
    "\n",
    "root_folder = 'C:/Users/paras/Downloads/2023/'\n",
    "filename = 'CHAMBLFERT230223315PE'\n",
    "\n",
    "x=get_data(root_folder=root_folder,filename=filename)  # Hisotircal Data of contract = 'CHAMBLFERT230223315PE' \n",
    "x"
   ]
  },
  {
   "cell_type": "markdown",
   "metadata": {},
   "source": [
    "We have method to build option chain and method to get the data, We will now build Iron Condor"
   ]
  },
  {
   "cell_type": "code",
   "execution_count": 135,
   "metadata": {},
   "outputs": [
    {
     "data": {
      "text/html": [
       "<div>\n",
       "<style scoped>\n",
       "    .dataframe tbody tr th:only-of-type {\n",
       "        vertical-align: middle;\n",
       "    }\n",
       "\n",
       "    .dataframe tbody tr th {\n",
       "        vertical-align: top;\n",
       "    }\n",
       "\n",
       "    .dataframe thead th {\n",
       "        text-align: right;\n",
       "    }\n",
       "</style>\n",
       "<table border=\"1\" class=\"dataframe\">\n",
       "  <thead>\n",
       "    <tr style=\"text-align: right;\">\n",
       "      <th></th>\n",
       "      <th>Expiry Dates</th>\n",
       "      <th>CE</th>\n",
       "      <th>Call Contracts</th>\n",
       "      <th>Strike</th>\n",
       "      <th>Put Contracts</th>\n",
       "      <th>PE</th>\n",
       "    </tr>\n",
       "  </thead>\n",
       "  <tbody>\n",
       "    <tr>\n",
       "      <th>0</th>\n",
       "      <td>2023-01-25</td>\n",
       "      <td>CE</td>\n",
       "      <td>AARTIIND230125500CE</td>\n",
       "      <td>500</td>\n",
       "      <td>AARTIIND230125500PE</td>\n",
       "      <td>PE</td>\n",
       "    </tr>\n",
       "    <tr>\n",
       "      <th>1</th>\n",
       "      <td>2023-01-25</td>\n",
       "      <td>CE</td>\n",
       "      <td>AARTIIND230125540CE</td>\n",
       "      <td>540</td>\n",
       "      <td>AARTIIND230125540PE</td>\n",
       "      <td>PE</td>\n",
       "    </tr>\n",
       "    <tr>\n",
       "      <th>2</th>\n",
       "      <td>2023-01-25</td>\n",
       "      <td>CE</td>\n",
       "      <td>AARTIIND230125550CE</td>\n",
       "      <td>550</td>\n",
       "      <td>AARTIIND230125550PE</td>\n",
       "      <td>PE</td>\n",
       "    </tr>\n",
       "    <tr>\n",
       "      <th>3</th>\n",
       "      <td>2023-01-25</td>\n",
       "      <td>CE</td>\n",
       "      <td>AARTIIND230125560CE</td>\n",
       "      <td>560</td>\n",
       "      <td>AARTIIND230125560PE</td>\n",
       "      <td>PE</td>\n",
       "    </tr>\n",
       "    <tr>\n",
       "      <th>4</th>\n",
       "      <td>2023-01-25</td>\n",
       "      <td>CE</td>\n",
       "      <td>AARTIIND230125570CE</td>\n",
       "      <td>570</td>\n",
       "      <td>AARTIIND230125570PE</td>\n",
       "      <td>PE</td>\n",
       "    </tr>\n",
       "    <tr>\n",
       "      <th>5</th>\n",
       "      <td>2023-01-25</td>\n",
       "      <td>CE</td>\n",
       "      <td>AARTIIND230125580CE</td>\n",
       "      <td>580</td>\n",
       "      <td>AARTIIND230125580PE</td>\n",
       "      <td>PE</td>\n",
       "    </tr>\n",
       "    <tr>\n",
       "      <th>6</th>\n",
       "      <td>2023-01-25</td>\n",
       "      <td>CE</td>\n",
       "      <td>AARTIIND230125590CE</td>\n",
       "      <td>590</td>\n",
       "      <td>AARTIIND230125590PE</td>\n",
       "      <td>PE</td>\n",
       "    </tr>\n",
       "    <tr>\n",
       "      <th>7</th>\n",
       "      <td>2023-01-25</td>\n",
       "      <td>CE</td>\n",
       "      <td>AARTIIND230125600CE</td>\n",
       "      <td>600</td>\n",
       "      <td>AARTIIND230125600PE</td>\n",
       "      <td>PE</td>\n",
       "    </tr>\n",
       "    <tr>\n",
       "      <th>8</th>\n",
       "      <td>2023-01-25</td>\n",
       "      <td>CE</td>\n",
       "      <td>AARTIIND230125610CE</td>\n",
       "      <td>610</td>\n",
       "      <td>AARTIIND230125610PE</td>\n",
       "      <td>PE</td>\n",
       "    </tr>\n",
       "    <tr>\n",
       "      <th>9</th>\n",
       "      <td>2023-01-25</td>\n",
       "      <td>CE</td>\n",
       "      <td>AARTIIND230125620CE</td>\n",
       "      <td>620</td>\n",
       "      <td>AARTIIND230125620PE</td>\n",
       "      <td>PE</td>\n",
       "    </tr>\n",
       "    <tr>\n",
       "      <th>10</th>\n",
       "      <td>2023-01-25</td>\n",
       "      <td>CE</td>\n",
       "      <td>AARTIIND230125630CE</td>\n",
       "      <td>630</td>\n",
       "      <td>AARTIIND230125630PE</td>\n",
       "      <td>PE</td>\n",
       "    </tr>\n",
       "    <tr>\n",
       "      <th>11</th>\n",
       "      <td>2023-01-25</td>\n",
       "      <td>CE</td>\n",
       "      <td>AARTIIND230125640CE</td>\n",
       "      <td>640</td>\n",
       "      <td>AARTIIND230125640PE</td>\n",
       "      <td>PE</td>\n",
       "    </tr>\n",
       "    <tr>\n",
       "      <th>12</th>\n",
       "      <td>2023-01-25</td>\n",
       "      <td>CE</td>\n",
       "      <td>AARTIIND230125650CE</td>\n",
       "      <td>650</td>\n",
       "      <td>AARTIIND230125650PE</td>\n",
       "      <td>PE</td>\n",
       "    </tr>\n",
       "    <tr>\n",
       "      <th>13</th>\n",
       "      <td>2023-01-25</td>\n",
       "      <td>CE</td>\n",
       "      <td>AARTIIND230125660CE</td>\n",
       "      <td>660</td>\n",
       "      <td>AARTIIND230125660PE</td>\n",
       "      <td>PE</td>\n",
       "    </tr>\n",
       "    <tr>\n",
       "      <th>14</th>\n",
       "      <td>2023-01-25</td>\n",
       "      <td>CE</td>\n",
       "      <td>AARTIIND230125670CE</td>\n",
       "      <td>670</td>\n",
       "      <td>AARTIIND230125670PE</td>\n",
       "      <td>PE</td>\n",
       "    </tr>\n",
       "    <tr>\n",
       "      <th>15</th>\n",
       "      <td>2023-01-25</td>\n",
       "      <td>CE</td>\n",
       "      <td>AARTIIND230125680CE</td>\n",
       "      <td>680</td>\n",
       "      <td>AARTIIND230125680PE</td>\n",
       "      <td>PE</td>\n",
       "    </tr>\n",
       "    <tr>\n",
       "      <th>16</th>\n",
       "      <td>2023-01-25</td>\n",
       "      <td>CE</td>\n",
       "      <td>AARTIIND230125690CE</td>\n",
       "      <td>690</td>\n",
       "      <td>AARTIIND230125690PE</td>\n",
       "      <td>PE</td>\n",
       "    </tr>\n",
       "    <tr>\n",
       "      <th>17</th>\n",
       "      <td>2023-01-25</td>\n",
       "      <td>CE</td>\n",
       "      <td>AARTIIND230125700CE</td>\n",
       "      <td>700</td>\n",
       "      <td>AARTIIND230125700PE</td>\n",
       "      <td>PE</td>\n",
       "    </tr>\n",
       "    <tr>\n",
       "      <th>18</th>\n",
       "      <td>2023-01-25</td>\n",
       "      <td>CE</td>\n",
       "      <td>AARTIIND230125750CE</td>\n",
       "      <td>750</td>\n",
       "      <td>AARTIIND230125750PE</td>\n",
       "      <td>PE</td>\n",
       "    </tr>\n",
       "    <tr>\n",
       "      <th>19</th>\n",
       "      <td>2023-01-25</td>\n",
       "      <td>CE</td>\n",
       "      <td>AARTIIND230125830CE</td>\n",
       "      <td>830</td>\n",
       "      <td>AARTIIND230125830PE</td>\n",
       "      <td>PE</td>\n",
       "    </tr>\n",
       "  </tbody>\n",
       "</table>\n",
       "</div>"
      ],
      "text/plain": [
       "   Expiry Dates  CE       Call Contracts Strike        Put Contracts  PE\n",
       "0    2023-01-25  CE  AARTIIND230125500CE    500  AARTIIND230125500PE  PE\n",
       "1    2023-01-25  CE  AARTIIND230125540CE    540  AARTIIND230125540PE  PE\n",
       "2    2023-01-25  CE  AARTIIND230125550CE    550  AARTIIND230125550PE  PE\n",
       "3    2023-01-25  CE  AARTIIND230125560CE    560  AARTIIND230125560PE  PE\n",
       "4    2023-01-25  CE  AARTIIND230125570CE    570  AARTIIND230125570PE  PE\n",
       "5    2023-01-25  CE  AARTIIND230125580CE    580  AARTIIND230125580PE  PE\n",
       "6    2023-01-25  CE  AARTIIND230125590CE    590  AARTIIND230125590PE  PE\n",
       "7    2023-01-25  CE  AARTIIND230125600CE    600  AARTIIND230125600PE  PE\n",
       "8    2023-01-25  CE  AARTIIND230125610CE    610  AARTIIND230125610PE  PE\n",
       "9    2023-01-25  CE  AARTIIND230125620CE    620  AARTIIND230125620PE  PE\n",
       "10   2023-01-25  CE  AARTIIND230125630CE    630  AARTIIND230125630PE  PE\n",
       "11   2023-01-25  CE  AARTIIND230125640CE    640  AARTIIND230125640PE  PE\n",
       "12   2023-01-25  CE  AARTIIND230125650CE    650  AARTIIND230125650PE  PE\n",
       "13   2023-01-25  CE  AARTIIND230125660CE    660  AARTIIND230125660PE  PE\n",
       "14   2023-01-25  CE  AARTIIND230125670CE    670  AARTIIND230125670PE  PE\n",
       "15   2023-01-25  CE  AARTIIND230125680CE    680  AARTIIND230125680PE  PE\n",
       "16   2023-01-25  CE  AARTIIND230125690CE    690  AARTIIND230125690PE  PE\n",
       "17   2023-01-25  CE  AARTIIND230125700CE    700  AARTIIND230125700PE  PE\n",
       "18   2023-01-25  CE  AARTIIND230125750CE    750  AARTIIND230125750PE  PE\n",
       "19   2023-01-25  CE  AARTIIND230125830CE    830  AARTIIND230125830PE  PE"
      ]
     },
     "execution_count": 135,
     "metadata": {},
     "output_type": "execute_result"
    }
   ],
   "source": [
    "df  # df stored in memory"
   ]
  },
  {
   "cell_type": "markdown",
   "metadata": {},
   "source": [
    "We will now build code to collect the market data from the yfinance with following objectives:\n",
    "- Determine the Market Structure when Iron Condor is deployed - > whether market is trending (Bullish /Bearish) or Sideways\n",
    "- Determine the ATM Strike price when Iron Condor is deployed \n"
   ]
  },
  {
   "cell_type": "code",
   "execution_count": 136,
   "metadata": {},
   "outputs": [
    {
     "name": "stderr",
     "output_type": "stream",
     "text": [
      "[*********************100%%**********************]  1 of 1 completed\n"
     ]
    },
    {
     "name": "stdout",
     "output_type": "stream",
     "text": [
      "Trends\n",
      "Sideways    181\n",
      "Bearish     174\n",
      "Bullish     159\n",
      "Name: count, dtype: int64\n"
     ]
    },
    {
     "data": {
      "text/html": [
       "<div>\n",
       "<style scoped>\n",
       "    .dataframe tbody tr th:only-of-type {\n",
       "        vertical-align: middle;\n",
       "    }\n",
       "\n",
       "    .dataframe tbody tr th {\n",
       "        vertical-align: top;\n",
       "    }\n",
       "\n",
       "    .dataframe thead th {\n",
       "        text-align: right;\n",
       "    }\n",
       "</style>\n",
       "<table border=\"1\" class=\"dataframe\">\n",
       "  <thead>\n",
       "    <tr style=\"text-align: right;\">\n",
       "      <th></th>\n",
       "      <th>Start of Expiry Series</th>\n",
       "      <th>End of Expiry Series</th>\n",
       "      <th>Trend</th>\n",
       "      <th>ATM Strike</th>\n",
       "    </tr>\n",
       "  </thead>\n",
       "  <tbody>\n",
       "    <tr>\n",
       "      <th>0</th>\n",
       "      <td>2023-01-01</td>\n",
       "      <td>2023-01-25</td>\n",
       "      <td>Sideways</td>\n",
       "      <td>610</td>\n",
       "    </tr>\n",
       "    <tr>\n",
       "      <th>1</th>\n",
       "      <td>2023-01-25</td>\n",
       "      <td>2023-02-23</td>\n",
       "      <td>Bearish</td>\n",
       "      <td>540</td>\n",
       "    </tr>\n",
       "    <tr>\n",
       "      <th>2</th>\n",
       "      <td>2023-02-23</td>\n",
       "      <td>2023-03-29</td>\n",
       "      <td>Bearish</td>\n",
       "      <td>500</td>\n",
       "    </tr>\n",
       "    <tr>\n",
       "      <th>3</th>\n",
       "      <td>2023-03-29</td>\n",
       "      <td>2023-04-27</td>\n",
       "      <td>Bullish</td>\n",
       "      <td>500</td>\n",
       "    </tr>\n",
       "    <tr>\n",
       "      <th>4</th>\n",
       "      <td>2023-04-27</td>\n",
       "      <td>2023-05-25</td>\n",
       "      <td>Sideways</td>\n",
       "      <td>550</td>\n",
       "    </tr>\n",
       "    <tr>\n",
       "      <th>5</th>\n",
       "      <td>2023-05-25</td>\n",
       "      <td>2023-06-29</td>\n",
       "      <td>Sideways</td>\n",
       "      <td>500</td>\n",
       "    </tr>\n",
       "    <tr>\n",
       "      <th>6</th>\n",
       "      <td>2023-06-29</td>\n",
       "      <td>2023-07-27</td>\n",
       "      <td>Bearish</td>\n",
       "      <td>500</td>\n",
       "    </tr>\n",
       "    <tr>\n",
       "      <th>7</th>\n",
       "      <td>2023-07-27</td>\n",
       "      <td>2023-08-31</td>\n",
       "      <td>Sideways</td>\n",
       "      <td>500</td>\n",
       "    </tr>\n",
       "    <tr>\n",
       "      <th>8</th>\n",
       "      <td>2023-08-31</td>\n",
       "      <td>2023-09-28</td>\n",
       "      <td>Sideways</td>\n",
       "      <td>500</td>\n",
       "    </tr>\n",
       "    <tr>\n",
       "      <th>9</th>\n",
       "      <td>2023-09-28</td>\n",
       "      <td>2023-10-26</td>\n",
       "      <td>Bearish</td>\n",
       "      <td>500</td>\n",
       "    </tr>\n",
       "    <tr>\n",
       "      <th>10</th>\n",
       "      <td>2023-10-26</td>\n",
       "      <td>2023-11-30</td>\n",
       "      <td>Bullish</td>\n",
       "      <td>500</td>\n",
       "    </tr>\n",
       "  </tbody>\n",
       "</table>\n",
       "</div>"
      ],
      "text/plain": [
       "   Start of Expiry Series End of Expiry Series     Trend  ATM Strike\n",
       "0              2023-01-01           2023-01-25  Sideways         610\n",
       "1              2023-01-25           2023-02-23   Bearish         540\n",
       "2              2023-02-23           2023-03-29   Bearish         500\n",
       "3              2023-03-29           2023-04-27   Bullish         500\n",
       "4              2023-04-27           2023-05-25  Sideways         550\n",
       "5              2023-05-25           2023-06-29  Sideways         500\n",
       "6              2023-06-29           2023-07-27   Bearish         500\n",
       "7              2023-07-27           2023-08-31  Sideways         500\n",
       "8              2023-08-31           2023-09-28  Sideways         500\n",
       "9              2023-09-28           2023-10-26   Bearish         500\n",
       "10             2023-10-26           2023-11-30   Bullish         500"
      ]
     },
     "execution_count": 136,
     "metadata": {},
     "output_type": "execute_result"
    }
   ],
   "source": [
    "import yfinance as yf\n",
    "market_data=yf.download(ticker_list[0]+'.NS',start='2022-01-01',end='2024-02-01')\n",
    "market_data['Returns']=market_data['Close'].pct_change()\n",
    "market_data['Trends']='Sideways'\n",
    "market_data.loc[market_data['Returns']>0.007,'Trends']='Bullish'\n",
    "market_data.loc[market_data['Returns']<-0.007,'Trends']='Bearish'\n",
    "\n",
    "expiries=get_expiry(ticker_list[0],framework=option_contracts_framework_2023)\n",
    "print(market_data['Trends'].value_counts())\n",
    "\n",
    "# Initialize a list to store trend classifications for each expiry region\n",
    "expiry_trends = []\n",
    "\n",
    "# Iterate through the list of expiry timestamps\n",
    "flag=0\n",
    "for i in range(0,len(expiries) - 1):\n",
    "    # Define the start and end timestamps for the current expiry region\n",
    "    if flag == 0:\n",
    "        start_timestamp=datetime.strptime('2023-01-01', '%Y-%m-%d')\n",
    "        end_timestamp = datetime.strptime('2023-01-25', '%Y-%m-%d')\n",
    "        flag=flag+1\n",
    "    else:\n",
    "        start_timestamp = expiries[i-1]\n",
    "        end_timestamp = expiries[i]\n",
    "    \n",
    "\n",
    "              \n",
    "    start_date_of_expiry_series=start_timestamp\n",
    "    try:\n",
    "        specific_row = market_data.loc[start_date_of_expiry_series]\n",
    "    except KeyError:\n",
    "        # If the specific date is not found, find the next available date\n",
    "        next_date = market_data.index[market_data.index > start_date_of_expiry_series][0]\n",
    "        specific_row = market_data.loc[next_date]\n",
    "\n",
    "    spot_price=int(specific_row['Close'])\n",
    "    strike_list=option_chain(ticker=ticker_list[0],\n",
    "                expiry=get_expiry(ticker=ticker_list[0],framework=option_contracts_framework_2023)[0],\n",
    "                framework=option_contracts_framework_2023)['Strike']\n",
    "    strike_list=[int(x) for x in strike_list]\n",
    "\n",
    "    ATM_strike = min(strike_list, key=lambda x: abs(x - spot_price))\n",
    "    \n",
    "\n",
    "    # Extract the market data for the current expiry region\n",
    "    region_data = market_data.loc[(market_data.index >= start_timestamp) & (market_data.index < end_timestamp)]\n",
    "    \n",
    "    # Count the occurrences of each trend type in the current expiry region\n",
    "    trend_counts = region_data['Trends'].value_counts()\n",
    "    \n",
    "    # Assign the trend with the maximum count as the trend for the current expiry region\n",
    "    dominant_trend = trend_counts.idxmax()\n",
    "    \n",
    "    # Append the dominant trend for the current expiry region to the list\n",
    "    expiry_trends.append((start_timestamp, end_timestamp, dominant_trend , ATM_strike))\n",
    "\n",
    "# Convert the list of expiry trends into a DataFrame for easier manipulation and analysis\n",
    "expiry_trends_df = pd.DataFrame(expiry_trends, columns=['Start of Expiry Series', 'End of Expiry Series', 'Trend', 'ATM Strike'])\n",
    "\n",
    "\n",
    "\n",
    "\n",
    "expiry_trends_df"
   ]
  },
  {
   "cell_type": "markdown",
   "metadata": {},
   "source": [
    "In Above dataframe, we have defined the ATM of Strike for different Expiries and Also the trend market is going through"
   ]
  },
  {
   "cell_type": "code",
   "execution_count": 137,
   "metadata": {},
   "outputs": [
    {
     "data": {
      "text/html": [
       "<div>\n",
       "<style scoped>\n",
       "    .dataframe tbody tr th:only-of-type {\n",
       "        vertical-align: middle;\n",
       "    }\n",
       "\n",
       "    .dataframe tbody tr th {\n",
       "        vertical-align: top;\n",
       "    }\n",
       "\n",
       "    .dataframe thead th {\n",
       "        text-align: right;\n",
       "    }\n",
       "</style>\n",
       "<table border=\"1\" class=\"dataframe\">\n",
       "  <thead>\n",
       "    <tr style=\"text-align: right;\">\n",
       "      <th></th>\n",
       "      <th>Expiry Dates</th>\n",
       "      <th>CE</th>\n",
       "      <th>Call Contracts</th>\n",
       "      <th>Strike</th>\n",
       "      <th>Put Contracts</th>\n",
       "      <th>PE</th>\n",
       "    </tr>\n",
       "  </thead>\n",
       "  <tbody>\n",
       "    <tr>\n",
       "      <th>0</th>\n",
       "      <td>2023-01-25</td>\n",
       "      <td>CE</td>\n",
       "      <td>AARTIIND230125500CE</td>\n",
       "      <td>500</td>\n",
       "      <td>AARTIIND230125500PE</td>\n",
       "      <td>PE</td>\n",
       "    </tr>\n",
       "    <tr>\n",
       "      <th>1</th>\n",
       "      <td>2023-01-25</td>\n",
       "      <td>CE</td>\n",
       "      <td>AARTIIND230125540CE</td>\n",
       "      <td>540</td>\n",
       "      <td>AARTIIND230125540PE</td>\n",
       "      <td>PE</td>\n",
       "    </tr>\n",
       "    <tr>\n",
       "      <th>2</th>\n",
       "      <td>2023-01-25</td>\n",
       "      <td>CE</td>\n",
       "      <td>AARTIIND230125550CE</td>\n",
       "      <td>550</td>\n",
       "      <td>AARTIIND230125550PE</td>\n",
       "      <td>PE</td>\n",
       "    </tr>\n",
       "    <tr>\n",
       "      <th>3</th>\n",
       "      <td>2023-01-25</td>\n",
       "      <td>CE</td>\n",
       "      <td>AARTIIND230125560CE</td>\n",
       "      <td>560</td>\n",
       "      <td>AARTIIND230125560PE</td>\n",
       "      <td>PE</td>\n",
       "    </tr>\n",
       "    <tr>\n",
       "      <th>4</th>\n",
       "      <td>2023-01-25</td>\n",
       "      <td>CE</td>\n",
       "      <td>AARTIIND230125570CE</td>\n",
       "      <td>570</td>\n",
       "      <td>AARTIIND230125570PE</td>\n",
       "      <td>PE</td>\n",
       "    </tr>\n",
       "    <tr>\n",
       "      <th>5</th>\n",
       "      <td>2023-01-25</td>\n",
       "      <td>CE</td>\n",
       "      <td>AARTIIND230125580CE</td>\n",
       "      <td>580</td>\n",
       "      <td>AARTIIND230125580PE</td>\n",
       "      <td>PE</td>\n",
       "    </tr>\n",
       "    <tr>\n",
       "      <th>6</th>\n",
       "      <td>2023-01-25</td>\n",
       "      <td>CE</td>\n",
       "      <td>AARTIIND230125590CE</td>\n",
       "      <td>590</td>\n",
       "      <td>AARTIIND230125590PE</td>\n",
       "      <td>PE</td>\n",
       "    </tr>\n",
       "    <tr>\n",
       "      <th>7</th>\n",
       "      <td>2023-01-25</td>\n",
       "      <td>CE</td>\n",
       "      <td>AARTIIND230125600CE</td>\n",
       "      <td>600</td>\n",
       "      <td>AARTIIND230125600PE</td>\n",
       "      <td>PE</td>\n",
       "    </tr>\n",
       "    <tr>\n",
       "      <th>8</th>\n",
       "      <td>2023-01-25</td>\n",
       "      <td>CE</td>\n",
       "      <td>AARTIIND230125610CE</td>\n",
       "      <td>610</td>\n",
       "      <td>AARTIIND230125610PE</td>\n",
       "      <td>PE</td>\n",
       "    </tr>\n",
       "    <tr>\n",
       "      <th>9</th>\n",
       "      <td>2023-01-25</td>\n",
       "      <td>CE</td>\n",
       "      <td>AARTIIND230125620CE</td>\n",
       "      <td>620</td>\n",
       "      <td>AARTIIND230125620PE</td>\n",
       "      <td>PE</td>\n",
       "    </tr>\n",
       "    <tr>\n",
       "      <th>10</th>\n",
       "      <td>2023-01-25</td>\n",
       "      <td>CE</td>\n",
       "      <td>AARTIIND230125630CE</td>\n",
       "      <td>630</td>\n",
       "      <td>AARTIIND230125630PE</td>\n",
       "      <td>PE</td>\n",
       "    </tr>\n",
       "    <tr>\n",
       "      <th>11</th>\n",
       "      <td>2023-01-25</td>\n",
       "      <td>CE</td>\n",
       "      <td>AARTIIND230125640CE</td>\n",
       "      <td>640</td>\n",
       "      <td>AARTIIND230125640PE</td>\n",
       "      <td>PE</td>\n",
       "    </tr>\n",
       "    <tr>\n",
       "      <th>12</th>\n",
       "      <td>2023-01-25</td>\n",
       "      <td>CE</td>\n",
       "      <td>AARTIIND230125650CE</td>\n",
       "      <td>650</td>\n",
       "      <td>AARTIIND230125650PE</td>\n",
       "      <td>PE</td>\n",
       "    </tr>\n",
       "    <tr>\n",
       "      <th>13</th>\n",
       "      <td>2023-01-25</td>\n",
       "      <td>CE</td>\n",
       "      <td>AARTIIND230125660CE</td>\n",
       "      <td>660</td>\n",
       "      <td>AARTIIND230125660PE</td>\n",
       "      <td>PE</td>\n",
       "    </tr>\n",
       "    <tr>\n",
       "      <th>14</th>\n",
       "      <td>2023-01-25</td>\n",
       "      <td>CE</td>\n",
       "      <td>AARTIIND230125670CE</td>\n",
       "      <td>670</td>\n",
       "      <td>AARTIIND230125670PE</td>\n",
       "      <td>PE</td>\n",
       "    </tr>\n",
       "    <tr>\n",
       "      <th>15</th>\n",
       "      <td>2023-01-25</td>\n",
       "      <td>CE</td>\n",
       "      <td>AARTIIND230125680CE</td>\n",
       "      <td>680</td>\n",
       "      <td>AARTIIND230125680PE</td>\n",
       "      <td>PE</td>\n",
       "    </tr>\n",
       "    <tr>\n",
       "      <th>16</th>\n",
       "      <td>2023-01-25</td>\n",
       "      <td>CE</td>\n",
       "      <td>AARTIIND230125690CE</td>\n",
       "      <td>690</td>\n",
       "      <td>AARTIIND230125690PE</td>\n",
       "      <td>PE</td>\n",
       "    </tr>\n",
       "    <tr>\n",
       "      <th>17</th>\n",
       "      <td>2023-01-25</td>\n",
       "      <td>CE</td>\n",
       "      <td>AARTIIND230125700CE</td>\n",
       "      <td>700</td>\n",
       "      <td>AARTIIND230125700PE</td>\n",
       "      <td>PE</td>\n",
       "    </tr>\n",
       "    <tr>\n",
       "      <th>18</th>\n",
       "      <td>2023-01-25</td>\n",
       "      <td>CE</td>\n",
       "      <td>AARTIIND230125750CE</td>\n",
       "      <td>750</td>\n",
       "      <td>AARTIIND230125750PE</td>\n",
       "      <td>PE</td>\n",
       "    </tr>\n",
       "    <tr>\n",
       "      <th>19</th>\n",
       "      <td>2023-01-25</td>\n",
       "      <td>CE</td>\n",
       "      <td>AARTIIND230125830CE</td>\n",
       "      <td>830</td>\n",
       "      <td>AARTIIND230125830PE</td>\n",
       "      <td>PE</td>\n",
       "    </tr>\n",
       "  </tbody>\n",
       "</table>\n",
       "</div>"
      ],
      "text/plain": [
       "   Expiry Dates  CE       Call Contracts Strike        Put Contracts  PE\n",
       "0    2023-01-25  CE  AARTIIND230125500CE    500  AARTIIND230125500PE  PE\n",
       "1    2023-01-25  CE  AARTIIND230125540CE    540  AARTIIND230125540PE  PE\n",
       "2    2023-01-25  CE  AARTIIND230125550CE    550  AARTIIND230125550PE  PE\n",
       "3    2023-01-25  CE  AARTIIND230125560CE    560  AARTIIND230125560PE  PE\n",
       "4    2023-01-25  CE  AARTIIND230125570CE    570  AARTIIND230125570PE  PE\n",
       "5    2023-01-25  CE  AARTIIND230125580CE    580  AARTIIND230125580PE  PE\n",
       "6    2023-01-25  CE  AARTIIND230125590CE    590  AARTIIND230125590PE  PE\n",
       "7    2023-01-25  CE  AARTIIND230125600CE    600  AARTIIND230125600PE  PE\n",
       "8    2023-01-25  CE  AARTIIND230125610CE    610  AARTIIND230125610PE  PE\n",
       "9    2023-01-25  CE  AARTIIND230125620CE    620  AARTIIND230125620PE  PE\n",
       "10   2023-01-25  CE  AARTIIND230125630CE    630  AARTIIND230125630PE  PE\n",
       "11   2023-01-25  CE  AARTIIND230125640CE    640  AARTIIND230125640PE  PE\n",
       "12   2023-01-25  CE  AARTIIND230125650CE    650  AARTIIND230125650PE  PE\n",
       "13   2023-01-25  CE  AARTIIND230125660CE    660  AARTIIND230125660PE  PE\n",
       "14   2023-01-25  CE  AARTIIND230125670CE    670  AARTIIND230125670PE  PE\n",
       "15   2023-01-25  CE  AARTIIND230125680CE    680  AARTIIND230125680PE  PE\n",
       "16   2023-01-25  CE  AARTIIND230125690CE    690  AARTIIND230125690PE  PE\n",
       "17   2023-01-25  CE  AARTIIND230125700CE    700  AARTIIND230125700PE  PE\n",
       "18   2023-01-25  CE  AARTIIND230125750CE    750  AARTIIND230125750PE  PE\n",
       "19   2023-01-25  CE  AARTIIND230125830CE    830  AARTIIND230125830PE  PE"
      ]
     },
     "execution_count": 137,
     "metadata": {},
     "output_type": "execute_result"
    }
   ],
   "source": [
    "df=option_chain(ticker=ticker_list[0],\n",
    "                expiry=get_expiry(ticker=ticker_list[0],framework=option_contracts_framework_2023)[0],\n",
    "                framework=option_contracts_framework_2023)\n",
    "\n",
    "df"
   ]
  },
  {
   "cell_type": "markdown",
   "metadata": {},
   "source": [
    "Building Iron Condor for specific ticker for specific Expiry"
   ]
  },
  {
   "cell_type": "code",
   "execution_count": 138,
   "metadata": {},
   "outputs": [
    {
     "name": "stdout",
     "output_type": "stream",
     "text": [
      "18.181818181818183\n",
      "Iron Condor Profit at the end of Expiry Series Datetime\n",
      "2023-01-25 13:00:00   -21.55\n",
      "Name: Profit, dtype: float64\n",
      "Maximum profit during the Strategy 1.95\n"
     ]
    },
    {
     "data": {
      "text/html": [
       "<div>\n",
       "<style scoped>\n",
       "    .dataframe tbody tr th:only-of-type {\n",
       "        vertical-align: middle;\n",
       "    }\n",
       "\n",
       "    .dataframe tbody tr th {\n",
       "        vertical-align: top;\n",
       "    }\n",
       "\n",
       "    .dataframe thead th {\n",
       "        text-align: right;\n",
       "    }\n",
       "</style>\n",
       "<table border=\"1\" class=\"dataframe\">\n",
       "  <thead>\n",
       "    <tr style=\"text-align: right;\">\n",
       "      <th></th>\n",
       "      <th>Put Short</th>\n",
       "      <th>Call Short</th>\n",
       "      <th>Put Long</th>\n",
       "      <th>Call Long</th>\n",
       "      <th>Price of Iron Condor</th>\n",
       "      <th>Profit</th>\n",
       "    </tr>\n",
       "    <tr>\n",
       "      <th>Datetime</th>\n",
       "      <th></th>\n",
       "      <th></th>\n",
       "      <th></th>\n",
       "      <th></th>\n",
       "      <th></th>\n",
       "      <th></th>\n",
       "    </tr>\n",
       "  </thead>\n",
       "  <tbody>\n",
       "    <tr>\n",
       "      <th>2023-01-03 14:45:00</th>\n",
       "      <td>4.50</td>\n",
       "      <td>9.50</td>\n",
       "      <td>1.45</td>\n",
       "      <td>3.75</td>\n",
       "      <td>8.80</td>\n",
       "      <td>0.00</td>\n",
       "    </tr>\n",
       "    <tr>\n",
       "      <th>2023-01-05 14:45:00</th>\n",
       "      <td>5.20</td>\n",
       "      <td>5.05</td>\n",
       "      <td>1.45</td>\n",
       "      <td>1.95</td>\n",
       "      <td>6.85</td>\n",
       "      <td>1.95</td>\n",
       "    </tr>\n",
       "    <tr>\n",
       "      <th>2023-01-06 11:30:00</th>\n",
       "      <td>7.05</td>\n",
       "      <td>4.65</td>\n",
       "      <td>1.70</td>\n",
       "      <td>1.75</td>\n",
       "      <td>8.25</td>\n",
       "      <td>0.55</td>\n",
       "    </tr>\n",
       "    <tr>\n",
       "      <th>2023-01-06 12:15:00</th>\n",
       "      <td>8.00</td>\n",
       "      <td>4.00</td>\n",
       "      <td>2.05</td>\n",
       "      <td>1.45</td>\n",
       "      <td>8.50</td>\n",
       "      <td>0.30</td>\n",
       "    </tr>\n",
       "    <tr>\n",
       "      <th>2023-01-06 12:45:00</th>\n",
       "      <td>9.25</td>\n",
       "      <td>3.50</td>\n",
       "      <td>2.50</td>\n",
       "      <td>1.35</td>\n",
       "      <td>8.90</td>\n",
       "      <td>-0.10</td>\n",
       "    </tr>\n",
       "    <tr>\n",
       "      <th>2023-01-06 15:15:00</th>\n",
       "      <td>7.80</td>\n",
       "      <td>4.30</td>\n",
       "      <td>2.25</td>\n",
       "      <td>1.50</td>\n",
       "      <td>8.35</td>\n",
       "      <td>0.45</td>\n",
       "    </tr>\n",
       "    <tr>\n",
       "      <th>2023-01-13 15:15:00</th>\n",
       "      <td>9.75</td>\n",
       "      <td>1.05</td>\n",
       "      <td>1.90</td>\n",
       "      <td>0.60</td>\n",
       "      <td>8.30</td>\n",
       "      <td>0.50</td>\n",
       "    </tr>\n",
       "    <tr>\n",
       "      <th>2023-01-24 09:15:00</th>\n",
       "      <td>18.30</td>\n",
       "      <td>0.10</td>\n",
       "      <td>1.60</td>\n",
       "      <td>0.10</td>\n",
       "      <td>16.70</td>\n",
       "      <td>-7.90</td>\n",
       "    </tr>\n",
       "    <tr>\n",
       "      <th>2023-01-24 09:45:00</th>\n",
       "      <td>18.50</td>\n",
       "      <td>0.10</td>\n",
       "      <td>1.10</td>\n",
       "      <td>0.20</td>\n",
       "      <td>17.30</td>\n",
       "      <td>-8.50</td>\n",
       "    </tr>\n",
       "    <tr>\n",
       "      <th>2023-01-25 09:30:00</th>\n",
       "      <td>35.00</td>\n",
       "      <td>0.05</td>\n",
       "      <td>5.55</td>\n",
       "      <td>0.10</td>\n",
       "      <td>29.40</td>\n",
       "      <td>-20.60</td>\n",
       "    </tr>\n",
       "    <tr>\n",
       "      <th>2023-01-25 13:00:00</th>\n",
       "      <td>44.20</td>\n",
       "      <td>0.05</td>\n",
       "      <td>13.75</td>\n",
       "      <td>0.15</td>\n",
       "      <td>30.35</td>\n",
       "      <td>-21.55</td>\n",
       "    </tr>\n",
       "  </tbody>\n",
       "</table>\n",
       "</div>"
      ],
      "text/plain": [
       "                     Put Short  Call Short  Put Long  Call Long  \\\n",
       "Datetime                                                          \n",
       "2023-01-03 14:45:00       4.50        9.50      1.45       3.75   \n",
       "2023-01-05 14:45:00       5.20        5.05      1.45       1.95   \n",
       "2023-01-06 11:30:00       7.05        4.65      1.70       1.75   \n",
       "2023-01-06 12:15:00       8.00        4.00      2.05       1.45   \n",
       "2023-01-06 12:45:00       9.25        3.50      2.50       1.35   \n",
       "2023-01-06 15:15:00       7.80        4.30      2.25       1.50   \n",
       "2023-01-13 15:15:00       9.75        1.05      1.90       0.60   \n",
       "2023-01-24 09:15:00      18.30        0.10      1.60       0.10   \n",
       "2023-01-24 09:45:00      18.50        0.10      1.10       0.20   \n",
       "2023-01-25 09:30:00      35.00        0.05      5.55       0.10   \n",
       "2023-01-25 13:00:00      44.20        0.05     13.75       0.15   \n",
       "\n",
       "                     Price of Iron Condor  Profit  \n",
       "Datetime                                           \n",
       "2023-01-03 14:45:00                  8.80    0.00  \n",
       "2023-01-05 14:45:00                  6.85    1.95  \n",
       "2023-01-06 11:30:00                  8.25    0.55  \n",
       "2023-01-06 12:15:00                  8.50    0.30  \n",
       "2023-01-06 12:45:00                  8.90   -0.10  \n",
       "2023-01-06 15:15:00                  8.35    0.45  \n",
       "2023-01-13 15:15:00                  8.30    0.50  \n",
       "2023-01-24 09:15:00                 16.70   -7.90  \n",
       "2023-01-24 09:45:00                 17.30   -8.50  \n",
       "2023-01-25 09:30:00                 29.40  -20.60  \n",
       "2023-01-25 13:00:00                 30.35  -21.55  "
      ]
     },
     "execution_count": 138,
     "metadata": {},
     "output_type": "execute_result"
    }
   ],
   "source": [
    "# Selection the ATM Strike for first expiry\n",
    "\n",
    "ATM_strike=expiry_trends_df['ATM Strike'][0]\n",
    "market_trend=expiry_trends_df['Trend'][0]\n",
    "\n",
    "df=option_chain(ticker=ticker_list[0],\n",
    "                expiry=get_expiry(ticker=ticker_list[0],framework=option_contracts_framework_2023)[0],\n",
    "                framework=option_contracts_framework_2023)\n",
    "df['Strike']=df['Strike'].astype(int)\n",
    "df.index[df['Strike']==ATM_strike]\n",
    "# Selecting strike for legs of the Iron Condor\n",
    "put_short_strike=df['Strike'].loc[df.index[df['Strike']==ATM_strike][0]-3]           # Short OTM Put 3 strike away from ATM Strike\n",
    "call_short_strike=df['Strike'].loc[df.index[df['Strike']==ATM_strike][0]+3]          # Short OTM Call 3 strike away from ATM Strike\n",
    "put_long_strike=df['Strike'].loc[df.index[df['Strike']==ATM_strike][0]-6]            # Short DOTM Put 6 strike away from ATM Strike\n",
    "call_long_strike=df['Strike'].loc[df.index[df['Strike']==ATM_strike][0]+6]           # Short DOTM Call 6 strike away from ATM Strike\n",
    "\n",
    "# call_short_strike\n",
    "# Finding the name of contracts of Iron condor\n",
    "put_short_contract_name=df['Put Contracts'].loc[df.index[df['Strike']==ATM_strike][0]-3] \n",
    "call_short_contract_name=df['Call Contracts'].loc[df.index[df['Strike']==ATM_strike][0]+3] \n",
    "put_long_contract_name=df['Put Contracts'].loc[df.index[df['Strike']==ATM_strike][0]-6]  \n",
    "call_long_contract_name=df['Call Contracts'].loc[df.index[df['Strike']==ATM_strike][0]+6]  \n",
    "\n",
    "# #Getting Historical Data of selected contracts\n",
    "put_short_contract_data=get_data(root_folder=root_folder,filename=put_short_contract_name)['Close']\n",
    "call_short_contract_data=get_data(root_folder=root_folder,filename=call_short_contract_name)['Close']\n",
    "put_long_contract_data=get_data(root_folder=root_folder,filename=put_long_contract_name)['Close']\n",
    "call_long_contract_data=get_data(root_folder=root_folder,filename=call_long_contract_name)['Close']\n",
    "\n",
    "# combining all the premium data\n",
    "premium_data=pd.concat([put_short_contract_data,call_short_contract_data,put_long_contract_data,call_long_contract_data]\n",
    "                       ,keys=['Put Short','Call Short','Put Long','Call Long'],axis=1).dropna()\n",
    "premium_data['Price of Iron Condor'] = np.round(premium_data['Put Short']+premium_data['Call Short'] - premium_data['Put Long']-premium_data['Call Long'],3)\n",
    "premium_data['Profit']=np.round(premium_data['Price of Iron Condor'].apply(lambda x : -x+premium_data['Price of Iron Condor'][0]),3)\n",
    "ticker_name=df['Call Contracts'][0][:df['Call Contracts'][0].find('23')]\n",
    "Profit=premium_data['Profit'][-1:]\n",
    "Backtested_samples=premium_data.shape[0]\n",
    "Expiry=df['Expiry Dates'][0]\n",
    "Maxmium_profit=premium_data['Profit'].max()\n",
    "Maxmium_profit_index=premium_data['Profit'].idxmax()\n",
    "distance=premium_data.index.get_loc(premium_data['Profit'].idxmax())+1\n",
    "print(distance/len(premium_data)*100)\n",
    "\n",
    "print(f'Iron Condor Profit at the end of Expiry Series {Profit}')\n",
    "print(f'Maximum profit during the Strategy { Maxmium_profit}') # Percentage from start to be included later\n",
    "premium_data\n",
    "\n",
    "\n"
   ]
  },
  {
   "cell_type": "markdown",
   "metadata": {},
   "source": [
    "In the above code we have build the Iron condor and historical Data of Contracts used as legs of Iron Condor.\n",
    "\n",
    "Above Table shows the profit and Loss for Iron condor for a given expiry if all legs are held till expiry ( or till data is option data of all 4 legs are available)\n",
    "\n",
    "We can plot the Iron Condor PnL with Time using code below"
   ]
  },
  {
   "cell_type": "code",
   "execution_count": 139,
   "metadata": {},
   "outputs": [
    {
     "data": {
      "image/png": "[encoded data removed]",
      "text/plain": [
       "<Figure size 640x480 with 1 Axes>"
      ]
     },
     "metadata": {},
     "output_type": "display_data"
    }
   ],
   "source": [
    "premium_data['Profit'].plot(\n",
    "    title=f'PnL for Iron Condor for ticker = {ticker_name}',\n",
    "    xlabel='Time',\n",
    "    ylabel='Profit and Loss in $');"
   ]
  },
  {
   "cell_type": "markdown",
   "metadata": {},
   "source": [
    "Building the whole code again for 1 ticker for all the expiries and compiling the performance data"
   ]
  },
  {
   "cell_type": "code",
   "execution_count": 140,
   "metadata": {},
   "outputs": [
    {
     "name": "stderr",
     "output_type": "stream",
     "text": [
      "[*********************100%%**********************]  1 of 1 completed\n",
      "Processing: 100%|██████████| 12/12 [00:29<00:00,  2.44s/expiry]\n"
     ]
    },
    {
     "data": {
      "text/html": [
       "<div>\n",
       "<style scoped>\n",
       "    .dataframe tbody tr th:only-of-type {\n",
       "        vertical-align: middle;\n",
       "    }\n",
       "\n",
       "    .dataframe tbody tr th {\n",
       "        vertical-align: top;\n",
       "    }\n",
       "\n",
       "    .dataframe thead th {\n",
       "        text-align: right;\n",
       "    }\n",
       "</style>\n",
       "<table border=\"1\" class=\"dataframe\">\n",
       "  <thead>\n",
       "    <tr style=\"text-align: right;\">\n",
       "      <th></th>\n",
       "      <th>Backtested Samples</th>\n",
       "      <th>Profit till Expiry</th>\n",
       "      <th>Maximum Profit</th>\n",
       "      <th>Duration % at Max Profit</th>\n",
       "      <th>Market Trend</th>\n",
       "    </tr>\n",
       "    <tr>\n",
       "      <th>Expiry Date</th>\n",
       "      <th></th>\n",
       "      <th></th>\n",
       "      <th></th>\n",
       "      <th></th>\n",
       "      <th></th>\n",
       "    </tr>\n",
       "  </thead>\n",
       "  <tbody>\n",
       "    <tr>\n",
       "      <th>2023-01-25</th>\n",
       "      <td>11</td>\n",
       "      <td>-21.55</td>\n",
       "      <td>1.95</td>\n",
       "      <td>18.182</td>\n",
       "      <td>Sideways</td>\n",
       "    </tr>\n",
       "    <tr>\n",
       "      <th>2023-02-23</th>\n",
       "      <td>402</td>\n",
       "      <td>-0.40</td>\n",
       "      <td>4.75</td>\n",
       "      <td>99.005</td>\n",
       "      <td>Bearish</td>\n",
       "    </tr>\n",
       "    <tr>\n",
       "      <th>2023-03-29</th>\n",
       "      <td>23</td>\n",
       "      <td>2.30</td>\n",
       "      <td>3.90</td>\n",
       "      <td>91.304</td>\n",
       "      <td>Bearish</td>\n",
       "    </tr>\n",
       "    <tr>\n",
       "      <th>2023-04-27</th>\n",
       "      <td>46</td>\n",
       "      <td>-0.40</td>\n",
       "      <td>2.05</td>\n",
       "      <td>13.043</td>\n",
       "      <td>Bullish</td>\n",
       "    </tr>\n",
       "    <tr>\n",
       "      <th>2023-05-25</th>\n",
       "      <td>49</td>\n",
       "      <td>-3.00</td>\n",
       "      <td>1.10</td>\n",
       "      <td>77.551</td>\n",
       "      <td>Sideways</td>\n",
       "    </tr>\n",
       "    <tr>\n",
       "      <th>2023-06-29</th>\n",
       "      <td>121</td>\n",
       "      <td>0.15</td>\n",
       "      <td>6.25</td>\n",
       "      <td>7.438</td>\n",
       "      <td>Sideways</td>\n",
       "    </tr>\n",
       "    <tr>\n",
       "      <th>2023-07-27</th>\n",
       "      <td>99</td>\n",
       "      <td>-2.40</td>\n",
       "      <td>1.30</td>\n",
       "      <td>73.737</td>\n",
       "      <td>Bearish</td>\n",
       "    </tr>\n",
       "    <tr>\n",
       "      <th>2023-08-31</th>\n",
       "      <td>37</td>\n",
       "      <td>-0.40</td>\n",
       "      <td>3.30</td>\n",
       "      <td>94.595</td>\n",
       "      <td>Sideways</td>\n",
       "    </tr>\n",
       "    <tr>\n",
       "      <th>2023-09-28</th>\n",
       "      <td>369</td>\n",
       "      <td>1.30</td>\n",
       "      <td>4.75</td>\n",
       "      <td>32.249</td>\n",
       "      <td>Sideways</td>\n",
       "    </tr>\n",
       "    <tr>\n",
       "      <th>2023-10-26</th>\n",
       "      <td>567</td>\n",
       "      <td>0.00</td>\n",
       "      <td>0.00</td>\n",
       "      <td>0.176</td>\n",
       "      <td>Bearish</td>\n",
       "    </tr>\n",
       "    <tr>\n",
       "      <th>2023-11-30</th>\n",
       "      <td>239</td>\n",
       "      <td>1.70</td>\n",
       "      <td>2.55</td>\n",
       "      <td>97.071</td>\n",
       "      <td>Bullish</td>\n",
       "    </tr>\n",
       "    <tr>\n",
       "      <th>2023-12-28</th>\n",
       "      <td>92</td>\n",
       "      <td>-1.90</td>\n",
       "      <td>1.85</td>\n",
       "      <td>73.913</td>\n",
       "      <td>Bullish</td>\n",
       "    </tr>\n",
       "  </tbody>\n",
       "</table>\n",
       "</div>"
      ],
      "text/plain": [
       "             Backtested Samples  Profit till Expiry  Maximum Profit  \\\n",
       "Expiry Date                                                           \n",
       "2023-01-25                   11              -21.55            1.95   \n",
       "2023-02-23                  402               -0.40            4.75   \n",
       "2023-03-29                   23                2.30            3.90   \n",
       "2023-04-27                   46               -0.40            2.05   \n",
       "2023-05-25                   49               -3.00            1.10   \n",
       "2023-06-29                  121                0.15            6.25   \n",
       "2023-07-27                   99               -2.40            1.30   \n",
       "2023-08-31                   37               -0.40            3.30   \n",
       "2023-09-28                  369                1.30            4.75   \n",
       "2023-10-26                  567                0.00            0.00   \n",
       "2023-11-30                  239                1.70            2.55   \n",
       "2023-12-28                   92               -1.90            1.85   \n",
       "\n",
       "             Duration % at Max Profit Market Trend  \n",
       "Expiry Date                                         \n",
       "2023-01-25                     18.182     Sideways  \n",
       "2023-02-23                     99.005      Bearish  \n",
       "2023-03-29                     91.304      Bearish  \n",
       "2023-04-27                     13.043      Bullish  \n",
       "2023-05-25                     77.551     Sideways  \n",
       "2023-06-29                      7.438     Sideways  \n",
       "2023-07-27                     73.737      Bearish  \n",
       "2023-08-31                     94.595     Sideways  \n",
       "2023-09-28                     32.249     Sideways  \n",
       "2023-10-26                      0.176      Bearish  \n",
       "2023-11-30                     97.071      Bullish  \n",
       "2023-12-28                     73.913      Bullish  "
      ]
     },
     "execution_count": 140,
     "metadata": {},
     "output_type": "execute_result"
    }
   ],
   "source": [
    "from tqdm import tqdm\n",
    "import yfinance as yf\n",
    "performance=pd.DataFrame()\n",
    "ticker=ticker_list[0]\n",
    "\n",
    "set_print=False          # Change this to false if no priniting is required during execution. Else set it True\n",
    "\n",
    "\n",
    "market_data=yf.download(ticker+'.NS',start='2022-01-01',end='2024-02-01')\n",
    "market_data['Returns']=market_data['Close'].pct_change()\n",
    "market_data['Trends']='Sideways'\n",
    "market_data.loc[market_data['Returns']>0.007,'Trends']='Bullish'\n",
    "market_data.loc[market_data['Returns']<-0.007,'Trends']='Bearish'\n",
    "\n",
    "expiries=get_expiry(ticker_list[0],framework=option_contracts_framework_2023)\n",
    "if set_print:\n",
    "    print(market_data['Trends'].value_counts())\n",
    "\n",
    "# Initialize a list to store trend classifications for each expiry region\n",
    "expiry_trends = []\n",
    "\n",
    "# Iterate through the list of expiry timestamps\n",
    "flag=0\n",
    "for i in range(0,len(expiries)):\n",
    "    # Define the start and end timestamps for the current expiry region\n",
    "    if flag == 0:\n",
    "        start_timestamp=datetime.strptime('2023-01-01', '%Y-%m-%d')\n",
    "        end_timestamp = datetime.strptime('2023-01-25', '%Y-%m-%d')\n",
    "        flag=flag+1\n",
    "    else:\n",
    "        start_timestamp = expiries[i-1]\n",
    "        end_timestamp = expiries[i]\n",
    "    \n",
    "           \n",
    "    start_date_of_expiry_series=start_timestamp\n",
    "    try:\n",
    "        specific_row = market_data.loc[start_date_of_expiry_series]\n",
    "    except KeyError:\n",
    "        # If the specific date is not found, find the next available date\n",
    "        next_date = market_data.index[market_data.index > start_date_of_expiry_series][0]\n",
    "        specific_row = market_data.loc[next_date]\n",
    "\n",
    "    spot_price=int(specific_row['Close'])\n",
    "    strike_list=option_chain(ticker=ticker,\n",
    "                expiry=get_expiry(ticker=ticker,framework=option_contracts_framework_2023)[0],\n",
    "                framework=option_contracts_framework_2023)['Strike']\n",
    "    strike_list=[int(x) for x in strike_list]\n",
    "\n",
    "    ATM_strike = min(strike_list, key=lambda x: abs(x - spot_price))\n",
    "    \n",
    "\n",
    "    # Extract the market data for the current expiry region\n",
    "    region_data = market_data.loc[(market_data.index >= start_timestamp) & (market_data.index < end_timestamp)]\n",
    "    \n",
    "    # Count the occurrences of each trend type in the current expiry region\n",
    "    trend_counts = region_data['Trends'].value_counts()\n",
    "    \n",
    "    # Assign the trend with the maximum count as the trend for the current expiry region\n",
    "    dominant_trend = trend_counts.idxmax()\n",
    "    \n",
    "    # Append the dominant trend for the current expiry region to the list\n",
    "    expiry_trends.append((start_timestamp, end_timestamp, dominant_trend , ATM_strike))\n",
    "\n",
    "# Convert the list of expiry trends into a DataFrame for easier manipulation and analysis\n",
    "expiry_trends_df = pd.DataFrame(expiry_trends, columns=['Start of Expiry Series', 'End of Expiry Series', 'Trend', 'ATM Strike'])\n",
    "\n",
    "\n",
    "\n",
    "for expiry_date in tqdm(get_expiry(ticker=ticker,framework=option_contracts_framework_2023), desc=\"Processing\", unit=\"expiry\",position=0):\n",
    "    #For a particular Expiry, deploy an Iron Condor at the begining of Option Monthly Expiry Series. and it is held till end of monthly expiry.\n",
    "    df=option_contracts_framework_2023[(option_contracts_framework_2023['Ticker'] == ticker_list[1]) & (option_contracts_framework_2023['Expiry Date'] == expiry_date)]\n",
    "    df_PE=df[df['Type']=='PE']\n",
    "    df_CE=df[df['Type']=='CE']\n",
    "    df=pd.merge(df_CE,df_PE,on='Strike')\n",
    "    df.drop(['Ticker_x','Asset Type_x','Ticker_y','Expiry Date_y','Asset Type_y'],axis=1,inplace=True)\n",
    "    df.rename(columns={\"Contract Names_x\":\"Call Contracts\",\n",
    "                        \"Expiry Date_x\":\"Expiry Dates\",\n",
    "                        \"Type_x\":\"CE\",\n",
    "                        \"Contract Names_y\":\"Put Contracts\",\n",
    "                        \"Type_y\":\"Type\"},inplace=True)\n",
    "    \n",
    "    # Building Iron Condor\n",
    "\n",
    "    # Selection the ITM Strike - middle value of list\n",
    "    ATM_strike=expiry_trends_df[expiry_trends_df['End of Expiry Series']==expiry_date]['ATM Strike'].iloc[0]\n",
    "    if set_print:\n",
    "        print(ATM_strike)\n",
    "                                                                                                    \n",
    "    market_trend=expiry_trends_df[expiry_trends_df['End of Expiry Series']==expiry_date]['Trend'].iloc[0]\n",
    "    if set_print:\n",
    "        print(market_trend)\n",
    "\n",
    "    df=option_chain(ticker=ticker_list[0],\n",
    "                    expiry=expiry_date,\n",
    "                    framework=option_contracts_framework_2023)\n",
    "    df['Strike']=df['Strike'].astype(int)\n",
    "    if set_print:\n",
    "        print(df)\n",
    "    df.index[df['Strike']==ATM_strike]\n",
    "    # Selecting strike for legs of the Iron Condor\n",
    "    put_short_strike=df['Strike'].loc[df.index[df['Strike']==ATM_strike][0]-3]           # Short OTM Put 3 strike away from ATM Strike\n",
    "    call_short_strike=df['Strike'].loc[df.index[df['Strike']==ATM_strike][0]+3]          # Short OTM Call 3 strike away from ATM Strike\n",
    "    put_long_strike=df['Strike'].loc[df.index[df['Strike']==ATM_strike][0]-6]            # Short DOTM Put 6 strike away from ATM Strike\n",
    "    call_long_strike=df['Strike'].loc[df.index[df['Strike']==ATM_strike][0]+6]           # Short DOTM Call 6 strike away from ATM Strike\n",
    "    if set_print:\n",
    "        print(put_short_strike,call_short_strike,put_long_strike,call_long_strike)\n",
    "\n",
    "    # Finding the name of contracts of Iron condor\n",
    "    put_short_contract_name=df['Put Contracts'].loc[df.index[df['Strike']==ATM_strike][0]-3] \n",
    "    call_short_contract_name=df['Call Contracts'].loc[df.index[df['Strike']==ATM_strike][0]+3] \n",
    "    put_long_contract_name=df['Put Contracts'].loc[df.index[df['Strike']==ATM_strike][0]-6]  \n",
    "    call_long_contract_name=df['Call Contracts'].loc[df.index[df['Strike']==ATM_strike][0]+6]  \n",
    "\n",
    "    if set_print:\n",
    "        print(put_short_contract_name,call_short_contract_name,put_long_contract_name,call_long_contract_name)\n",
    "\n",
    "    # Getting Historical Data of selected contracts\n",
    "    put_short_contract_data=get_data(root_folder=root_folder,filename=put_short_contract_name)['Close']\n",
    "    call_short_contract_data=get_data(root_folder=root_folder,filename=call_short_contract_name)['Close']\n",
    "    put_long_contract_data=get_data(root_folder=root_folder,filename=put_long_contract_name)['Close']\n",
    "    call_long_contract_data=get_data(root_folder=root_folder,filename=call_long_contract_name)['Close']\n",
    "\n",
    "    # combining all the premium data\n",
    "    premium_data=pd.concat([put_short_contract_data,call_short_contract_data,put_long_contract_data,call_long_contract_data]\n",
    "                        ,keys=['Put Short','Call Short','Put Long','Call Long'],axis=1).dropna()\n",
    "    premium_data['Price of Iron Condor'] = np.round(premium_data['Put Short']+premium_data['Call Short'] - premium_data['Put Long']-premium_data['Call Long'],3)\n",
    "    premium_data['Profit']=np.round(premium_data['Price of Iron Condor'].apply(lambda x : -x+premium_data['Price of Iron Condor'][0]),3)\n",
    "    if set_print:\n",
    "        print(premium_data)\n",
    "    ticker_name=df['Call Contracts'][0][:df['Call Contracts'][0].find('23')]\n",
    "    Profit=premium_data['Profit'][-1]\n",
    "    Backtested_samples=premium_data.shape[0]\n",
    "    Maxmium_profit=premium_data['Profit'].max()\n",
    "    Percentage_duration_at_max_profit=(premium_data.index.get_loc(premium_data['Profit'].idxmax())+1)/len(premium_data)*100\n",
    "    Expiry=expiry_date\n",
    "    performance_df = pd.DataFrame({'Backtested Samples': Backtested_samples,\n",
    "                                   'Profit till Expiry': Profit,\n",
    "                                   'Maximum Profit':Maxmium_profit,\n",
    "                                   'Duration % at Max Profit':np.round(Percentage_duration_at_max_profit,3),\n",
    "                                    'Market Trend' :market_trend},index=[expiry_date.date()]).rename_axis('Expiry Date')\n",
    "\n",
    "    performance = pd.concat([performance, performance_df])\n",
    "\n",
    "performance"
   ]
  },
  {
   "cell_type": "markdown",
   "metadata": {},
   "source": [
    "We will Calculate the statistical behaviour of performance data"
   ]
  },
  {
   "cell_type": "code",
   "execution_count": 141,
   "metadata": {},
   "outputs": [
    {
     "data": {
      "text/html": [
       "<div>\n",
       "<style scoped>\n",
       "    .dataframe tbody tr th:only-of-type {\n",
       "        vertical-align: middle;\n",
       "    }\n",
       "\n",
       "    .dataframe tbody tr th {\n",
       "        vertical-align: top;\n",
       "    }\n",
       "\n",
       "    .dataframe thead th {\n",
       "        text-align: right;\n",
       "    }\n",
       "</style>\n",
       "<table border=\"1\" class=\"dataframe\">\n",
       "  <thead>\n",
       "    <tr style=\"text-align: right;\">\n",
       "      <th></th>\n",
       "      <th>Mean Profit</th>\n",
       "      <th>Std Profit</th>\n",
       "      <th>Risk Adjusted Profit</th>\n",
       "      <th>Mean Max Profit</th>\n",
       "    </tr>\n",
       "  </thead>\n",
       "  <tbody>\n",
       "    <tr>\n",
       "      <th>Ticker to be added in final code</th>\n",
       "      <td>-2.05</td>\n",
       "      <td>6.344038</td>\n",
       "      <td>-0.323138</td>\n",
       "      <td>2.8125</td>\n",
       "    </tr>\n",
       "  </tbody>\n",
       "</table>\n",
       "</div>"
      ],
      "text/plain": [
       "                                  Mean Profit  Std Profit  \\\n",
       "Ticker to be added in final code        -2.05    6.344038   \n",
       "\n",
       "                                  Risk Adjusted Profit  Mean Max Profit  \n",
       "Ticker to be added in final code             -0.323138           2.8125  "
      ]
     },
     "execution_count": 141,
     "metadata": {},
     "output_type": "execute_result"
    }
   ],
   "source": [
    "statistical_performance = pd.DataFrame({'Mean Profit':performance['Profit till Expiry'].mean(),\n",
    "                                        'Std Profit':performance['Profit till Expiry'].std(),\n",
    "                                        'Risk Adjusted Profit' : performance['Profit till Expiry'].mean()/performance['Profit till Expiry'].std(),\n",
    "                                        'Mean Max Profit':performance['Maximum Profit'].mean(),},index=['Ticker to be added in final code'])\n",
    "statistical_performance\n"
   ]
  },
  {
   "cell_type": "markdown",
   "metadata": {},
   "source": [
    "We will now check the performance for all the nifty50 ticker in available asset universe, and see the performance.\n",
    "\n",
    "For this, performance of all nifty50 tickers for all expiry series in Year 2023 are computed.\n",
    "\n",
    "We have downloaded the nifty50 tickers list from online"
   ]
  },
  {
   "cell_type": "code",
   "execution_count": 142,
   "metadata": {},
   "outputs": [
    {
     "name": "stdout",
     "output_type": "stream",
     "text": [
      "All the provided Ticker are in the Framework 2023\n"
     ]
    }
   ],
   "source": [
    "nifty_50_tickers=['ACC',\n",
    "                 'ADANIPORTS', \n",
    "                 'ASIANPAINT', \n",
    "                 'AXISBANK', 'BAJAJ-AUTO', \n",
    "                 'BAJFINANCE', 'BAJAJFINSV', \n",
    "                 'BPCL', 'BHARTIARTL', \n",
    "                 'BRITANNIA', 'CIPLA', 'COALINDIA', 'DIVISLAB', \n",
    "                 'DRREDDY', 'EICHERMOT', 'GRASIM', 'HCLTECH', 'HDFCBANK', \n",
    "                 'HDFCLIFE', 'HEROMOTOCO', 'HINDALCO', 'HINDUNILVR', 'ICICIBANK', \n",
    "                 'INDUSINDBK', 'INFY', 'ITC', 'JSWSTEEL', 'KOTAKBANK', 'LT', 'M&M', 'MARICO', \n",
    "                 'MARUTI', 'NESTLEIND', 'NTPC', 'ONGC', 'POWERGRID', 'RELIANCE', 'SHREECEM', 'SBIN', 'SBILIFE', \n",
    "                 'TATACONSUM', 'TATAMOTORS', 'TATASTEEL', 'TCS', 'TECHM', 'TITAN', 'ULTRACEMCO', 'UPL', 'WIPRO']\n",
    "#Check if stocks in above list are in the option_contrats_framework_2023\n",
    "if set(nifty_50_tickers).issubset(ticker_list):\n",
    "    print(\"All the provided Ticker are in the Framework 2023\")\n",
    "else:\n",
    "    print(\"Following tickers are not in Framework 2023\\n\",set(nifty_50_tickers) - set(ticker_list))"
   ]
  },
  {
   "cell_type": "markdown",
   "metadata": {},
   "source": [
    "We will now carry out the analysis for all the nifty 50 stocks for all expiries and generate statistical report."
   ]
  },
  {
   "cell_type": "code",
   "execution_count": 143,
   "metadata": {},
   "outputs": [
    {
     "name": "stderr",
     "output_type": "stream",
     "text": [
      "[*********************100%%**********************]  1 of 1 completed"
     ]
    },
    {
     "name": "stderr",
     "output_type": "stream",
     "text": [
      "\n"
     ]
    },
    {
     "name": "stdout",
     "output_type": "stream",
     "text": [
      "\n",
      " Start Building Symmteric Iron Condor Performance Charts for ACC\n",
      " \n"
     ]
    },
    {
     "name": "stderr",
     "output_type": "stream",
     "text": [
      "Processing: 100%|██████████| 12/12 [00:31<00:00,  2.64s/expiry]\n",
      "Processing:   2%|▏         | 1/49 [00:32<25:38, 32.06s/ticker]"
     ]
    },
    {
     "name": "stdout",
     "output_type": "stream",
     "text": [
      "\n",
      " Start Building Symmteric Iron Condor Performance Charts for ADANIPORTS\n",
      " \n"
     ]
    },
    {
     "name": "stderr",
     "output_type": "stream",
     "text": [
      "[*********************100%%**********************]  1 of 1 completed\n",
      "Processing: 100%|██████████| 12/12 [00:37<00:00,  3.14s/expiry]\n",
      "[*********************100%%**********************]  1 of 1 completed\n"
     ]
    },
    {
     "name": "stdout",
     "output_type": "stream",
     "text": [
      "\n",
      " Start Building Symmteric Iron Condor Performance Charts for ASIANPAINT\n",
      " \n"
     ]
    },
    {
     "name": "stderr",
     "output_type": "stream",
     "text": [
      "Processing: 100%|██████████| 12/12 [00:35<00:00,  2.94s/expiry]\n",
      "[*********************100%%**********************]  1 of 1 completed\n"
     ]
    },
    {
     "name": "stdout",
     "output_type": "stream",
     "text": [
      "\n",
      " Start Building Symmteric Iron Condor Performance Charts for AXISBANK\n",
      " \n"
     ]
    },
    {
     "name": "stderr",
     "output_type": "stream",
     "text": [
      "Processing:   0%|          | 0/12 [00:00<?, ?expiry/s]"
     ]
    },
    {
     "name": "stdout",
     "output_type": "stream",
     "text": [
      "Error occurred for ticker : AXISBANK for expiry date: 2023-01-25, Error: 27\n"
     ]
    },
    {
     "name": "stderr",
     "output_type": "stream",
     "text": [
      "Processing:  50%|█████     | 6/12 [00:17<00:19,  3.28s/expiry]"
     ]
    },
    {
     "name": "stdout",
     "output_type": "stream",
     "text": [
      "Error occurred for ticker : AXISBANK for expiry date: 2023-07-27, Error: 153\n"
     ]
    },
    {
     "name": "stderr",
     "output_type": "stream",
     "text": [
      "Processing: 100%|██████████| 12/12 [00:33<00:00,  2.79s/expiry]\n",
      "[*********************100%%**********************]  1 of 1 completed\n"
     ]
    },
    {
     "name": "stdout",
     "output_type": "stream",
     "text": [
      "\n",
      " Start Building Symmteric Iron Condor Performance Charts for BAJAJ-AUTO\n",
      " \n"
     ]
    },
    {
     "name": "stderr",
     "output_type": "stream",
     "text": [
      "Processing:   0%|          | 0/12 [00:00<?, ?expiry/s]"
     ]
    },
    {
     "name": "stdout",
     "output_type": "stream",
     "text": [
      "Error occurred for ticker : BAJAJ-AUTO for expiry date: 2023-01-25, Error: -1\n"
     ]
    },
    {
     "name": "stderr",
     "output_type": "stream",
     "text": [
      "Processing: 100%|██████████| 12/12 [00:25<00:00,  2.14s/expiry]\n",
      "[*********************100%%**********************]  1 of 1 completed\n"
     ]
    },
    {
     "name": "stdout",
     "output_type": "stream",
     "text": [
      "\n",
      " Start Building Symmteric Iron Condor Performance Charts for BAJFINANCE\n",
      " \n"
     ]
    },
    {
     "name": "stderr",
     "output_type": "stream",
     "text": [
      "Processing: 100%|██████████| 12/12 [00:36<00:00,  3.03s/expiry]\n",
      "[*********************100%%**********************]  1 of 1 completed\n"
     ]
    },
    {
     "name": "stdout",
     "output_type": "stream",
     "text": [
      "\n",
      " Start Building Symmteric Iron Condor Performance Charts for BAJAJFINSV\n",
      " \n"
     ]
    },
    {
     "name": "stderr",
     "output_type": "stream",
     "text": [
      "Processing: 100%|██████████| 12/12 [00:32<00:00,  2.72s/expiry]\n",
      "[*********************100%%**********************]  1 of 1 completed\n"
     ]
    },
    {
     "name": "stdout",
     "output_type": "stream",
     "text": [
      "\n",
      " Start Building Symmteric Iron Condor Performance Charts for BPCL\n",
      " \n"
     ]
    },
    {
     "name": "stderr",
     "output_type": "stream",
     "text": [
      "Processing:   0%|          | 0/12 [00:00<?, ?expiry/s]"
     ]
    },
    {
     "name": "stdout",
     "output_type": "stream",
     "text": [
      "Error occurred for ticker : BPCL for expiry date: 2023-01-25, Error: -1\n"
     ]
    },
    {
     "name": "stderr",
     "output_type": "stream",
     "text": [
      "Processing:  58%|█████▊    | 7/12 [00:05<00:02,  1.77expiry/s]"
     ]
    },
    {
     "name": "stdout",
     "output_type": "stream",
     "text": [
      "Error occurred for ticker : BPCL for expiry date: 2023-04-27, Error: invalid literal for int() with base 10: '312.5'\n",
      "Error occurred for ticker : BPCL for expiry date: 2023-05-25, Error: invalid literal for int() with base 10: '337.5'\n",
      "Error occurred for ticker : BPCL for expiry date: 2023-06-29, Error: invalid literal for int() with base 10: '342.5'\n",
      "Error occurred for ticker : BPCL for expiry date: 2023-07-27, Error: invalid literal for int() with base 10: '357.5'\n",
      "Error occurred for ticker : BPCL for expiry date: 2023-08-31, Error: invalid literal for int() with base 10: '332.5'\n"
     ]
    },
    {
     "name": "stderr",
     "output_type": "stream",
     "text": [
      "Processing: 100%|██████████| 12/12 [00:07<00:00,  1.51expiry/s]\n",
      "[*********************100%%**********************]  1 of 1 completed"
     ]
    },
    {
     "name": "stdout",
     "output_type": "stream",
     "text": [
      "Error occurred for ticker : BPCL for expiry date: 2023-10-26, Error: invalid literal for int() with base 10: '322.5'\n",
      "Error occurred for ticker : BPCL for expiry date: 2023-11-30, Error: invalid literal for int() with base 10: '332.5'\n",
      "Error occurred for ticker : BPCL for expiry date: 2023-12-28, Error: invalid literal for int() with base 10: '381.5'\n",
      "\n",
      " Start Building Symmteric Iron Condor Performance Charts for BHARTIARTL\n",
      " \n"
     ]
    },
    {
     "name": "stderr",
     "output_type": "stream",
     "text": [
      "\n",
      "Processing: 100%|██████████| 12/12 [00:42<00:00,  3.54s/expiry]\n",
      "[*********************100%%**********************]  1 of 1 completed\n"
     ]
    },
    {
     "name": "stdout",
     "output_type": "stream",
     "text": [
      "\n",
      " Start Building Symmteric Iron Condor Performance Charts for BRITANNIA\n",
      " \n"
     ]
    },
    {
     "name": "stderr",
     "output_type": "stream",
     "text": [
      "Processing:  17%|█▋        | 2/12 [00:04<00:22,  2.21s/expiry]"
     ]
    },
    {
     "name": "stdout",
     "output_type": "stream",
     "text": [
      "Error occurred for ticker : BRITANNIA for expiry date: 2023-03-29, Error: 59\n"
     ]
    },
    {
     "name": "stderr",
     "output_type": "stream",
     "text": [
      "Processing:  67%|██████▋   | 8/12 [00:16<00:08,  2.21s/expiry]"
     ]
    },
    {
     "name": "stdout",
     "output_type": "stream",
     "text": [
      "Error occurred for ticker : BRITANNIA for expiry date: 2023-09-28, Error: 53\n"
     ]
    },
    {
     "name": "stderr",
     "output_type": "stream",
     "text": [
      "Processing: 100%|██████████| 12/12 [00:23<00:00,  2.00s/expiry]\n",
      "[*********************100%%**********************]  1 of 1 completed"
     ]
    },
    {
     "name": "stdout",
     "output_type": "stream",
     "text": [
      "\n",
      " Start Building Symmteric Iron Condor Performance Charts for CIPLA\n",
      " \n"
     ]
    },
    {
     "name": "stderr",
     "output_type": "stream",
     "text": [
      "\n",
      "Processing: 100%|██████████| 12/12 [00:31<00:00,  2.64s/expiry]\n",
      "[*********************100%%**********************]  1 of 1 completed\n"
     ]
    },
    {
     "name": "stdout",
     "output_type": "stream",
     "text": [
      "\n",
      " Start Building Symmteric Iron Condor Performance Charts for COALINDIA\n",
      " \n"
     ]
    },
    {
     "name": "stderr",
     "output_type": "stream",
     "text": [
      "Processing:  33%|███▎      | 4/12 [00:00<00:00, 31.99expiry/s]"
     ]
    },
    {
     "name": "stdout",
     "output_type": "stream",
     "text": [
      "Error occurred for ticker : COALINDIA for expiry date: 2023-01-25, Error: invalid literal for int() with base 10: '202.5'\n",
      "Error occurred for ticker : COALINDIA for expiry date: 2023-02-23, Error: invalid literal for int() with base 10: '174.75'\n",
      "Error occurred for ticker : COALINDIA for expiry date: 2023-03-29, Error: invalid literal for int() with base 10: '194.75'\n",
      "Error occurred for ticker : COALINDIA for expiry date: 2023-04-27, Error: invalid literal for int() with base 10: '204.75'\n",
      "Error occurred for ticker : COALINDIA for expiry date: 2023-05-25, Error: invalid literal for int() with base 10: '217.5'\n",
      "Error occurred for ticker : COALINDIA for expiry date: 2023-06-29, Error: invalid literal for int() with base 10: '212.5'\n",
      "Error occurred for ticker : COALINDIA for expiry date: 2023-07-27, Error: invalid literal for int() with base 10: '212.5'\n",
      "Error occurred for ticker : COALINDIA for expiry date: 2023-08-31, Error: invalid literal for int() with base 10: '212.5'\n"
     ]
    },
    {
     "name": "stderr",
     "output_type": "stream",
     "text": [
      "Processing: 100%|██████████| 12/12 [00:00<00:00, 31.31expiry/s]\n",
      "Processing:  24%|██▍       | 12/49 [05:46<13:03, 21.17s/ticker]"
     ]
    },
    {
     "name": "stdout",
     "output_type": "stream",
     "text": [
      "Error occurred for ticker : COALINDIA for expiry date: 2023-09-28, Error: invalid literal for int() with base 10: '222.5'\n",
      "Error occurred for ticker : COALINDIA for expiry date: 2023-10-26, Error: invalid literal for int() with base 10: '252.5'\n",
      "Error occurred for ticker : COALINDIA for expiry date: 2023-11-30, Error: invalid literal for int() with base 10: '184.75'\n",
      "Error occurred for ticker : COALINDIA for expiry date: 2023-12-28, Error: invalid literal for int() with base 10: '234.75'\n",
      "\n",
      " Start Building Symmteric Iron Condor Performance Charts for DIVISLAB\n",
      " \n"
     ]
    },
    {
     "name": "stderr",
     "output_type": "stream",
     "text": [
      "[*********************100%%**********************]  1 of 1 completed\n",
      "Processing: 100%|██████████| 12/12 [00:28<00:00,  2.42s/expiry]\n",
      "[*********************100%%**********************]  1 of 1 completed\n"
     ]
    },
    {
     "name": "stdout",
     "output_type": "stream",
     "text": [
      "\n",
      " Start Building Symmteric Iron Condor Performance Charts for DRREDDY\n",
      " \n"
     ]
    },
    {
     "name": "stderr",
     "output_type": "stream",
     "text": [
      "Processing: 100%|██████████| 12/12 [00:31<00:00,  2.66s/expiry]\n",
      "[*********************100%%**********************]  1 of 1 completed\n"
     ]
    },
    {
     "name": "stdout",
     "output_type": "stream",
     "text": [
      "\n",
      " Start Building Symmteric Iron Condor Performance Charts for EICHERMOT\n",
      " \n"
     ]
    },
    {
     "name": "stderr",
     "output_type": "stream",
     "text": [
      "Processing: 100%|██████████| 12/12 [00:32<00:00,  2.67s/expiry]\n",
      "[*********************100%%**********************]  1 of 1 completed"
     ]
    },
    {
     "name": "stdout",
     "output_type": "stream",
     "text": [
      "\n",
      " Start Building Symmteric Iron Condor Performance Charts for GRASIM\n",
      " \n"
     ]
    },
    {
     "name": "stderr",
     "output_type": "stream",
     "text": [
      "\n",
      "Processing: 100%|██████████| 12/12 [00:28<00:00,  2.36s/expiry]\n",
      "[*********************100%%**********************]  1 of 1 completed\n"
     ]
    },
    {
     "name": "stdout",
     "output_type": "stream",
     "text": [
      "\n",
      " Start Building Symmteric Iron Condor Performance Charts for HCLTECH\n",
      " \n"
     ]
    },
    {
     "name": "stderr",
     "output_type": "stream",
     "text": [
      "Processing:   0%|          | 0/12 [00:00<?, ?expiry/s]"
     ]
    },
    {
     "name": "stdout",
     "output_type": "stream",
     "text": [
      "Error occurred for ticker : HCLTECH for expiry date: 2023-01-25, Error: -2\n"
     ]
    },
    {
     "name": "stderr",
     "output_type": "stream",
     "text": [
      "Processing: 100%|██████████| 12/12 [00:30<00:00,  2.54s/expiry]\n",
      "[*********************100%%**********************]  1 of 1 completed\n"
     ]
    },
    {
     "name": "stdout",
     "output_type": "stream",
     "text": [
      "\n",
      " Start Building Symmteric Iron Condor Performance Charts for HDFCBANK\n",
      " \n"
     ]
    },
    {
     "name": "stderr",
     "output_type": "stream",
     "text": [
      "Processing: 100%|██████████| 12/12 [00:41<00:00,  3.43s/expiry]\n",
      "[*********************100%%**********************]  1 of 1 completed\n"
     ]
    },
    {
     "name": "stdout",
     "output_type": "stream",
     "text": [
      "\n",
      " Start Building Symmteric Iron Condor Performance Charts for HDFCLIFE\n",
      " \n"
     ]
    },
    {
     "name": "stderr",
     "output_type": "stream",
     "text": [
      "Processing: 100%|██████████| 12/12 [00:31<00:00,  2.63s/expiry]\n",
      "[*********************100%%**********************]  1 of 1 completed\n"
     ]
    },
    {
     "name": "stdout",
     "output_type": "stream",
     "text": [
      "\n",
      " Start Building Symmteric Iron Condor Performance Charts for HEROMOTOCO\n",
      " \n"
     ]
    },
    {
     "name": "stderr",
     "output_type": "stream",
     "text": [
      "Processing:   0%|          | 0/12 [00:00<?, ?expiry/s]"
     ]
    },
    {
     "name": "stdout",
     "output_type": "stream",
     "text": [
      "Error occurred for ticker : HEROMOTOCO for expiry date: 2023-01-25, Error: -1\n"
     ]
    },
    {
     "name": "stderr",
     "output_type": "stream",
     "text": [
      "Processing: 100%|██████████| 12/12 [00:26<00:00,  2.24s/expiry]\n",
      "Processing:  41%|████      | 20/49 [10:02<15:02, 31.13s/ticker]"
     ]
    },
    {
     "name": "stdout",
     "output_type": "stream",
     "text": [
      "\n",
      " Start Building Symmteric Iron Condor Performance Charts for HINDALCO\n",
      " \n"
     ]
    },
    {
     "name": "stderr",
     "output_type": "stream",
     "text": [
      "[*********************100%%**********************]  1 of 1 completed\n",
      "Processing: 100%|██████████| 12/12 [00:32<00:00,  2.70s/expiry]\n",
      "[*********************100%%**********************]  1 of 1 completed\n"
     ]
    },
    {
     "name": "stdout",
     "output_type": "stream",
     "text": [
      "\n",
      " Start Building Symmteric Iron Condor Performance Charts for HINDUNILVR\n",
      " \n"
     ]
    },
    {
     "name": "stderr",
     "output_type": "stream",
     "text": [
      "Processing:  42%|████▏     | 5/12 [00:14<00:19,  2.84s/expiry]"
     ]
    },
    {
     "name": "stdout",
     "output_type": "stream",
     "text": [
      "Error occurred for ticker : HINDUNILVR for expiry date: 2023-06-29, Error: -3\n"
     ]
    },
    {
     "name": "stderr",
     "output_type": "stream",
     "text": [
      "Processing:  67%|██████▋   | 8/12 [00:20<00:09,  2.47s/expiry]"
     ]
    },
    {
     "name": "stdout",
     "output_type": "stream",
     "text": [
      "Error occurred for ticker : HINDUNILVR for expiry date: 2023-09-28, Error: -2\n"
     ]
    },
    {
     "name": "stderr",
     "output_type": "stream",
     "text": [
      "Processing: 100%|██████████| 12/12 [00:30<00:00,  2.53s/expiry]\n",
      "[*********************100%%**********************]  1 of 1 completed\n"
     ]
    },
    {
     "name": "stdout",
     "output_type": "stream",
     "text": [
      "\n",
      " Start Building Symmteric Iron Condor Performance Charts for ICICIBANK\n",
      " \n"
     ]
    },
    {
     "name": "stderr",
     "output_type": "stream",
     "text": [
      "Processing:  58%|█████▊    | 7/12 [00:23<00:17,  3.45s/expiry]"
     ]
    },
    {
     "name": "stdout",
     "output_type": "stream",
     "text": [
      "Error occurred for ticker : ICICIBANK for expiry date: 2023-08-31, Error: 135\n"
     ]
    },
    {
     "name": "stderr",
     "output_type": "stream",
     "text": [
      "Processing: 100%|██████████| 12/12 [00:36<00:00,  3.08s/expiry]\n",
      "[*********************100%%**********************]  1 of 1 completed\n"
     ]
    },
    {
     "name": "stdout",
     "output_type": "stream",
     "text": [
      "\n",
      " Start Building Symmteric Iron Condor Performance Charts for INDUSINDBK\n",
      " \n"
     ]
    },
    {
     "name": "stderr",
     "output_type": "stream",
     "text": [
      "Processing: 100%|██████████| 12/12 [00:37<00:00,  3.09s/expiry]\n",
      "[*********************100%%**********************]  1 of 1 completed\n"
     ]
    },
    {
     "name": "stdout",
     "output_type": "stream",
     "text": [
      "\n",
      " Start Building Symmteric Iron Condor Performance Charts for INFY\n",
      " \n"
     ]
    },
    {
     "name": "stderr",
     "output_type": "stream",
     "text": [
      "Processing: 100%|██████████| 12/12 [00:39<00:00,  3.31s/expiry]\n",
      "[*********************100%%**********************]  1 of 1 completed\n"
     ]
    },
    {
     "name": "stdout",
     "output_type": "stream",
     "text": [
      "\n",
      " Start Building Symmteric Iron Condor Performance Charts for ITC\n",
      " \n"
     ]
    },
    {
     "name": "stderr",
     "output_type": "stream",
     "text": [
      "Processing:  50%|█████     | 6/12 [00:00<00:00, 27.43expiry/s]"
     ]
    },
    {
     "name": "stdout",
     "output_type": "stream",
     "text": [
      "Error occurred for ticker : ITC for expiry date: 2023-01-25, Error: invalid literal for int() with base 10: '312.5'\n",
      "Error occurred for ticker : ITC for expiry date: 2023-02-23, Error: invalid literal for int() with base 10: '277.5'\n",
      "Error occurred for ticker : ITC for expiry date: 2023-03-29, Error: invalid literal for int() with base 10: '277.5'\n",
      "Error occurred for ticker : ITC for expiry date: 2023-04-27, Error: invalid literal for int() with base 10: '282.5'\n",
      "Error occurred for ticker : ITC for expiry date: 2023-05-25, Error: invalid literal for int() with base 10: '347.5'\n",
      "Error occurred for ticker : ITC for expiry date: 2023-06-29, Error: invalid literal for int() with base 10: '407.5'\n",
      "Error occurred for ticker : ITC for expiry date: 2023-07-27, Error: invalid literal for int() with base 10: '355.5'\n",
      "Error occurred for ticker : ITC for expiry date: 2023-08-31, Error: invalid literal for int() with base 10: '380.5'\n"
     ]
    },
    {
     "name": "stderr",
     "output_type": "stream",
     "text": [
      "Processing: 100%|██████████| 12/12 [00:03<00:00,  3.36expiry/s]\n",
      "Processing:  53%|█████▎    | 26/49 [13:06<10:13, 26.67s/ticker]"
     ]
    },
    {
     "name": "stdout",
     "output_type": "stream",
     "text": [
      "Error occurred for ticker : ITC for expiry date: 2023-10-26, Error: invalid literal for int() with base 10: '417.5'\n",
      "Error occurred for ticker : ITC for expiry date: 2023-11-30, Error: invalid literal for int() with base 10: '412.5'\n",
      "Error occurred for ticker : ITC for expiry date: 2023-12-28, Error: invalid literal for int() with base 10: '422.5'\n",
      "\n",
      " Start Building Symmteric Iron Condor Performance Charts for JSWSTEEL\n",
      " \n"
     ]
    },
    {
     "name": "stderr",
     "output_type": "stream",
     "text": [
      "[*********************100%%**********************]  1 of 1 completed\n",
      "Processing:  42%|████▏     | 5/12 [00:14<00:20,  2.89s/expiry]"
     ]
    },
    {
     "name": "stdout",
     "output_type": "stream",
     "text": [
      "Error occurred for ticker : JSWSTEEL for expiry date: 2023-06-29, Error: -3\n"
     ]
    },
    {
     "name": "stderr",
     "output_type": "stream",
     "text": [
      "Processing: 100%|██████████| 12/12 [00:32<00:00,  2.74s/expiry]\n",
      "[*********************100%%**********************]  1 of 1 completed\n"
     ]
    },
    {
     "name": "stdout",
     "output_type": "stream",
     "text": [
      "\n",
      " Start Building Symmteric Iron Condor Performance Charts for KOTAKBANK\n",
      " \n"
     ]
    },
    {
     "name": "stderr",
     "output_type": "stream",
     "text": [
      "Processing: 100%|██████████| 12/12 [00:38<00:00,  3.24s/expiry]\n",
      "[*********************100%%**********************]  1 of 1 completed\n"
     ]
    },
    {
     "name": "stdout",
     "output_type": "stream",
     "text": [
      "\n",
      " Start Building Symmteric Iron Condor Performance Charts for LT\n",
      " \n"
     ]
    },
    {
     "name": "stderr",
     "output_type": "stream",
     "text": [
      "Processing: 100%|██████████| 12/12 [00:36<00:00,  3.04s/expiry]\n",
      "[*********************100%%**********************]  1 of 1 completed\n"
     ]
    },
    {
     "name": "stdout",
     "output_type": "stream",
     "text": [
      "\n",
      " Start Building Symmteric Iron Condor Performance Charts for M&M\n",
      " \n"
     ]
    },
    {
     "name": "stderr",
     "output_type": "stream",
     "text": [
      "Processing:   0%|          | 0/12 [00:00<?, ?expiry/s]"
     ]
    },
    {
     "name": "stdout",
     "output_type": "stream",
     "text": [
      "Error occurred for ticker : M&M for expiry date: 2023-01-25, Error: -1\n"
     ]
    },
    {
     "name": "stderr",
     "output_type": "stream",
     "text": [
      "Processing: 100%|██████████| 12/12 [00:30<00:00,  2.54s/expiry]\n",
      "[*********************100%%**********************]  1 of 1 completed\n"
     ]
    },
    {
     "name": "stdout",
     "output_type": "stream",
     "text": [
      "\n",
      " Start Building Symmteric Iron Condor Performance Charts for MARICO\n",
      " \n"
     ]
    },
    {
     "name": "stderr",
     "output_type": "stream",
     "text": [
      "Processing: 100%|██████████| 12/12 [00:28<00:00,  2.41s/expiry]\n",
      "[*********************100%%**********************]  1 of 1 completed\n"
     ]
    },
    {
     "name": "stdout",
     "output_type": "stream",
     "text": [
      "\n",
      " Start Building Symmteric Iron Condor Performance Charts for MARUTI\n",
      " \n"
     ]
    },
    {
     "name": "stderr",
     "output_type": "stream",
     "text": [
      "Processing:  67%|██████▋   | 8/12 [00:25<00:13,  3.31s/expiry]"
     ]
    },
    {
     "name": "stdout",
     "output_type": "stream",
     "text": [
      "Error occurred for ticker : MARUTI for expiry date: 2023-09-28, Error: -3\n"
     ]
    },
    {
     "name": "stderr",
     "output_type": "stream",
     "text": [
      "Processing: 100%|██████████| 12/12 [00:36<00:00,  3.04s/expiry]\n",
      "Processing:  65%|██████▌   | 32/49 [16:33<09:26, 33.33s/ticker]"
     ]
    },
    {
     "name": "stdout",
     "output_type": "stream",
     "text": [
      "\n",
      " Start Building Symmteric Iron Condor Performance Charts for NESTLEIND\n",
      " \n"
     ]
    },
    {
     "name": "stderr",
     "output_type": "stream",
     "text": [
      "[*********************100%%**********************]  1 of 1 completed\n",
      "Processing:   0%|          | 0/12 [00:00<?, ?expiry/s]"
     ]
    },
    {
     "name": "stdout",
     "output_type": "stream",
     "text": [
      "Error occurred for ticker : NESTLEIND for expiry date: 2023-01-25, Error: -3\n",
      "Error occurred for ticker : NESTLEIND for expiry date: 2023-02-23, Error: -3\n"
     ]
    },
    {
     "name": "stderr",
     "output_type": "stream",
     "text": [
      "Processing:  75%|███████▌  | 9/12 [00:02<00:00,  5.55expiry/s]"
     ]
    },
    {
     "name": "stdout",
     "output_type": "stream",
     "text": [
      "Error occurred for ticker : NESTLEIND for expiry date: 2023-04-27, Error: -3\n",
      "Error occurred for ticker : NESTLEIND for expiry date: 2023-05-25, Error: -3\n",
      "Error occurred for ticker : NESTLEIND for expiry date: 2023-06-29, Error: -3\n",
      "Error occurred for ticker : NESTLEIND for expiry date: 2023-07-27, Error: -3\n",
      "Error occurred for ticker : NESTLEIND for expiry date: 2023-08-31, Error: -3\n",
      "Error occurred for ticker : NESTLEIND for expiry date: 2023-09-28, Error: -3\n"
     ]
    },
    {
     "name": "stderr",
     "output_type": "stream",
     "text": [
      "Processing: 100%|██████████| 12/12 [00:02<00:00,  5.06expiry/s]\n",
      "[*********************100%%**********************]  1 of 1 completed"
     ]
    },
    {
     "name": "stdout",
     "output_type": "stream",
     "text": [
      "Error occurred for ticker : NESTLEIND for expiry date: 2023-10-26, Error: -3\n",
      "Error occurred for ticker : NESTLEIND for expiry date: 2023-11-30, Error: -3\n",
      "Error occurred for ticker : NESTLEIND for expiry date: 2023-12-28, Error: -3\n",
      "\n",
      " Start Building Symmteric Iron Condor Performance Charts for NTPC\n",
      " \n"
     ]
    },
    {
     "name": "stderr",
     "output_type": "stream",
     "text": [
      "\n",
      "Processing:  58%|█████▊    | 7/12 [00:00<00:00, 29.23expiry/s]"
     ]
    },
    {
     "name": "stdout",
     "output_type": "stream",
     "text": [
      "Error occurred for ticker : NTPC for expiry date: 2023-01-25, Error: invalid literal for int() with base 10: '157.5'\n",
      "Error occurred for ticker : NTPC for expiry date: 2023-02-23, Error: invalid literal for int() with base 10: '135.75'\n",
      "Error occurred for ticker : NTPC for expiry date: 2023-03-29, Error: invalid literal for int() with base 10: '153.25'\n",
      "Error occurred for ticker : NTPC for expiry date: 2023-04-27, Error: invalid literal for int() with base 10: '162.5'\n",
      "Error occurred for ticker : NTPC for expiry date: 2023-05-25, Error: invalid literal for int() with base 10: '162.5'\n",
      "Error occurred for ticker : NTPC for expiry date: 2023-06-29, Error: invalid literal for int() with base 10: '182.5'\n",
      "Error occurred for ticker : NTPC for expiry date: 2023-07-27, Error: invalid literal for int() with base 10: '167.5'\n",
      "Error occurred for ticker : NTPC for expiry date: 2023-08-31, Error: invalid literal for int() with base 10: '192.5'\n"
     ]
    },
    {
     "name": "stderr",
     "output_type": "stream",
     "text": [
      "Processing: 100%|██████████| 12/12 [00:02<00:00,  4.85expiry/s]\n",
      "Processing:  69%|██████▉   | 34/49 [16:40<04:28, 17.87s/ticker]"
     ]
    },
    {
     "name": "stdout",
     "output_type": "stream",
     "text": [
      "Error occurred for ticker : NTPC for expiry date: 2023-10-26, Error: invalid literal for int() with base 10: '227.5'\n",
      "Error occurred for ticker : NTPC for expiry date: 2023-11-30, Error: invalid literal for int() with base 10: '222.5'\n",
      "Error occurred for ticker : NTPC for expiry date: 2023-12-28, Error: invalid literal for int() with base 10: '242.5'\n",
      "\n",
      " Start Building Symmteric Iron Condor Performance Charts for ONGC\n",
      " \n"
     ]
    },
    {
     "name": "stderr",
     "output_type": "stream",
     "text": [
      "[*********************100%%**********************]  1 of 1 completed\n",
      "Processing:  25%|██▌       | 3/12 [00:00<00:00, 28.49expiry/s]"
     ]
    },
    {
     "name": "stdout",
     "output_type": "stream",
     "text": [
      "Error occurred for ticker : ONGC for expiry date: 2023-01-25, Error: invalid literal for int() with base 10: '137.5'\n",
      "Error occurred for ticker : ONGC for expiry date: 2023-02-23, Error: invalid literal for int() with base 10: '127.5'\n",
      "Error occurred for ticker : ONGC for expiry date: 2023-03-29, Error: invalid literal for int() with base 10: '133.5'\n",
      "Error occurred for ticker : ONGC for expiry date: 2023-04-27, Error: invalid literal for int() with base 10: '147.5'\n",
      "Error occurred for ticker : ONGC for expiry date: 2023-05-25, Error: invalid literal for int() with base 10: '147.5'\n"
     ]
    },
    {
     "name": "stderr",
     "output_type": "stream",
     "text": [
      "Processing: 100%|██████████| 12/12 [00:10<00:00,  1.10expiry/s]\n",
      "[*********************100%%**********************]  1 of 1 completed"
     ]
    },
    {
     "name": "stdout",
     "output_type": "stream",
     "text": [
      "Error occurred for ticker : ONGC for expiry date: 2023-11-30, Error: invalid literal for int() with base 10: '154.25'\n",
      "Error occurred for ticker : ONGC for expiry date: 2023-12-28, Error: invalid literal for int() with base 10: '155.25'\n",
      "\n",
      " Start Building Symmteric Iron Condor Performance Charts for POWERGRID\n",
      " \n"
     ]
    },
    {
     "name": "stderr",
     "output_type": "stream",
     "text": [
      "\n",
      "Processing:  50%|█████     | 6/12 [00:00<00:00, 28.68expiry/s]"
     ]
    },
    {
     "name": "stdout",
     "output_type": "stream",
     "text": [
      "Error occurred for ticker : POWERGRID for expiry date: 2023-01-25, Error: invalid literal for int() with base 10: '192.5'\n",
      "Error occurred for ticker : POWERGRID for expiry date: 2023-02-23, Error: invalid literal for int() with base 10: '197.5'\n",
      "Error occurred for ticker : POWERGRID for expiry date: 2023-03-29, Error: invalid literal for int() with base 10: '202.5'\n",
      "Error occurred for ticker : POWERGRID for expiry date: 2023-04-27, Error: invalid literal for int() with base 10: '207.5'\n",
      "Error occurred for ticker : POWERGRID for expiry date: 2023-05-25, Error: invalid literal for int() with base 10: '217.5'\n",
      "Error occurred for ticker : POWERGRID for expiry date: 2023-06-29, Error: invalid literal for int() with base 10: '217.5'\n",
      "Error occurred for ticker : POWERGRID for expiry date: 2023-07-27, Error: invalid literal for int() with base 10: '222.5'\n"
     ]
    },
    {
     "name": "stderr",
     "output_type": "stream",
     "text": [
      "Processing: 100%|██████████| 12/12 [00:00<00:00, 27.82expiry/s]\n",
      "[*********************100%%**********************]  1 of 1 completed"
     ]
    },
    {
     "name": "stdout",
     "output_type": "stream",
     "text": [
      "Error occurred for ticker : POWERGRID for expiry date: 2023-08-31, Error: invalid literal for int() with base 10: '205.25'\n",
      "Error occurred for ticker : POWERGRID for expiry date: 2023-09-28, Error: invalid literal for int() with base 10: '210.25'\n",
      "Error occurred for ticker : POWERGRID for expiry date: 2023-10-26, Error: invalid literal for int() with base 10: '187.5'\n",
      "Error occurred for ticker : POWERGRID for expiry date: 2023-11-30, Error: invalid literal for int() with base 10: '187.5'\n",
      "Error occurred for ticker : POWERGRID for expiry date: 2023-12-28, Error: invalid literal for int() with base 10: '192.5'\n",
      "\n",
      " Start Building Symmteric Iron Condor Performance Charts for RELIANCE\n",
      " \n"
     ]
    },
    {
     "name": "stderr",
     "output_type": "stream",
     "text": [
      "\n",
      "Processing:  25%|██▌       | 3/12 [00:07<00:23,  2.59s/expiry]"
     ]
    },
    {
     "name": "stdout",
     "output_type": "stream",
     "text": [
      "Error occurred for ticker : RELIANCE for expiry date: 2023-04-27, Error: 234\n"
     ]
    },
    {
     "name": "stderr",
     "output_type": "stream",
     "text": [
      "Processing:  50%|█████     | 6/12 [00:11<00:11,  1.88s/expiry]"
     ]
    },
    {
     "name": "stdout",
     "output_type": "stream",
     "text": [
      "Error occurred for ticker : RELIANCE for expiry date: 2023-06-29, Error: index -1 is out of bounds for axis 0 with size 0\n"
     ]
    },
    {
     "name": "stderr",
     "output_type": "stream",
     "text": [
      "Processing:  58%|█████▊    | 7/12 [00:14<00:09,  1.98s/expiry]"
     ]
    },
    {
     "name": "stdout",
     "output_type": "stream",
     "text": [
      "Error occurred for ticker : RELIANCE for expiry date: 2023-07-27, Error: index -1 is out of bounds for axis 0 with size 0\n"
     ]
    },
    {
     "name": "stderr",
     "output_type": "stream",
     "text": [
      "Processing: 100%|██████████| 12/12 [00:31<00:00,  2.60s/expiry]\n",
      "[*********************100%%**********************]  1 of 1 completed\n"
     ]
    },
    {
     "name": "stdout",
     "output_type": "stream",
     "text": [
      "\n",
      " Start Building Symmteric Iron Condor Performance Charts for SHREECEM\n",
      " \n"
     ]
    },
    {
     "name": "stderr",
     "output_type": "stream",
     "text": [
      "Processing:  17%|█▋        | 2/12 [00:04<00:20,  2.03s/expiry]"
     ]
    },
    {
     "name": "stdout",
     "output_type": "stream",
     "text": [
      "Error occurred for ticker : SHREECEM for expiry date: 2023-02-23, Error: index -1 is out of bounds for axis 0 with size 0\n"
     ]
    },
    {
     "name": "stderr",
     "output_type": "stream",
     "text": [
      "Processing:  67%|██████▋   | 8/12 [00:17<00:08,  2.16s/expiry]"
     ]
    },
    {
     "name": "stdout",
     "output_type": "stream",
     "text": [
      "Error occurred for ticker : SHREECEM for expiry date: 2023-09-28, Error: -3\n"
     ]
    },
    {
     "name": "stderr",
     "output_type": "stream",
     "text": [
      "Processing:  92%|█████████▏| 11/12 [00:21<00:01,  1.72s/expiry]"
     ]
    },
    {
     "name": "stdout",
     "output_type": "stream",
     "text": [
      "Error occurred for ticker : SHREECEM for expiry date: 2023-11-30, Error: index -1 is out of bounds for axis 0 with size 0\n"
     ]
    },
    {
     "name": "stderr",
     "output_type": "stream",
     "text": [
      "Processing: 100%|██████████| 12/12 [00:22<00:00,  1.92s/expiry]\n",
      "[*********************100%%**********************]  1 of 1 completed"
     ]
    },
    {
     "name": "stdout",
     "output_type": "stream",
     "text": [
      "Error occurred for ticker : SHREECEM for expiry date: 2023-12-28, Error: index -1 is out of bounds for axis 0 with size 0\n",
      "\n",
      " Start Building Symmteric Iron Condor Performance Charts for SBIN\n",
      " \n"
     ]
    },
    {
     "name": "stderr",
     "output_type": "stream",
     "text": [
      "\n",
      "Processing: 100%|██████████| 12/12 [00:36<00:00,  3.02s/expiry]\n",
      "[*********************100%%**********************]  1 of 1 completed\n"
     ]
    },
    {
     "name": "stdout",
     "output_type": "stream",
     "text": [
      "\n",
      " Start Building Symmteric Iron Condor Performance Charts for SBILIFE\n",
      " \n"
     ]
    },
    {
     "name": "stderr",
     "output_type": "stream",
     "text": [
      "Processing:   0%|          | 0/12 [00:00<?, ?expiry/s]"
     ]
    },
    {
     "name": "stdout",
     "output_type": "stream",
     "text": [
      "Error occurred for ticker : SBILIFE for expiry date: 2023-01-25, Error: -3\n"
     ]
    },
    {
     "name": "stderr",
     "output_type": "stream",
     "text": [
      "Processing: 100%|██████████| 12/12 [00:37<00:00,  3.16s/expiry]\n",
      "Processing:  82%|████████▏ | 40/49 [19:02<04:18, 28.73s/ticker]"
     ]
    },
    {
     "name": "stdout",
     "output_type": "stream",
     "text": [
      "\n",
      " Start Building Symmteric Iron Condor Performance Charts for TATACONSUM\n",
      " \n"
     ]
    },
    {
     "name": "stderr",
     "output_type": "stream",
     "text": [
      "[*********************100%%**********************]  1 of 1 completed\n",
      "Processing:   8%|▊         | 1/12 [00:04<00:44,  4.08s/expiry]"
     ]
    },
    {
     "name": "stdout",
     "output_type": "stream",
     "text": [
      "Error occurred for ticker : TATACONSUM for expiry date: 2023-01-25, Error: index -1 is out of bounds for axis 0 with size 0\n"
     ]
    },
    {
     "name": "stderr",
     "output_type": "stream",
     "text": [
      "Processing: 100%|██████████| 12/12 [00:58<00:00,  4.91s/expiry]\n",
      "Processing:  84%|████████▎ | 41/49 [20:02<05:04, 38.11s/ticker]"
     ]
    },
    {
     "name": "stdout",
     "output_type": "stream",
     "text": [
      "\n",
      " Start Building Symmteric Iron Condor Performance Charts for TATAMOTORS\n",
      " \n"
     ]
    },
    {
     "name": "stderr",
     "output_type": "stream",
     "text": [
      "[*********************100%%**********************]  1 of 1 completed\n",
      "Processing: 100%|██████████| 12/12 [01:14<00:00,  6.19s/expiry]\n",
      "[*********************100%%**********************]  1 of 1 completed\n"
     ]
    },
    {
     "name": "stdout",
     "output_type": "stream",
     "text": [
      "\n",
      " Start Building Symmteric Iron Condor Performance Charts for TATASTEEL\n",
      " \n"
     ]
    },
    {
     "name": "stderr",
     "output_type": "stream",
     "text": [
      "Processing:  58%|█████▊    | 7/12 [00:27<00:13,  2.77s/expiry]"
     ]
    },
    {
     "name": "stdout",
     "output_type": "stream",
     "text": [
      "Error occurred for ticker : TATASTEEL for expiry date: 2023-06-29, Error: invalid literal for int() with base 10: '100.4'\n",
      "Error occurred for ticker : TATASTEEL for expiry date: 2023-07-27, Error: invalid literal for int() with base 10: '100.4'\n",
      "Error occurred for ticker : TATASTEEL for expiry date: 2023-08-31, Error: invalid literal for int() with base 10: '101.4'\n"
     ]
    },
    {
     "name": "stderr",
     "output_type": "stream",
     "text": [
      "Processing: 100%|██████████| 12/12 [00:47<00:00,  3.98s/expiry]\n",
      "[*********************100%%**********************]  1 of 1 completed\n"
     ]
    },
    {
     "name": "stdout",
     "output_type": "stream",
     "text": [
      "\n",
      " Start Building Symmteric Iron Condor Performance Charts for TCS\n",
      " \n"
     ]
    },
    {
     "name": "stderr",
     "output_type": "stream",
     "text": [
      "Processing: 100%|██████████| 12/12 [01:20<00:00,  6.73s/expiry]\n",
      "[*********************100%%**********************]  1 of 1 completed\n"
     ]
    },
    {
     "name": "stdout",
     "output_type": "stream",
     "text": [
      "\n",
      " Start Building Symmteric Iron Condor Performance Charts for TECHM\n",
      " \n"
     ]
    },
    {
     "name": "stderr",
     "output_type": "stream",
     "text": [
      "Processing:   0%|          | 0/12 [00:00<?, ?expiry/s]"
     ]
    },
    {
     "name": "stdout",
     "output_type": "stream",
     "text": [
      "Error occurred for ticker : TECHM for expiry date: 2023-01-25, Error: -2\n"
     ]
    },
    {
     "name": "stderr",
     "output_type": "stream",
     "text": [
      "Processing:  33%|███▎      | 4/12 [00:17<00:36,  4.58s/expiry]"
     ]
    },
    {
     "name": "stdout",
     "output_type": "stream",
     "text": [
      "Error occurred for ticker : TECHM for expiry date: 2023-05-25, Error: -3\n"
     ]
    },
    {
     "name": "stderr",
     "output_type": "stream",
     "text": [
      "Processing: 100%|██████████| 12/12 [00:56<00:00,  4.73s/expiry]\n",
      "[*********************100%%**********************]  1 of 1 completed\n"
     ]
    },
    {
     "name": "stdout",
     "output_type": "stream",
     "text": [
      "\n",
      " Start Building Symmteric Iron Condor Performance Charts for TITAN\n",
      " \n"
     ]
    },
    {
     "name": "stderr",
     "output_type": "stream",
     "text": [
      "Processing:  42%|████▏     | 5/12 [00:27<00:38,  5.46s/expiry]"
     ]
    },
    {
     "name": "stdout",
     "output_type": "stream",
     "text": [
      "Error occurred for ticker : TITAN for expiry date: 2023-06-29, Error: -3\n"
     ]
    },
    {
     "name": "stderr",
     "output_type": "stream",
     "text": [
      "Processing: 100%|██████████| 12/12 [01:00<00:00,  5.05s/expiry]\n",
      "[*********************100%%**********************]  1 of 1 completed\n"
     ]
    },
    {
     "name": "stdout",
     "output_type": "stream",
     "text": [
      "\n",
      " Start Building Symmteric Iron Condor Performance Charts for ULTRACEMCO\n",
      " \n"
     ]
    },
    {
     "name": "stderr",
     "output_type": "stream",
     "text": [
      "Processing:  42%|████▏     | 5/12 [00:28<00:39,  5.71s/expiry]"
     ]
    },
    {
     "name": "stdout",
     "output_type": "stream",
     "text": [
      "Error occurred for ticker : ULTRACEMCO for expiry date: 2023-06-29, Error: -3\n"
     ]
    },
    {
     "name": "stderr",
     "output_type": "stream",
     "text": [
      "Processing: 100%|██████████| 12/12 [00:59<00:00,  4.92s/expiry]\n",
      "[*********************100%%**********************]  1 of 1 completed\n"
     ]
    },
    {
     "name": "stdout",
     "output_type": "stream",
     "text": [
      "\n",
      " Start Building Symmteric Iron Condor Performance Charts for UPL\n",
      " \n"
     ]
    },
    {
     "name": "stderr",
     "output_type": "stream",
     "text": [
      "Processing:   0%|          | 0/12 [00:00<?, ?expiry/s]"
     ]
    },
    {
     "name": "stdout",
     "output_type": "stream",
     "text": [
      "Error occurred for ticker : UPL for expiry date: 2023-01-25, Error: -1\n"
     ]
    },
    {
     "name": "stderr",
     "output_type": "stream",
     "text": [
      "Processing: 100%|██████████| 12/12 [00:56<00:00,  4.72s/expiry]\n",
      "Processing:  98%|█████████▊| 48/49 [27:26<00:59, 59.06s/ticker]"
     ]
    },
    {
     "name": "stdout",
     "output_type": "stream",
     "text": [
      "\n",
      " Start Building Symmteric Iron Condor Performance Charts for WIPRO\n",
      " \n"
     ]
    },
    {
     "name": "stderr",
     "output_type": "stream",
     "text": [
      "[*********************100%%**********************]  1 of 1 completed\n",
      "Processing:  42%|████▏     | 5/12 [00:18<00:19,  2.82s/expiry]"
     ]
    },
    {
     "name": "stdout",
     "output_type": "stream",
     "text": [
      "Error occurred for ticker : WIPRO for expiry date: 2023-04-27, Error: invalid literal for int() with base 10: '342.5'\n",
      "Error occurred for ticker : WIPRO for expiry date: 2023-05-25, Error: invalid literal for int() with base 10: '362.5'\n",
      "Error occurred for ticker : WIPRO for expiry date: 2023-06-29, Error: invalid literal for int() with base 10: '387.5'\n"
     ]
    },
    {
     "name": "stderr",
     "output_type": "stream",
     "text": [
      "Processing:  75%|███████▌  | 9/12 [00:19<00:02,  1.00expiry/s]"
     ]
    },
    {
     "name": "stdout",
     "output_type": "stream",
     "text": [
      "Error occurred for ticker : WIPRO for expiry date: 2023-07-27, Error: invalid literal for int() with base 10: '367.5'\n",
      "Error occurred for ticker : WIPRO for expiry date: 2023-08-31, Error: invalid literal for int() with base 10: '382.5'\n",
      "Error occurred for ticker : WIPRO for expiry date: 2023-09-28, Error: invalid literal for int() with base 10: '407.5'\n",
      "Error occurred for ticker : WIPRO for expiry date: 2023-10-26, Error: invalid literal for int() with base 10: '372.5'\n"
     ]
    },
    {
     "name": "stderr",
     "output_type": "stream",
     "text": [
      "Processing: 100%|██████████| 12/12 [00:19<00:00,  1.62s/expiry]\n",
      "Processing: 100%|██████████| 49/49 [27:46<00:00, 34.01s/ticker]"
     ]
    },
    {
     "name": "stdout",
     "output_type": "stream",
     "text": [
      "Error occurred for ticker : WIPRO for expiry date: 2023-11-30, Error: invalid literal for int() with base 10: '362.5'\n",
      "Error occurred for ticker : WIPRO for expiry date: 2023-12-28, Error: invalid literal for int() with base 10: '327.5'\n"
     ]
    },
    {
     "name": "stderr",
     "output_type": "stream",
     "text": [
      "\n"
     ]
    }
   ],
   "source": [
    "set_print=False                             # Keep it False else it will be too length. Set this true if all processing of data needs to be chekced \n",
    "\n",
    "\n",
    "Overall_performance={}                      # This dictionary will store performance of each ticker using it as key\n",
    "statistical_performance={}                  # This dictionary will store statistic behaviour of each ticker using it as key\n",
    "from tqdm import tqdm\n",
    "import yfinance as yf\n",
    "for ticker in tqdm(nifty_50_tickers, desc=\"Processing\", unit=\"ticker\"):\n",
    "    print(f'\\n Start Building Symmteric Iron Condor Performance Charts for {ticker}\\n ')\n",
    "    performance=pd.DataFrame()\n",
    "    market_data=yf.download(ticker+'.NS',start='2022-01-01',end='2024-02-01')\n",
    "    market_data['Returns']=market_data['Close'].pct_change()\n",
    "    market_data['Trends']='Sideways'\n",
    "    market_data.loc[market_data['Returns']>0.007,'Trends']='Bullish'\n",
    "    market_data.loc[market_data['Returns']<-0.007,'Trends']='Bearish'\n",
    "\n",
    "    expiries=get_expiry(ticker,framework=option_contracts_framework_2023)\n",
    "    if set_print:\n",
    "        print(market_data['Trends'].value_counts())\n",
    "\n",
    "    # Initialize a list to store trend classifications for each expiry region\n",
    "    expiry_trends = []\n",
    "\n",
    "    # Iterate through the list of expiry timestamps\n",
    "    flag=0\n",
    "    for i in range(0,len(expiries)):\n",
    "        # Define the start and end timestamps for the current expiry region\n",
    "        if flag == 0:\n",
    "            start_timestamp=datetime.strptime('2023-01-01', '%Y-%m-%d')\n",
    "            end_timestamp = datetime.strptime('2023-01-25', '%Y-%m-%d')\n",
    "            flag=flag+1\n",
    "        else:\n",
    "            start_timestamp = expiries[i-1]\n",
    "            end_timestamp = expiries[i]\n",
    "        \n",
    "            \n",
    "        start_date_of_expiry_series=start_timestamp\n",
    "        try:\n",
    "            specific_row = market_data.loc[start_date_of_expiry_series]\n",
    "        except KeyError:\n",
    "            # If the specific date is not found, find the next available date\n",
    "            next_date = market_data.index[market_data.index > start_date_of_expiry_series][0]\n",
    "            specific_row = market_data.loc[next_date]\n",
    "\n",
    "        spot_price=int(specific_row['Close'])\n",
    "        strike_list=option_chain(ticker=ticker,\n",
    "                    expiry=get_expiry(ticker=ticker,framework=option_contracts_framework_2023)[i],\n",
    "                    framework=option_contracts_framework_2023)['Strike']\n",
    "        strike_list=[int(float(x)) for x in strike_list]\n",
    "        ATM_strike = min(strike_list, key=lambda x: abs(x - spot_price))\n",
    "        \n",
    "\n",
    "        # Extract the market data for the current expiry region\n",
    "        region_data = market_data.loc[(market_data.index >= start_timestamp) & (market_data.index < end_timestamp)]\n",
    "        \n",
    "        # Count the occurrences of each trend type in the current expiry region\n",
    "        trend_counts = region_data['Trends'].value_counts()\n",
    "        \n",
    "        # Assign the trend with the maximum count as the trend for the current expiry region\n",
    "        dominant_trend = trend_counts.idxmax()\n",
    "        \n",
    "        # Append the dominant trend for the current expiry region to the list\n",
    "        expiry_trends.append((start_timestamp, end_timestamp, dominant_trend , ATM_strike))\n",
    "\n",
    "    # Convert the list of expiry trends into a DataFrame for easier manipulation and analysis\n",
    "    expiry_trends_df = pd.DataFrame(expiry_trends, columns=['Start of Expiry Series', 'End of Expiry Series', 'Trend', 'ATM Strike'])\n",
    "\n",
    "    for expiry_date in tqdm(get_expiry(ticker=ticker,framework=option_contracts_framework_2023), desc=\"Processing\", unit=\"expiry\",position=0):\n",
    "        #For a particular Expiry, deploy an Iron Condor at the begining of Option Monthly Expiry Series. and it is held till end of monthly expiry.\n",
    "        try:\n",
    "            df=option_contracts_framework_2023[(option_contracts_framework_2023['Ticker'] == ticker) & (option_contracts_framework_2023['Expiry Date'] == expiry_date)]\n",
    "            df_PE=df[df['Type']=='PE']\n",
    "            df_CE=df[df['Type']=='CE']\n",
    "            df=pd.merge(df_CE,df_PE,on='Strike')\n",
    "            df.drop(['Ticker_x','Asset Type_x','Ticker_y','Expiry Date_y','Asset Type_y'],axis=1,inplace=True)\n",
    "            df.rename(columns={\"Contract Names_x\":\"Call Contracts\",\n",
    "                                \"Expiry Date_x\":\"Expiry Dates\",\n",
    "                                \"Type_x\":\"CE\",\n",
    "                                \"Contract Names_y\":\"Put Contracts\",\n",
    "                                \"Type_y\":\"Type\"},inplace=True)\n",
    "            \n",
    "            # Building Iron Condor\n",
    "\n",
    "            # Selection the ITM Strike - middle value of list\n",
    "            ATM_strike=expiry_trends_df[expiry_trends_df['End of Expiry Series']==expiry_date]['ATM Strike'].iloc[0]\n",
    "            if set_print:\n",
    "                print(ATM_strike)\n",
    "                                                                                                            \n",
    "            market_trend=expiry_trends_df[expiry_trends_df['End of Expiry Series']==expiry_date]['Trend'].iloc[0]\n",
    "            if set_print:\n",
    "                print(market_trend)\n",
    "\n",
    "            df=option_chain(ticker=ticker,\n",
    "                            expiry=expiry_date,\n",
    "                            framework=option_contracts_framework_2023)\n",
    "            df['Strike']=df['Strike'].astype(int)\n",
    "            if set_print:\n",
    "                print(df)\n",
    "            df.index[df['Strike']==ATM_strike]\n",
    "            # Selecting strike for legs of the Iron Condor\n",
    "            put_short_strike=df['Strike'].loc[df.index[df['Strike']==ATM_strike][0]-3]           # Short OTM Put 3 strike away from ATM Strike\n",
    "            call_short_strike=df['Strike'].loc[df.index[df['Strike']==ATM_strike][0]+3]          # Short OTM Call 3 strike away from ATM Strike\n",
    "            put_long_strike=df['Strike'].loc[df.index[df['Strike']==ATM_strike][0]-6]            # Short DOTM Put 6 strike away from ATM Strike\n",
    "            call_long_strike=df['Strike'].loc[df.index[df['Strike']==ATM_strike][0]+6]           # Short DOTM Call 6 strike away from ATM Strike\n",
    "\n",
    "            if set_print:\n",
    "                print(put_short_strike,call_short_strike,put_long_strike,call_long_strike)\n",
    "\n",
    "            # Finding the name of contracts of Iron condor\n",
    "            put_short_contract_name=df['Put Contracts'].loc[df.index[df['Strike']==ATM_strike][0]-3] \n",
    "            call_short_contract_name=df['Call Contracts'].loc[df.index[df['Strike']==ATM_strike][0]+3] \n",
    "            put_long_contract_name=df['Put Contracts'].loc[df.index[df['Strike']==ATM_strike][0]-6]  \n",
    "            call_long_contract_name=df['Call Contracts'].loc[df.index[df['Strike']==ATM_strike][0]+6]  \n",
    "\n",
    "            if set_print:\n",
    "                print(put_short_contract_name,call_short_contract_name,put_long_contract_name,call_long_contract_name)\n",
    "\n",
    "            # Getting Historical Data of selected contracts\n",
    "            put_short_contract_data=get_data(root_folder=root_folder,filename=put_short_contract_name)['Close']\n",
    "            call_short_contract_data=get_data(root_folder=root_folder,filename=call_short_contract_name)['Close']\n",
    "            put_long_contract_data=get_data(root_folder=root_folder,filename=put_long_contract_name)['Close']\n",
    "            call_long_contract_data=get_data(root_folder=root_folder,filename=call_long_contract_name)['Close']\n",
    "\n",
    "            # combining all the premium data\n",
    "            premium_data=pd.concat([put_short_contract_data,call_short_contract_data,put_long_contract_data,call_long_contract_data]\n",
    "                                ,keys=['Put Short','Call Short','Put Long','Call Long'],axis=1).dropna()\n",
    "            premium_data['Price of Iron Condor'] = np.round(premium_data['Put Short']+premium_data['Call Short'] - premium_data['Put Long']-premium_data['Call Long'],3)\n",
    "            premium_data['Profit']=np.round(premium_data['Price of Iron Condor'].apply(lambda x : -x+premium_data['Price of Iron Condor'][0]),3)\n",
    "            if set_print:\n",
    "                print(premium_data)\n",
    "            ticker_name=df['Call Contracts'][0][:df['Call Contracts'][0].find('23')]\n",
    "            Profit=premium_data['Profit'][-1]\n",
    "            Backtested_samples=premium_data.shape[0]\n",
    "            Maxmium_profit=premium_data['Profit'].max()\n",
    "            Percentage_duration_at_max_profit=(premium_data.index.get_loc(premium_data['Profit'].idxmax())+1)/len(premium_data)*100\n",
    "            Expiry=expiry_date\n",
    "            performance_df = pd.DataFrame({'Backtested Samples': Backtested_samples,\n",
    "                                        'Profit till Expiry': Profit,\n",
    "                                        'Maximum Profit':Maxmium_profit,\n",
    "                                        'Duration % at Max Profit':np.round(Percentage_duration_at_max_profit,3),\n",
    "                                        'Market Trend' :market_trend},index=[expiry_date.date()]).rename_axis('Expiry Date')\n",
    "\n",
    "            performance = pd.concat([performance, performance_df])\n",
    "\n",
    "            statistical_performance_df=pd.DataFrame({'Mean Profit':performance['Profit till Expiry'].mean(),\n",
    "                                        'Std Profit':performance['Profit till Expiry'].std(),\n",
    "                                        'Risk Adjusted Profit' : performance['Profit till Expiry'].mean()/performance['Profit till Expiry'].std(),\n",
    "                                        'Mean Max Profit':performance['Maximum Profit'].mean(),},index=[ticker])\n",
    "            \n",
    "        except Exception as e:\n",
    "            print(f\"Error occurred for ticker : {ticker} for expiry date: {expiry_date.date()}, Error: {e}\")\n",
    "\n",
    "    Overall_performance[ticker]=performance\n",
    "    statistical_performance[ticker]=statistical_performance_df\n",
    "\n"
   ]
  },
  {
   "cell_type": "code",
   "execution_count": 144,
   "metadata": {},
   "outputs": [],
   "source": [
    "statistical_performance_nifty_stocks_complied=pd.DataFrame()\n",
    "for ticker in list(statistical_performance.keys()):\n",
    "    statistical_performance_nifty_stocks_complied=pd.concat([statistical_performance_nifty_stocks_complied,statistical_performance[ticker]])"
   ]
  },
  {
   "cell_type": "code",
   "execution_count": 146,
   "metadata": {},
   "outputs": [
    {
     "data": {
      "text/html": [
       "<div>\n",
       "<style scoped>\n",
       "    .dataframe tbody tr th:only-of-type {\n",
       "        vertical-align: middle;\n",
       "    }\n",
       "\n",
       "    .dataframe tbody tr th {\n",
       "        vertical-align: top;\n",
       "    }\n",
       "\n",
       "    .dataframe thead th {\n",
       "        text-align: right;\n",
       "    }\n",
       "</style>\n",
       "<table border=\"1\" class=\"dataframe\">\n",
       "  <thead>\n",
       "    <tr style=\"text-align: right;\">\n",
       "      <th></th>\n",
       "      <th>Mean Profit</th>\n",
       "      <th>Std Profit</th>\n",
       "      <th>Risk Adjusted Profit</th>\n",
       "      <th>Mean Max Profit</th>\n",
       "    </tr>\n",
       "  </thead>\n",
       "  <tbody>\n",
       "    <tr>\n",
       "      <th>BPCL</th>\n",
       "      <td>-0.583333</td>\n",
       "      <td>0.505800</td>\n",
       "      <td>-1.153289</td>\n",
       "      <td>1.366667</td>\n",
       "    </tr>\n",
       "    <tr>\n",
       "      <th>TITAN</th>\n",
       "      <td>-6.681818</td>\n",
       "      <td>11.934892</td>\n",
       "      <td>-0.559856</td>\n",
       "      <td>9.990909</td>\n",
       "    </tr>\n",
       "    <tr>\n",
       "      <th>TCS</th>\n",
       "      <td>-3.587500</td>\n",
       "      <td>6.506190</td>\n",
       "      <td>-0.551398</td>\n",
       "      <td>6.570833</td>\n",
       "    </tr>\n",
       "    <tr>\n",
       "      <th>BAJFINANCE</th>\n",
       "      <td>-24.337500</td>\n",
       "      <td>53.143246</td>\n",
       "      <td>-0.457960</td>\n",
       "      <td>40.495833</td>\n",
       "    </tr>\n",
       "    <tr>\n",
       "      <th>BAJAJFINSV</th>\n",
       "      <td>-5.075000</td>\n",
       "      <td>11.328073</td>\n",
       "      <td>-0.448002</td>\n",
       "      <td>8.770833</td>\n",
       "    </tr>\n",
       "    <tr>\n",
       "      <th>ADANIPORTS</th>\n",
       "      <td>-2.475000</td>\n",
       "      <td>5.666188</td>\n",
       "      <td>-0.436802</td>\n",
       "      <td>12.029167</td>\n",
       "    </tr>\n",
       "    <tr>\n",
       "      <th>GRASIM</th>\n",
       "      <td>-3.445833</td>\n",
       "      <td>8.471945</td>\n",
       "      <td>-0.406735</td>\n",
       "      <td>9.225000</td>\n",
       "    </tr>\n",
       "    <tr>\n",
       "      <th>TATACONSUM</th>\n",
       "      <td>-1.095455</td>\n",
       "      <td>2.833942</td>\n",
       "      <td>-0.386548</td>\n",
       "      <td>4.172727</td>\n",
       "    </tr>\n",
       "    <tr>\n",
       "      <th>JSWSTEEL</th>\n",
       "      <td>-1.027273</td>\n",
       "      <td>2.748123</td>\n",
       "      <td>-0.373809</td>\n",
       "      <td>5.454545</td>\n",
       "    </tr>\n",
       "    <tr>\n",
       "      <th>AXISBANK</th>\n",
       "      <td>-5.425000</td>\n",
       "      <td>16.152782</td>\n",
       "      <td>-0.335855</td>\n",
       "      <td>3.020000</td>\n",
       "    </tr>\n",
       "    <tr>\n",
       "      <th>BAJAJ-AUTO</th>\n",
       "      <td>-4.481818</td>\n",
       "      <td>14.281496</td>\n",
       "      <td>-0.313820</td>\n",
       "      <td>18.068182</td>\n",
       "    </tr>\n",
       "    <tr>\n",
       "      <th>SBIN</th>\n",
       "      <td>-0.816667</td>\n",
       "      <td>3.301125</td>\n",
       "      <td>-0.247390</td>\n",
       "      <td>2.908333</td>\n",
       "    </tr>\n",
       "    <tr>\n",
       "      <th>CIPLA</th>\n",
       "      <td>-1.370833</td>\n",
       "      <td>7.013249</td>\n",
       "      <td>-0.195463</td>\n",
       "      <td>6.154167</td>\n",
       "    </tr>\n",
       "    <tr>\n",
       "      <th>CIPLA</th>\n",
       "      <td>-1.370833</td>\n",
       "      <td>7.013249</td>\n",
       "      <td>-0.195463</td>\n",
       "      <td>6.154167</td>\n",
       "    </tr>\n",
       "    <tr>\n",
       "      <th>HEROMOTOCO</th>\n",
       "      <td>-1.572727</td>\n",
       "      <td>8.689401</td>\n",
       "      <td>-0.180994</td>\n",
       "      <td>16.122727</td>\n",
       "    </tr>\n",
       "    <tr>\n",
       "      <th>TECHM</th>\n",
       "      <td>-2.335000</td>\n",
       "      <td>13.994286</td>\n",
       "      <td>-0.166854</td>\n",
       "      <td>7.075000</td>\n",
       "    </tr>\n",
       "    <tr>\n",
       "      <th>BRITANNIA</th>\n",
       "      <td>-3.050000</td>\n",
       "      <td>22.233558</td>\n",
       "      <td>-0.137180</td>\n",
       "      <td>24.635000</td>\n",
       "    </tr>\n",
       "    <tr>\n",
       "      <th>HINDUNILVR</th>\n",
       "      <td>-0.145000</td>\n",
       "      <td>7.721451</td>\n",
       "      <td>-0.018779</td>\n",
       "      <td>11.625000</td>\n",
       "    </tr>\n",
       "    <tr>\n",
       "      <th>EICHERMOT</th>\n",
       "      <td>-0.133333</td>\n",
       "      <td>20.153900</td>\n",
       "      <td>-0.006616</td>\n",
       "      <td>16.862500</td>\n",
       "    </tr>\n",
       "    <tr>\n",
       "      <th>ACC</th>\n",
       "      <td>-0.041667</td>\n",
       "      <td>11.078682</td>\n",
       "      <td>-0.003761</td>\n",
       "      <td>11.170833</td>\n",
       "    </tr>\n",
       "    <tr>\n",
       "      <th>ICICIBANK</th>\n",
       "      <td>0.077273</td>\n",
       "      <td>4.065425</td>\n",
       "      <td>0.019007</td>\n",
       "      <td>3.972727</td>\n",
       "    </tr>\n",
       "    <tr>\n",
       "      <th>BHARTIARTL</th>\n",
       "      <td>0.104167</td>\n",
       "      <td>3.340690</td>\n",
       "      <td>0.031181</td>\n",
       "      <td>3.950000</td>\n",
       "    </tr>\n",
       "    <tr>\n",
       "      <th>KOTAKBANK</th>\n",
       "      <td>0.291667</td>\n",
       "      <td>6.009418</td>\n",
       "      <td>0.048535</td>\n",
       "      <td>7.608333</td>\n",
       "    </tr>\n",
       "    <tr>\n",
       "      <th>INDUSINDBK</th>\n",
       "      <td>0.429167</td>\n",
       "      <td>7.581301</td>\n",
       "      <td>0.056609</td>\n",
       "      <td>9.537500</td>\n",
       "    </tr>\n",
       "    <tr>\n",
       "      <th>HDFCLIFE</th>\n",
       "      <td>0.400000</td>\n",
       "      <td>2.962263</td>\n",
       "      <td>0.135032</td>\n",
       "      <td>3.666667</td>\n",
       "    </tr>\n",
       "    <tr>\n",
       "      <th>LT</th>\n",
       "      <td>1.625000</td>\n",
       "      <td>9.484281</td>\n",
       "      <td>0.171336</td>\n",
       "      <td>10.000000</td>\n",
       "    </tr>\n",
       "    <tr>\n",
       "      <th>TATASTEEL</th>\n",
       "      <td>0.133333</td>\n",
       "      <td>0.686932</td>\n",
       "      <td>0.194100</td>\n",
       "      <td>0.850000</td>\n",
       "    </tr>\n",
       "    <tr>\n",
       "      <th>HINDALCO</th>\n",
       "      <td>0.587500</td>\n",
       "      <td>2.614829</td>\n",
       "      <td>0.224680</td>\n",
       "      <td>2.645833</td>\n",
       "    </tr>\n",
       "    <tr>\n",
       "      <th>HCLTECH</th>\n",
       "      <td>0.959091</td>\n",
       "      <td>3.877616</td>\n",
       "      <td>0.247340</td>\n",
       "      <td>7.713636</td>\n",
       "    </tr>\n",
       "    <tr>\n",
       "      <th>ULTRACEMCO</th>\n",
       "      <td>8.336364</td>\n",
       "      <td>32.220235</td>\n",
       "      <td>0.258731</td>\n",
       "      <td>57.313636</td>\n",
       "    </tr>\n",
       "    <tr>\n",
       "      <th>ASIANPAINT</th>\n",
       "      <td>6.741667</td>\n",
       "      <td>25.050956</td>\n",
       "      <td>0.269118</td>\n",
       "      <td>21.150000</td>\n",
       "    </tr>\n",
       "    <tr>\n",
       "      <th>HDFCBANK</th>\n",
       "      <td>2.962500</td>\n",
       "      <td>10.390624</td>\n",
       "      <td>0.285113</td>\n",
       "      <td>8.695833</td>\n",
       "    </tr>\n",
       "    <tr>\n",
       "      <th>TATAMOTORS</th>\n",
       "      <td>1.429167</td>\n",
       "      <td>4.649314</td>\n",
       "      <td>0.307393</td>\n",
       "      <td>4.750000</td>\n",
       "    </tr>\n",
       "    <tr>\n",
       "      <th>RELIANCE</th>\n",
       "      <td>4.938889</td>\n",
       "      <td>15.377414</td>\n",
       "      <td>0.321178</td>\n",
       "      <td>11.172222</td>\n",
       "    </tr>\n",
       "    <tr>\n",
       "      <th>INFY</th>\n",
       "      <td>2.925000</td>\n",
       "      <td>8.413936</td>\n",
       "      <td>0.347638</td>\n",
       "      <td>7.262500</td>\n",
       "    </tr>\n",
       "    <tr>\n",
       "      <th>M&amp;M</th>\n",
       "      <td>2.963636</td>\n",
       "      <td>7.551592</td>\n",
       "      <td>0.392452</td>\n",
       "      <td>8.450000</td>\n",
       "    </tr>\n",
       "    <tr>\n",
       "      <th>DRREDDY</th>\n",
       "      <td>11.958333</td>\n",
       "      <td>29.555517</td>\n",
       "      <td>0.404606</td>\n",
       "      <td>30.783333</td>\n",
       "    </tr>\n",
       "    <tr>\n",
       "      <th>SBILIFE</th>\n",
       "      <td>6.763636</td>\n",
       "      <td>14.691955</td>\n",
       "      <td>0.460363</td>\n",
       "      <td>10.154545</td>\n",
       "    </tr>\n",
       "    <tr>\n",
       "      <th>UPL</th>\n",
       "      <td>1.418182</td>\n",
       "      <td>2.927053</td>\n",
       "      <td>0.484508</td>\n",
       "      <td>4.472727</td>\n",
       "    </tr>\n",
       "    <tr>\n",
       "      <th>DIVISLAB</th>\n",
       "      <td>10.091667</td>\n",
       "      <td>19.993236</td>\n",
       "      <td>0.504754</td>\n",
       "      <td>38.083333</td>\n",
       "    </tr>\n",
       "    <tr>\n",
       "      <th>SHREECEM</th>\n",
       "      <td>93.318750</td>\n",
       "      <td>163.387290</td>\n",
       "      <td>0.571151</td>\n",
       "      <td>179.487500</td>\n",
       "    </tr>\n",
       "    <tr>\n",
       "      <th>ONGC</th>\n",
       "      <td>0.190000</td>\n",
       "      <td>0.311047</td>\n",
       "      <td>0.610841</td>\n",
       "      <td>0.750000</td>\n",
       "    </tr>\n",
       "    <tr>\n",
       "      <th>ONGC</th>\n",
       "      <td>0.190000</td>\n",
       "      <td>0.311047</td>\n",
       "      <td>0.610841</td>\n",
       "      <td>0.750000</td>\n",
       "    </tr>\n",
       "    <tr>\n",
       "      <th>MARUTI</th>\n",
       "      <td>17.063636</td>\n",
       "      <td>25.736949</td>\n",
       "      <td>0.663002</td>\n",
       "      <td>44.809091</td>\n",
       "    </tr>\n",
       "    <tr>\n",
       "      <th>MARICO</th>\n",
       "      <td>2.058333</td>\n",
       "      <td>1.953416</td>\n",
       "      <td>1.053710</td>\n",
       "      <td>3.729167</td>\n",
       "    </tr>\n",
       "    <tr>\n",
       "      <th>WIPRO</th>\n",
       "      <td>5.116667</td>\n",
       "      <td>0.625167</td>\n",
       "      <td>8.184484</td>\n",
       "      <td>5.316667</td>\n",
       "    </tr>\n",
       "  </tbody>\n",
       "</table>\n",
       "</div>"
      ],
      "text/plain": [
       "            Mean Profit  Std Profit  Risk Adjusted Profit  Mean Max Profit\n",
       "BPCL          -0.583333    0.505800             -1.153289         1.366667\n",
       "TITAN         -6.681818   11.934892             -0.559856         9.990909\n",
       "TCS           -3.587500    6.506190             -0.551398         6.570833\n",
       "BAJFINANCE   -24.337500   53.143246             -0.457960        40.495833\n",
       "BAJAJFINSV    -5.075000   11.328073             -0.448002         8.770833\n",
       "ADANIPORTS    -2.475000    5.666188             -0.436802        12.029167\n",
       "GRASIM        -3.445833    8.471945             -0.406735         9.225000\n",
       "TATACONSUM    -1.095455    2.833942             -0.386548         4.172727\n",
       "JSWSTEEL      -1.027273    2.748123             -0.373809         5.454545\n",
       "AXISBANK      -5.425000   16.152782             -0.335855         3.020000\n",
       "BAJAJ-AUTO    -4.481818   14.281496             -0.313820        18.068182\n",
       "SBIN          -0.816667    3.301125             -0.247390         2.908333\n",
       "CIPLA         -1.370833    7.013249             -0.195463         6.154167\n",
       "CIPLA         -1.370833    7.013249             -0.195463         6.154167\n",
       "HEROMOTOCO    -1.572727    8.689401             -0.180994        16.122727\n",
       "TECHM         -2.335000   13.994286             -0.166854         7.075000\n",
       "BRITANNIA     -3.050000   22.233558             -0.137180        24.635000\n",
       "HINDUNILVR    -0.145000    7.721451             -0.018779        11.625000\n",
       "EICHERMOT     -0.133333   20.153900             -0.006616        16.862500\n",
       "ACC           -0.041667   11.078682             -0.003761        11.170833\n",
       "ICICIBANK      0.077273    4.065425              0.019007         3.972727\n",
       "BHARTIARTL     0.104167    3.340690              0.031181         3.950000\n",
       "KOTAKBANK      0.291667    6.009418              0.048535         7.608333\n",
       "INDUSINDBK     0.429167    7.581301              0.056609         9.537500\n",
       "HDFCLIFE       0.400000    2.962263              0.135032         3.666667\n",
       "LT             1.625000    9.484281              0.171336        10.000000\n",
       "TATASTEEL      0.133333    0.686932              0.194100         0.850000\n",
       "HINDALCO       0.587500    2.614829              0.224680         2.645833\n",
       "HCLTECH        0.959091    3.877616              0.247340         7.713636\n",
       "ULTRACEMCO     8.336364   32.220235              0.258731        57.313636\n",
       "ASIANPAINT     6.741667   25.050956              0.269118        21.150000\n",
       "HDFCBANK       2.962500   10.390624              0.285113         8.695833\n",
       "TATAMOTORS     1.429167    4.649314              0.307393         4.750000\n",
       "RELIANCE       4.938889   15.377414              0.321178        11.172222\n",
       "INFY           2.925000    8.413936              0.347638         7.262500\n",
       "M&M            2.963636    7.551592              0.392452         8.450000\n",
       "DRREDDY       11.958333   29.555517              0.404606        30.783333\n",
       "SBILIFE        6.763636   14.691955              0.460363        10.154545\n",
       "UPL            1.418182    2.927053              0.484508         4.472727\n",
       "DIVISLAB      10.091667   19.993236              0.504754        38.083333\n",
       "SHREECEM      93.318750  163.387290              0.571151       179.487500\n",
       "ONGC           0.190000    0.311047              0.610841         0.750000\n",
       "ONGC           0.190000    0.311047              0.610841         0.750000\n",
       "MARUTI        17.063636   25.736949              0.663002        44.809091\n",
       "MARICO         2.058333    1.953416              1.053710         3.729167\n",
       "WIPRO          5.116667    0.625167              8.184484         5.316667"
      ]
     },
     "execution_count": 146,
     "metadata": {},
     "output_type": "execute_result"
    }
   ],
   "source": [
    "statistical_performance_nifty_stocks_complied.sort_values(by='Risk Adjusted Profit').dropna()"
   ]
  },
  {
   "cell_type": "markdown",
   "metadata": {},
   "source": [
    "Evaulating the Statistical Performance of Symmertic Iron Condor on Stocks Options"
   ]
  },
  {
   "cell_type": "code",
   "execution_count": 147,
   "metadata": {},
   "outputs": [
    {
     "name": "stdout",
     "output_type": "stream",
     "text": [
      "            Statistic  Difference\n",
      "0                Mean    0.868817\n",
      "1  Standard Deviation   16.930134\n",
      "2            Kurtosis   17.985904\n",
      "3            Skewness    1.427129\n"
     ]
    },
    {
     "data": {
      "image/png": "[encoded data removed]",
      "text/plain": [
       "<Figure size 1200x600 with 2 Axes>"
      ]
     },
     "metadata": {},
     "output_type": "display_data"
    }
   ],
   "source": [
    "import numpy as np\n",
    "import matplotlib.pyplot as plt\n",
    "from scipy.stats import norm, probplot, kurtosis, skew\n",
    "\n",
    "# Calculate statistics\n",
    "mean_data = statistical_performance_nifty_stocks_complied['Mean Profit'].mean()\n",
    "std_dev_data = statistical_performance_nifty_stocks_complied['Mean Profit'].std()\n",
    "kurtosis_data = kurtosis(statistical_performance_nifty_stocks_complied['Mean Profit'])\n",
    "skewness_data = skew(statistical_performance_nifty_stocks_complied['Mean Profit'])\n",
    "\n",
    "# Expected values for standard normal distribution\n",
    "mean_standard_normal = 0\n",
    "std_dev_standard_normal = 1\n",
    "kurtosis_standard_normal = 0\n",
    "skewness_standard_normal = 0\n",
    "\n",
    "mean_difference = mean_data - mean_standard_normal\n",
    "std_dev_difference = std_dev_data - std_dev_standard_normal\n",
    "kurtosis_difference = kurtosis_data - kurtosis_standard_normal\n",
    "skewness_difference = skewness_data - skewness_standard_normal\n",
    "\n",
    "differences_df = pd.DataFrame({\n",
    "    'Statistic': ['Mean', 'Standard Deviation', 'Kurtosis', 'Skewness'],\n",
    "    'Difference': [mean_difference, std_dev_difference, kurtosis_difference, skewness_difference]\n",
    "})\n",
    "\n",
    "# Display DataFrame\n",
    "print(differences_df)\n",
    "\n",
    "# Plot histogram and normal distribution\n",
    "fig, axs = plt.subplots(1, 2, figsize=(12, 6))\n",
    "axs[0].hist(statistical_performance_nifty_stocks_complied['Mean Profit'], bins=10, density=True, alpha=0.3, color='b', label='Histogram')\n",
    "x = np.linspace(statistical_performance_nifty_stocks_complied['Mean Profit'].min(), statistical_performance_nifty_stocks_complied['Mean Profit'].max(), 100)\n",
    "p_data = norm.pdf(x, mean_data, std_dev_data)\n",
    "axs[0].plot(x, p_data, 'k', linewidth=2, label='Normal Distribution')\n",
    "axs[0].set_xlabel('Values')\n",
    "axs[0].set_ylabel('Frequency')\n",
    "axs[0].set_title('Histogram and Normal Distribution Comparison')\n",
    "axs[0].legend(loc='upper right')\n",
    "\n",
    "# Q-Q plot\n",
    "probplot(statistical_performance_nifty_stocks_complied['Mean Profit'], dist=\"norm\", plot=axs[1], fit=True)\n",
    "axs[1].set_title('Q-Q Plot')\n",
    "\n",
    "# Adjust layout\n",
    "plt.tight_layout()\n",
    "\n",
    "# Show plot\n",
    "plt.show()\n"
   ]
  },
  {
   "cell_type": "markdown",
   "metadata": {},
   "source": [
    "We will now perform similar analysis for the NSE Nifty 50 Index"
   ]
  },
  {
   "cell_type": "code",
   "execution_count": 148,
   "metadata": {},
   "outputs": [
    {
     "data": {
      "text/plain": [
       "True"
      ]
     },
     "execution_count": 148,
     "metadata": {},
     "output_type": "execute_result"
    }
   ],
   "source": [
    "nifty50_indices=['NIFTY']\n",
    "set(nifty50_indices).issubset(ticker_list) # To check if the tickers are in the Option Data Universe"
   ]
  },
  {
   "cell_type": "code",
   "execution_count": 149,
   "metadata": {},
   "outputs": [
    {
     "name": "stderr",
     "output_type": "stream",
     "text": [
      "[*********************100%%**********************]  1 of 1 completed\n"
     ]
    },
    {
     "name": "stdout",
     "output_type": "stream",
     "text": [
      "\n",
      " Start Building Symmteric Iron Condor Performance Charts for NIFTY\n",
      " \n"
     ]
    },
    {
     "name": "stderr",
     "output_type": "stream",
     "text": [
      "Processing:   0%|          | 0/52 [00:00<?, ?expiry/s]"
     ]
    },
    {
     "name": "stdout",
     "output_type": "stream",
     "text": [
      "Error occurred for ticker : NIFTY for expiry date: 2023-01-05, Error: single positional indexer is out-of-bounds\n"
     ]
    },
    {
     "name": "stderr",
     "output_type": "stream",
     "text": [
      "Processing:  21%|██        | 11/52 [00:28<01:45,  2.57s/expiry]"
     ]
    },
    {
     "name": "stdout",
     "output_type": "stream",
     "text": [
      "Error occurred for ticker : NIFTY for expiry date: 2023-03-23, Error: -3\n"
     ]
    },
    {
     "name": "stderr",
     "output_type": "stream",
     "text": [
      "Processing: 100%|██████████| 52/52 [02:20<00:00,  2.71s/expiry]\n",
      "Processing: 100%|██████████| 1/1 [02:24<00:00, 144.00s/ticker]\n"
     ]
    }
   ],
   "source": [
    "set_print=False\n",
    "Overall_performance={}                      # This dictionary will store performance of each ticker using it as key\n",
    "statistical_performance={}                  # This dictionary will store statistic behaviour of each ticker using it as key\n",
    "from tqdm import tqdm\n",
    "import yfinance as yf\n",
    "\n",
    "for ticker in tqdm(nifty50_indices, desc=\"Processing\", unit=\"ticker\"):\n",
    "    print(f'\\n Start Building Symmteric Iron Condor Performance Charts for {ticker}\\n ')\n",
    "    performance=pd.DataFrame()\n",
    "    market_data=yf.download('^NSEI',start='2022-01-01',end='2024-02-01')\n",
    "    market_data['Returns']=market_data['Close'].pct_change()\n",
    "    market_data['Trends']='Sideways'\n",
    "    market_data.loc[market_data['Returns']>0.007,'Trends']='Bullish'\n",
    "    market_data.loc[market_data['Returns']<-0.007,'Trends']='Bearish'\n",
    "\n",
    "    expiries=get_expiry(ticker,framework=option_contracts_framework_2023)\n",
    "    if set_print:\n",
    "        print(market_data['Trends'].value_counts())\n",
    "\n",
    "    # Initialize a list to store trend classifications for each expiry region\n",
    "    expiry_trends = []\n",
    "\n",
    "    # Iterate through the list of expiry timestamps\n",
    "    flag=0\n",
    "    for i in range(0,len(expiries)):\n",
    "        # Define the start and end timestamps for the current expiry region\n",
    "        if flag == 0:\n",
    "            start_timestamp=datetime.strptime('2023-01-01', '%Y-%m-%d')\n",
    "            end_timestamp = datetime.strptime('2023-01-25', '%Y-%m-%d')\n",
    "            flag=flag+1\n",
    "        else:\n",
    "            start_timestamp = expiries[i-1]\n",
    "            end_timestamp = expiries[i]\n",
    "        \n",
    "            \n",
    "        start_date_of_expiry_series=start_timestamp\n",
    "        try:\n",
    "            specific_row = market_data.loc[start_date_of_expiry_series]\n",
    "        except KeyError:\n",
    "            # If the specific date is not found, find the next available date\n",
    "            next_date = market_data.index[market_data.index > start_date_of_expiry_series][0]\n",
    "            specific_row = market_data.loc[next_date]\n",
    "\n",
    "        spot_price=int(specific_row['Close'])\n",
    "        strike_list=option_chain(ticker=ticker,\n",
    "                    expiry=get_expiry(ticker=ticker,framework=option_contracts_framework_2023)[i],\n",
    "                    framework=option_contracts_framework_2023)['Strike']\n",
    "        strike_list=[int(float(x)) for x in strike_list]\n",
    "        ATM_strike = min(strike_list, key=lambda x: abs(x - spot_price))\n",
    "        \n",
    "\n",
    "        # Extract the market data for the current expiry region\n",
    "        region_data = market_data.loc[(market_data.index >= start_timestamp) & (market_data.index < end_timestamp)]\n",
    "        \n",
    "        # Count the occurrences of each trend type in the current expiry region\n",
    "        trend_counts = region_data['Trends'].value_counts()\n",
    "        \n",
    "        # Assign the trend with the maximum count as the trend for the current expiry region\n",
    "        dominant_trend = trend_counts.idxmax()\n",
    "        \n",
    "        # Append the dominant trend for the current expiry region to the list\n",
    "        expiry_trends.append((start_timestamp, end_timestamp, dominant_trend , ATM_strike))\n",
    "\n",
    "    # Convert the list of expiry trends into a DataFrame for easier manipulation and analysis\n",
    "    expiry_trends_df = pd.DataFrame(expiry_trends, columns=['Start of Expiry Series', 'End of Expiry Series', 'Trend', 'ATM Strike'])\n",
    "\n",
    "    for expiry_date in tqdm(get_expiry(ticker=ticker,framework=option_contracts_framework_2023), desc=\"Processing\", unit=\"expiry\",position=0):\n",
    "        #For a particular Expiry, deploy an Iron Condor at the begining of Option Monthly Expiry Series. and it is held till end of monthly expiry.\n",
    "        try:\n",
    "            df=option_contracts_framework_2023[(option_contracts_framework_2023['Ticker'] == ticker) & (option_contracts_framework_2023['Expiry Date'] == expiry_date)]\n",
    "            df_PE=df[df['Type']=='PE']\n",
    "            df_CE=df[df['Type']=='CE']\n",
    "            df=pd.merge(df_CE,df_PE,on='Strike')\n",
    "            df.drop(['Ticker_x','Asset Type_x','Ticker_y','Expiry Date_y','Asset Type_y'],axis=1,inplace=True)\n",
    "            df.rename(columns={\"Contract Names_x\":\"Call Contracts\",\n",
    "                                \"Expiry Date_x\":\"Expiry Dates\",\n",
    "                                \"Type_x\":\"CE\",\n",
    "                                \"Contract Names_y\":\"Put Contracts\",\n",
    "                                \"Type_y\":\"Type\"},inplace=True)\n",
    "            \n",
    "            # Building Iron Condor\n",
    "\n",
    "            # Selection the ITM Strike - middle value of list\n",
    "            ATM_strike=expiry_trends_df[expiry_trends_df['End of Expiry Series']==expiry_date]['ATM Strike'].iloc[0]\n",
    "            if set_print:\n",
    "                print(ATM_strike)\n",
    "                                                                                                            \n",
    "            market_trend=expiry_trends_df[expiry_trends_df['End of Expiry Series']==expiry_date]['Trend'].iloc[0]\n",
    "            if set_print:\n",
    "                print(market_trend)\n",
    "\n",
    "            df=option_chain(ticker=ticker,\n",
    "                            expiry=expiry_date,\n",
    "                            framework=option_contracts_framework_2023)\n",
    "            df['Strike']=df['Strike'].astype(int)\n",
    "            if set_print:\n",
    "                print(df)\n",
    "            df.index[df['Strike']==ATM_strike]\n",
    "            # Selecting strike for legs of the Iron Condor\n",
    "            put_short_strike=df['Strike'].loc[df.index[df['Strike']==ATM_strike][0]-3]           # Short OTM Put 3 strike away from ATM Strike\n",
    "            call_short_strike=df['Strike'].loc[df.index[df['Strike']==ATM_strike][0]+3]          # Short OTM Call 3 strike away from ATM Strike\n",
    "            put_long_strike=df['Strike'].loc[df.index[df['Strike']==ATM_strike][0]-6]            # Short DOTM Put 6 strike away from ATM Strike\n",
    "            call_long_strike=df['Strike'].loc[df.index[df['Strike']==ATM_strike][0]+6]           # Short DOTM Call 6 strike away from ATM Strike\n",
    "\n",
    "            if set_print:\n",
    "                print(put_short_strike,call_short_strike,put_long_strike,call_long_strike)\n",
    "\n",
    "            # Finding the name of contracts of Iron condor\n",
    "            put_short_contract_name=df['Put Contracts'].loc[df.index[df['Strike']==ATM_strike][0]-3] \n",
    "            call_short_contract_name=df['Call Contracts'].loc[df.index[df['Strike']==ATM_strike][0]+3] \n",
    "            put_long_contract_name=df['Put Contracts'].loc[df.index[df['Strike']==ATM_strike][0]-6]  \n",
    "            call_long_contract_name=df['Call Contracts'].loc[df.index[df['Strike']==ATM_strike][0]+6]  \n",
    "\n",
    "            if set_print:\n",
    "                print(put_short_contract_name,call_short_contract_name,put_long_contract_name,call_long_contract_name)\n",
    "\n",
    "            # Getting Historical Data of selected contracts\n",
    "            put_short_contract_data=get_data(root_folder=root_folder,filename=put_short_contract_name)['Close']\n",
    "            call_short_contract_data=get_data(root_folder=root_folder,filename=call_short_contract_name)['Close']\n",
    "            put_long_contract_data=get_data(root_folder=root_folder,filename=put_long_contract_name)['Close']\n",
    "            call_long_contract_data=get_data(root_folder=root_folder,filename=call_long_contract_name)['Close']\n",
    "\n",
    "            # combining all the premium data\n",
    "            premium_data=pd.concat([put_short_contract_data,call_short_contract_data,put_long_contract_data,call_long_contract_data]\n",
    "                                ,keys=['Put Short','Call Short','Put Long','Call Long'],axis=1).dropna()\n",
    "            premium_data['Price of Iron Condor'] = np.round(premium_data['Put Short']+premium_data['Call Short'] - premium_data['Put Long']-premium_data['Call Long'],3)\n",
    "            premium_data['Profit']=np.round(premium_data['Price of Iron Condor'].apply(lambda x : -x+premium_data['Price of Iron Condor'][0]),3)\n",
    "            if set_print:\n",
    "                print(premium_data)\n",
    "            ticker_name=df['Call Contracts'][0][:df['Call Contracts'][0].find('23')]\n",
    "            Profit=premium_data['Profit'][-1]\n",
    "            Backtested_samples=premium_data.shape[0]\n",
    "            Maxmium_profit=premium_data['Profit'].max()\n",
    "            Percentage_duration_at_max_profit=(premium_data.index.get_loc(premium_data['Profit'].idxmax())+1)/len(premium_data)*100\n",
    "            Expiry=expiry_date\n",
    "            performance_df = pd.DataFrame({'Backtested Samples': Backtested_samples,\n",
    "                                        'Profit till Expiry': Profit,\n",
    "                                        'Maximum Profit':Maxmium_profit,\n",
    "                                        'Duration % at Max Profit':np.round(Percentage_duration_at_max_profit,3),\n",
    "                                        'Market Trend' :market_trend},index=[expiry_date.date()]).rename_axis('Expiry Date')\n",
    "\n",
    "            performance = pd.concat([performance, performance_df])\n",
    "\n",
    "            statistical_performance_df=pd.DataFrame({'Mean Profit':performance['Profit till Expiry'].mean(),\n",
    "                                        'Std Profit':performance['Profit till Expiry'].std(),\n",
    "                                        'Risk Adjusted Profit' : performance['Profit till Expiry'].mean()/performance['Profit till Expiry'].std(),\n",
    "                                        'Mean Max Profit':performance['Maximum Profit'].mean(),},index=[ticker])\n",
    "\n",
    "            Overall_performance[ticker]=performance\n",
    "            statistical_performance[ticker]=statistical_performance_df\n",
    "            \n",
    "        except Exception as e:\n",
    "            print(f\"Error occurred for ticker : {ticker} for expiry date: {expiry_date.date()}, Error: {e}\")\n",
    "\n",
    "# It takes 2 minutes and 52 sec to complete processing"
   ]
  },
  {
   "cell_type": "code",
   "execution_count": 150,
   "metadata": {},
   "outputs": [
    {
     "data": {
      "text/html": [
       "<div>\n",
       "<style scoped>\n",
       "    .dataframe tbody tr th:only-of-type {\n",
       "        vertical-align: middle;\n",
       "    }\n",
       "\n",
       "    .dataframe tbody tr th {\n",
       "        vertical-align: top;\n",
       "    }\n",
       "\n",
       "    .dataframe thead th {\n",
       "        text-align: right;\n",
       "    }\n",
       "</style>\n",
       "<table border=\"1\" class=\"dataframe\">\n",
       "  <thead>\n",
       "    <tr style=\"text-align: right;\">\n",
       "      <th></th>\n",
       "      <th>Backtested Samples</th>\n",
       "      <th>Profit till Expiry</th>\n",
       "      <th>Maximum Profit</th>\n",
       "      <th>Duration % at Max Profit</th>\n",
       "    </tr>\n",
       "    <tr>\n",
       "      <th>Market Trend</th>\n",
       "      <th></th>\n",
       "      <th></th>\n",
       "      <th></th>\n",
       "      <th></th>\n",
       "    </tr>\n",
       "  </thead>\n",
       "  <tbody>\n",
       "    <tr>\n",
       "      <th>Bearish</th>\n",
       "      <td>332.000000</td>\n",
       "      <td>24.650000</td>\n",
       "      <td>61.200000</td>\n",
       "      <td>12.349000</td>\n",
       "    </tr>\n",
       "    <tr>\n",
       "      <th>Bullish</th>\n",
       "      <td>293.333333</td>\n",
       "      <td>16.316667</td>\n",
       "      <td>37.733333</td>\n",
       "      <td>37.707667</td>\n",
       "    </tr>\n",
       "    <tr>\n",
       "      <th>Sideways</th>\n",
       "      <td>421.282609</td>\n",
       "      <td>-1.491304</td>\n",
       "      <td>27.153261</td>\n",
       "      <td>31.885978</td>\n",
       "    </tr>\n",
       "  </tbody>\n",
       "</table>\n",
       "</div>"
      ],
      "text/plain": [
       "              Backtested Samples  Profit till Expiry  Maximum Profit  \\\n",
       "Market Trend                                                           \n",
       "Bearish               332.000000           24.650000       61.200000   \n",
       "Bullish               293.333333           16.316667       37.733333   \n",
       "Sideways              421.282609           -1.491304       27.153261   \n",
       "\n",
       "              Duration % at Max Profit  \n",
       "Market Trend                            \n",
       "Bearish                      12.349000  \n",
       "Bullish                      37.707667  \n",
       "Sideways                     31.885978  "
      ]
     },
     "execution_count": 150,
     "metadata": {},
     "output_type": "execute_result"
    }
   ],
   "source": [
    "Overall_performance['NIFTY'].groupby('Market Trend').mean()"
   ]
  },
  {
   "cell_type": "code",
   "execution_count": 151,
   "metadata": {},
   "outputs": [
    {
     "data": {
      "text/html": [
       "<div>\n",
       "<style scoped>\n",
       "    .dataframe tbody tr th:only-of-type {\n",
       "        vertical-align: middle;\n",
       "    }\n",
       "\n",
       "    .dataframe tbody tr th {\n",
       "        vertical-align: top;\n",
       "    }\n",
       "\n",
       "    .dataframe thead th {\n",
       "        text-align: right;\n",
       "    }\n",
       "</style>\n",
       "<table border=\"1\" class=\"dataframe\">\n",
       "  <thead>\n",
       "    <tr style=\"text-align: right;\">\n",
       "      <th></th>\n",
       "      <th>Mean Profit</th>\n",
       "      <th>Std Profit</th>\n",
       "      <th>Risk Adjusted Profit</th>\n",
       "      <th>Mean Max Profit</th>\n",
       "    </tr>\n",
       "  </thead>\n",
       "  <tbody>\n",
       "    <tr>\n",
       "      <th>NIFTY</th>\n",
       "      <td>0.1</td>\n",
       "      <td>25.329075</td>\n",
       "      <td>0.003948</td>\n",
       "      <td>28.469</td>\n",
       "    </tr>\n",
       "  </tbody>\n",
       "</table>\n",
       "</div>"
      ],
      "text/plain": [
       "       Mean Profit  Std Profit  Risk Adjusted Profit  Mean Max Profit\n",
       "NIFTY          0.1   25.329075              0.003948           28.469"
      ]
     },
     "execution_count": 151,
     "metadata": {},
     "output_type": "execute_result"
    }
   ],
   "source": [
    "statistical_performance['NIFTY']"
   ]
  },
  {
   "cell_type": "markdown",
   "metadata": {},
   "source": [
    "We can see from the above plot the the ditribution is skewed positively."
   ]
  },
  {
   "cell_type": "markdown",
   "metadata": {},
   "source": [
    "# Step 2 : Using Class Objects (OOP Concept) to make code more concise and repeatable for Iron Condor Analysis\n"
   ]
  },
  {
   "cell_type": "markdown",
   "metadata": {},
   "source": [
    "We have carried step 1 analysis step-wise. We have used several functions in the process, however, several parameters needs to be change to check for new conditions. As we are going to check the Iron Condor performance for different lot size and different strikes, we need to encapsulate all the complexities using class objects and focusing on the input parameters only. \n",
    "\n",
    "We will be using function defined in step 1 to build following classes \n",
    "- Option_Data : This will manage all the data and methods for data manipulation \n",
    "- IronCondor  : This will evalute the performance of Iron Condor with different parameters."
   ]
  },
  {
   "cell_type": "code",
   "execution_count": 10,
   "metadata": {},
   "outputs": [],
   "source": [
    "# Importing Libraries required in the analysis\n",
    "import os   \n",
    "from datetime import datetime\n",
    "from tqdm import tqdm\n",
    "import pandas as pd\n",
    "import numpy as np \n",
    "import yfinance as yf\n",
    "     \n"
   ]
  },
  {
   "cell_type": "code",
   "execution_count": 40,
   "metadata": {},
   "outputs": [],
   "source": [
    "class Option_Data:\n",
    "    \"\"\"\n",
    "    This Class is used to give struture to the nested folders containing option data\n",
    "    It is  used to store the Option Chain Data for Stock/Index Options.\n",
    "    Class methods can build the Option Chain data for stocks/Index.\n",
    "    Class methods can be used to retrive historical dvelopment of Stock/Index Options \n",
    "    \"\"\"\n",
    "\n",
    "\n",
    "    def __init__(self,root_folder_path):\n",
    "        self.root_folder_path=root_folder_path\n",
    "        self.get_contract_names()\n",
    "        self.get_option_framework()\n",
    "\n",
    "    def get_contract_names(self):\n",
    "        \"\"\"\n",
    "        This method extracts all the contracts names present in the folder.\n",
    "        These contracts are used to build option chain framework.\n",
    "        Option Chain Framework -> Build Options Chain using information present in the contracts names\n",
    "        \"\"\"\n",
    "        file_paths = []\n",
    "        for _, _, files in os.walk(self.root_folder_path):\n",
    "            for file in files:\n",
    "                file_paths.append(file[:-4])           # Collect file paths in the nested folder structure\n",
    "\n",
    "        self.contracts_name_dataframe=pd.DataFrame(file_paths,columns=['Contract Names'])\n",
    "        return self.contracts_name_dataframe\n",
    "\n",
    "    def get_option_framework(self):\n",
    "        \"\"\" \n",
    "        This function build option chain framework from the contracts names. It is assumed that the option contract data is named after their \n",
    "        Ticker + Date of Expiry + Strike Price + Option Type \n",
    "        \"\"\"\n",
    "        #Extract the Ticker\n",
    "        self.contracts_name_dataframe=self.get_contract_names()\n",
    "        self.contracts_name_dataframe['Ticker']=self.contracts_name_dataframe['Contract Names'].apply(lambda x : (x[:x.find('2')]))\n",
    "        #Extract the Expiry Date \n",
    "        self.contracts_name_dataframe['Expiry Date']=self.contracts_name_dataframe['Contract Names'].apply(lambda x : (x[x.find('2'):x.find('2')+6]))\n",
    "        #Extract the Strike\n",
    "        self.contracts_name_dataframe['Strike']=self.contracts_name_dataframe['Contract Names'].apply(lambda x : (x[x.find('2')+6:-2]))\n",
    "        #Extract the Type - PE/CE\n",
    "        self.contracts_name_dataframe['Type']=self.contracts_name_dataframe['Contract Names'].apply(lambda x: x[-2:])\n",
    "        #Transformation of Expiry Date in correct format - %yy%mm%dd. This is followed throughout this project\n",
    "        self.contracts_name_dataframe['Expiry Date']=self.contracts_name_dataframe['Expiry Date'].apply(lambda x : '20'+x)\n",
    "        #Assign the Asset Type\n",
    "        self.contracts_name_dataframe['Asset Type'] = np.where(self.contracts_name_dataframe['Expiry Date'].str.len() < 6, 'Commodity', 'Stocks/Index')\n",
    "        #Selection of Only Stock.Index Options by Filtering Original Datframe and Saving it as new variable 'option_self.contracts_name_dataframe'\n",
    "        self.option_contracts_dataframe=self.contracts_name_dataframe[self.contracts_name_dataframe['Asset Type']=='Stocks/Index'].copy()\n",
    "        #Converting the Expiry Date Column into datetime format\n",
    "        self.option_contracts_dataframe['Expiry Date']=self.option_contracts_dataframe['Expiry Date'].apply(lambda x : datetime.strptime(x,'%Y%m%d'))\n",
    "\n",
    "        return self.option_contracts_dataframe    \n",
    "    \n",
    "    def get_expiry(self,ticker,year=2023):\n",
    "        \"\"\"\n",
    "        This method extracts all the expiry dates in the year 2023\n",
    "        Year: For expiries in all years , Set it False \n",
    "        \"\"\"\n",
    "        # Extract list of all Expiry Dates for a particular ticker\n",
    "        expiry_dates_list=list(set(self.option_contracts_dataframe[self.option_contracts_dataframe['Ticker']==ticker]['Expiry Date']))\n",
    "        # Filtering Expiry Dates for Year 2023\n",
    "        if year:\n",
    "            expiry_dates_list = [date for date in expiry_dates_list if date.year == year]\n",
    "\n",
    "        return np.sort(expiry_dates_list).tolist()\n",
    "\n",
    "        \n",
    "    def get_ticker_list(self,):\n",
    "        ticker_list=sorted(set(self.option_contracts_dataframe['Ticker']))\n",
    "        return list(ticker_list)\n",
    "    \n",
    "\n",
    "    def get_option_chain(self,ticker,expiry):\n",
    "        # Filter dataframe with ticker symbol and Expiry Date\n",
    "        df=self.option_contracts_dataframe[(self.option_contracts_dataframe['Ticker'] == ticker) & (self.option_contracts_dataframe['Expiry Date'] == expiry)]\n",
    "        # Extracting the PE Side and CE Side of the DataFrame to Merge them Horizontally on the Strike Price\n",
    "        df_PE=df[df['Type']=='PE']\n",
    "        df_CE=df[df['Type']=='CE']\n",
    "        df=pd.merge(df_CE,df_PE,on='Strike')\n",
    "        # Removing, Renaming and Re-Arranging the Columns to build Option Chain Structure\n",
    "\n",
    "        #Removing unncessary columns \n",
    "        df.drop(['Ticker_x','Asset Type_x','Ticker_y','Expiry Date_y','Asset Type_y'],axis=1,inplace=True)\n",
    "        #Renaming the columns\n",
    "        df.rename(columns={\"Contract Names_x\":\"Call Contracts\",\n",
    "                            \"Expiry Date_x\":\"Expiry Dates\",\n",
    "                            \"Type_x\":\"CE\",\n",
    "                            \"Contract Names_y\":\"Put Contracts\",\n",
    "                            \"Type_y\":\"PE\"},inplace=True)\n",
    "        #Rearranging the columns\n",
    "        df=df[['Expiry Dates','CE','Call Contracts','Strike','Put Contracts','PE']]\n",
    "        return df\n",
    "        \n",
    "\n",
    "    def list_month_folders(self):\n",
    "        \"\"\"\n",
    "        This Fucntion will find the list of all the folders having monthly tick by tick data\n",
    "        The struture of folders are assumed to be\n",
    "        - 2023\n",
    "            - Jan 2023\n",
    "                - abc1.csv\n",
    "                - abc2.csv\n",
    "                - abc3.csv  \n",
    "            - Feb 2023 \n",
    "            ....\n",
    "            ....\n",
    "            - Dec 2023 \n",
    "        \"\"\"\n",
    "\n",
    "        folders = []                                        # for storing folder paths \n",
    "        for item in os.listdir(self.root_folder_path):                \n",
    "            # Folder structure has 2 level, root folder path and folder inside the root folder, so single iteration is enough\n",
    "            item_path = os.path.join(root_folder, item)\n",
    "            # if os.path.isdir(item_path):                  # Check \n",
    "            folders.append(item_path)\n",
    "        return folders\n",
    "\n",
    "    def get_historical_data(self,contract_name):\n",
    "        \"\"\"\n",
    "        This function trasverse all the nested folders and searches for the contract name and concat csv files \n",
    "        with same name on a single dataframe object. \n",
    "        \"\"\"\n",
    "        filename=contract_name+'.csv'\n",
    "        month_folders=list_month_folders(root_folder)           # Saving Folder names\n",
    "        # print(month_folders)                                  # This is used to see the output of months folders path \n",
    "\n",
    "        df=pd.DataFrame()\n",
    "        for month_folder in month_folders:\n",
    "            for foldername, _, filenames in os.walk(month_folder):\n",
    "                if filename in filenames:\n",
    "                    file_path = os.path.join(foldername, filename)  # Build path for all .csv files having input contract name\n",
    "                    with open(file_path, 'r') as file:\n",
    "                        data = pd.read_csv(file)\n",
    "                        # Issue - > After merger only common datetime index remains. Can be inproved later stage.\n",
    "                        df=pd.concat([df,data],axis=0)              # concat all csv files with input contract name \n",
    "\n",
    "        df.rename(columns={'<ticker>':'Ticker',                     # rename the columns of Datframe. \n",
    "                        '<date>':'Date',\n",
    "                        '<time>':'Time',\n",
    "                        '<open>':'Open',\n",
    "                        '<high>':'High',\n",
    "                        '<low>':'Low',\n",
    "                        '<close>':'Close',\n",
    "                        '<volume>':'Volume',\n",
    "                        '<o/i>':'OI'}\n",
    "                        ,inplace=True)\n",
    "        df['Datetime'] = pd.to_datetime(df['Date'] + ' ' + df['Time'],format='mixed')   # Build Datetime column to be used as Index as data is of 1 minute TimeFrame - > Both Date and Time are important. \n",
    "        df.set_index(['Datetime'],inplace=True)\n",
    "        df.sort_index(inplace=True)\n",
    "\n",
    "        # Resampling the Data to 15 minute TimeFrame, which is used by Institutional Trading\n",
    "        df=df.resample('15T').last()                                # Taking the Closing Price in 15 minute TimeFrame\n",
    "        return df\n",
    "\n",
    "\n",
    "    def get_market_data_and_trends(self,ticker,expiry,start='2022-01-01',end='2024-02-01'):\n",
    "        \"\"\" \n",
    "        This method looks for the ATM strike price on the day of start of new expiry.\n",
    "        Also this method checks the Market Trend. This will be useful to see if Iron Condor performance under different market condition. \n",
    "          \n",
    "        \"\"\"\n",
    "        if ticker=='NIFTY':\n",
    "            market_data=yf.download('^NSEI',start=start,end=end)\n",
    "        else:\n",
    "            market_data=yf.download(ticker+'.NS',start=start,end=end)\n",
    "        market_data['Returns']=market_data['Close'].pct_change()\n",
    "        market_data['Trends']='Sideways'\n",
    "        market_data.loc[market_data['Returns']>0.007,'Trends']='Bullish'\n",
    "        market_data.loc[market_data['Returns']<-0.007,'Trends']='Bearish'\n",
    "\n",
    "        expiries=self.get_expiry(ticker)\n",
    "        # print(market_data['Trends'].value_counts())\n",
    "\n",
    "        # Initialize a list to store trend classifications for each expiry region\n",
    "        expiry_trends = []\n",
    "\n",
    "        # Iterate through the list of expiry timestamps\n",
    "        flag=0\n",
    "        for i in range(0,len(expiries) - 1):\n",
    "            # Define the start and end timestamps for the current expiry region\n",
    "            if flag == 0:\n",
    "                start_timestamp=datetime.strptime('2023-01-01', '%Y-%m-%d')\n",
    "                end_timestamp = datetime.strptime('2023-01-25', '%Y-%m-%d')\n",
    "                flag=flag+1\n",
    "            else:\n",
    "                start_timestamp = expiries[i-1]\n",
    "                end_timestamp = expiries[i]\n",
    "            \n",
    "\n",
    "                    \n",
    "            start_date_of_expiry_series=start_timestamp\n",
    "            try:\n",
    "                specific_row = market_data.loc[start_date_of_expiry_series]\n",
    "            except KeyError:\n",
    "                # If the specific date is not found, find the next available date\n",
    "                next_date = market_data.index[market_data.index > start_date_of_expiry_series][0]\n",
    "                specific_row = market_data.loc[next_date]\n",
    "\n",
    "            spot_price=int(specific_row['Close'])\n",
    "            strike_list=self.get_option_chain(ticker,expiry)['Strike']\n",
    "            strike_list=[int(x) for x in strike_list]\n",
    "\n",
    "            ATM_strike = min(strike_list, key=lambda x: abs(x - spot_price))\n",
    "            \n",
    "\n",
    "            # Extract the market data for the current expiry region\n",
    "            region_data = market_data.loc[(market_data.index >= start_timestamp) & (market_data.index < end_timestamp)]\n",
    "            \n",
    "            # Count the occurrences of each trend type in the current expiry region\n",
    "            trend_counts = region_data['Trends'].value_counts()\n",
    "            \n",
    "            # Assign the trend with the maximum count as the trend for the current expiry region\n",
    "            dominant_trend = trend_counts.idxmax()\n",
    "            \n",
    "            # Append the dominant trend for the current expiry region to the list\n",
    "            expiry_trends.append((start_timestamp, end_timestamp, dominant_trend , ATM_strike))\n",
    "\n",
    "        # Convert the list of expiry trends into a DataFrame for easier manipulation and analysis\n",
    "        expiry_trends_df = pd.DataFrame(expiry_trends, columns=['Start of Expiry Series', 'End of Expiry Series', 'Trend', 'ATM Strike'])\n",
    "\n",
    "        return expiry_trends_df\n"
   ]
  },
  {
   "cell_type": "code",
   "execution_count": 84,
   "metadata": {},
   "outputs": [],
   "source": [
    "class IronCondor:\n",
    "    \"\"\"\n",
    "    This Class implement the Iron Condor Strategy on the Option Chain (Monthly/Weekly) and evaluates Performance\n",
    "       \n",
    "    \"\"\"\n",
    "\n",
    "    def __init__(self,tickers,root_folder_path,lot_size=[1,1,1,1],type='Symmteric',strike_offset_for_long_put=6,set_print=False):\n",
    "        self.set_print=set_print\n",
    "        self.Overall_performance={}           # This dictionary will store performance of each ticker using it as key\n",
    "        self.statistical_performance={}       # This dictionary will store statistic behaviour of each ticker using it as key\n",
    "        self.tickers=tickers\n",
    "        self.lot_size=lot_size\n",
    "        self.type=type\n",
    "        self.strike_offset_for_long_put=strike_offset_for_long_put\n",
    "        self.root_folder_path=root_folder_path\n",
    "        self.Option_Data=Option_Data(root_folder_path=root_folder_path)\n",
    "\n",
    "        if self.type not in ['Symmetric', 'Asymmetric']:\n",
    "            raise ValueError(\"Invalid Iron Condor category. Please choose either 'Symmetric' or 'Asymmetric'.\")\n",
    "\n",
    "\n",
    "    \n",
    "    def list_month_folders(self,root_folder):\n",
    "        \"\"\"\n",
    "        This Fucntion will find the list of all the folders having monthly tick by tick data\n",
    "        The struture of folders are assumed to be\n",
    "        - 2023\n",
    "            - Jan 2023\n",
    "                - abc1.csv\n",
    "                - abc2.csv\n",
    "                - abc3.csv  \n",
    "            - Feb 2023 \n",
    "            ....\n",
    "            ....\n",
    "            - Dec 2023 \n",
    "        \"\"\"\n",
    "\n",
    "        folders = []                                        # for storing folder paths \n",
    "        for item in os.listdir(self.root_folder_path):                \n",
    "            # Folder structure has 2 level, root folder path and folder inside the root folder, so single iteration is enough\n",
    "            item_path = os.path.join(root_folder, item)\n",
    "            # if os.path.isdir(item_path):                  # Check \n",
    "            folders.append(item_path)\n",
    "        return folders\n",
    "\n",
    "\n",
    "    def get_historical_data(self,contract_name):\n",
    "        \"\"\"\n",
    "        This function trasverse all the nested folders and searches for the contract name and concat csv files \n",
    "        with same name on a single dataframe object. \n",
    "        \"\"\"\n",
    "        filename=contract_name+'.csv'\n",
    "        month_folders=self.list_month_folders(root_folder)           # Saving Folder names\n",
    "\n",
    "        df=pd.DataFrame()\n",
    "        for month_folder in month_folders:\n",
    "            for foldername, _, filenames in os.walk(month_folder):\n",
    "                if filename in filenames:\n",
    "                    file_path = os.path.join(foldername, filename)  # Build path for all .csv files having input contract name\n",
    "                    with open(file_path, 'r') as file:\n",
    "                        data = pd.read_csv(file)\n",
    "                        # Issue - > After merger only common datetime index remains. Can be inproved later stage.\n",
    "                        df=pd.concat([df,data],axis=0)              # concat all csv files with input contract name \n",
    "\n",
    "        df.rename(columns={'<ticker>':'Ticker',                     # rename the columns of Datframe. \n",
    "                        '<date>':'Date',\n",
    "                        '<time>':'Time',\n",
    "                        '<open>':'Open',\n",
    "                        '<high>':'High',\n",
    "                        '<low>':'Low',\n",
    "                        '<close>':'Close',\n",
    "                        '<volume>':'Volume',\n",
    "                        '<o/i>':'OI'}\n",
    "                        ,inplace=True)\n",
    "        df['Datetime'] = pd.to_datetime(df['Date'] + ' ' + df['Time'],format='mixed')   # Build Datetime column to be used as Index as data is of 1 minute TimeFrame - > Both Date and Time are important. \n",
    "        df.set_index(['Datetime'],inplace=True)\n",
    "        df.sort_index(inplace=True)\n",
    "\n",
    "        # Resampling the Data to 15 minute TimeFrame, which is used by Institutional Trading\n",
    "        df=df.resample('15T').last()                                # Taking the Closing Price in 15 minute TimeFrame\n",
    "        return df\n",
    "        \n",
    "\n",
    "\n",
    "    def construct_iron_condor(self,ticker,expiry_date):\n",
    "        expiry_trends_df = self.Option_Data.get_market_data_and_trends(ticker,expiry_date)\n",
    "        ATM_strike=expiry_trends_df[expiry_trends_df['End of Expiry Series']==expiry_date]['ATM Strike'].iloc[0]\n",
    "        self.market_trend=expiry_trends_df[expiry_trends_df['End of Expiry Series']==expiry_date]['Trend'].iloc[0]\n",
    "        df=self.Option_Data.get_option_chain(ticker=ticker,expiry=expiry_date)\n",
    "        df['Strike']=df['Strike'].astype(int)\n",
    "        if self.set_print:\n",
    "            print(df)\n",
    "        df.index[df['Strike']==ATM_strike]\n",
    "\n",
    "        # Selecting strike for legs of the Iron Condor\n",
    "        if self.type=='Symmetric':\n",
    "            put_short_strike=df['Strike'].loc[df.index[df['Strike']==ATM_strike][0]-3]           # Short OTM Put 3 strike away from ATM Strike\n",
    "            call_short_strike=df['Strike'].loc[df.index[df['Strike']==ATM_strike][0]+3]          # Short OTM Call 3 strike away from ATM Strike\n",
    "            put_long_strike=df['Strike'].loc[df.index[df['Strike']==ATM_strike][0]-6]            # Short DOTM Put 6 strike away from ATM Strike\n",
    "            call_long_strike=df['Strike'].loc[df.index[df['Strike']==ATM_strike][0]+6]           # Short DOTM Call 6 strike away from ATM Strike\n",
    "\n",
    "            # Finding the name of contracts of Iron condor\n",
    "            put_short_contract_name=df['Put Contracts'].loc[df.index[df['Strike']==ATM_strike][0]-3] \n",
    "            call_short_contract_name=df['Call Contracts'].loc[df.index[df['Strike']==ATM_strike][0]+3] \n",
    "            put_long_contract_name=df['Put Contracts'].loc[df.index[df['Strike']==ATM_strike][0]-6]  \n",
    "            call_long_contract_name=df['Call Contracts'].loc[df.index[df['Strike']==ATM_strike][0]+6]\n",
    "\n",
    "\n",
    "        else :\n",
    "            put_short_strike=df['Strike'].loc[df.index[df['Strike']==ATM_strike][0]-3]                                  # Short OTM Put 3 strike away from ATM Strike\n",
    "            call_short_strike=df['Strike'].loc[df.index[df['Strike']==ATM_strike][0]+3]                                 # Short OTM Call 3 strike away from ATM Strike\n",
    "            put_long_strike=df['Strike'].loc[df.index[df['Strike']==ATM_strike][0]-self.strike_offset_for_long_put]     # Short DOTM Put 6 strike away from ATM Strike\n",
    "            call_long_strike=df['Strike'].loc[df.index[df['Strike']==ATM_strike][0]+6]                                  # Short DOTM Call 6 strike away from ATM Strike\n",
    "\n",
    "            # Finding the name of contracts of Iron condor\n",
    "            put_short_contract_name=df['Put Contracts'].loc[df.index[df['Strike']==ATM_strike][0]-3] \n",
    "            call_short_contract_name=df['Call Contracts'].loc[df.index[df['Strike']==ATM_strike][0]+3] \n",
    "            put_long_contract_name=df['Put Contracts'].loc[df.index[df['Strike']==ATM_strike][0]-self.strike_offset_for_long_put]  \n",
    "            call_long_contract_name=df['Call Contracts'].loc[df.index[df['Strike']==ATM_strike][0]+6]\n",
    "\n",
    "                  \n",
    "     \n",
    "        # Getting Historical Data of selected contracts\n",
    "        put_short_contract_data=self.get_historical_data(contract_name=put_short_contract_name)['Close']\n",
    "        call_short_contract_data=self.get_historical_data(contract_name=call_short_contract_name)['Close']\n",
    "        put_long_contract_data=self.get_historical_data(contract_name=put_long_contract_name)['Close']\n",
    "        call_long_contract_data=self.get_historical_data(contract_name=call_long_contract_name)['Close']\n",
    "\n",
    "        # combining all the premium data\n",
    "        premium_data=pd.concat([put_short_contract_data,call_short_contract_data,put_long_contract_data,call_long_contract_data]\n",
    "                                        ,keys=['Put Short','Call Short','Put Long','Call Long'],axis=1).dropna()\n",
    "        premium_data['Price of Iron Condor'] = np.round(self.lot_size[0]*premium_data['Put Short']+self.lot_size[1]*premium_data['Call Short'] - self.lot_size[2]*premium_data['Put Long']-self.lot_size[3]*premium_data['Call Long'],3)\n",
    "        premium_data['Profit']=np.round(premium_data['Price of Iron Condor'].apply(lambda x : -x+premium_data['Price of Iron Condor'][0]),3)\n",
    "\n",
    "        if self.set_print:\n",
    "            print(put_short_strike,call_short_strike,put_long_strike,call_long_strike)\n",
    "            print(put_short_contract_name,call_short_contract_name,put_long_contract_name,call_long_contract_name)\n",
    "            print(premium_data)\n",
    "\n",
    "        return premium_data\n",
    "    \n",
    "\n",
    "\n",
    "\n",
    "    def calculate_iron_condor_performance(self):\n",
    "        self.overall_performance={}\n",
    "        self.statistical_performance={}\n",
    "        self.overall_historical_performance={}\n",
    "        for ticker in tqdm(self.tickers, desc=\"Processing\", unit=\"ticker\",position=0):\n",
    "            print(f'\\n Start Building Symmteric Iron Condor Performance Charts for {ticker}\\n ')\n",
    "            self.performance=pd.DataFrame()\n",
    "            self.historical_performance_df=pd.DataFrame()\n",
    "            self.statistical_performance_df=pd.DataFrame()\n",
    "\n",
    "        \n",
    "            for expiry_date in tqdm(self.Option_Data.get_expiry(ticker=ticker,year=2023), desc=\"Processing\", unit=\"expiry\"):\n",
    "                #For a particular Expiry, deploy an Iron Condor at the begining of Option Monthly Expiry Series. and it is held till end of monthly expiry.\n",
    "                try:\n",
    "                    self.premium_data=self.construct_iron_condor(ticker=ticker,expiry_date=expiry_date)\n",
    "                    # ticker_name=df['Call Contracts'][0][:df['Call Contracts'][0].find('23')]                 \n",
    "                    self.historical_performance=pd.DataFrame(self.premium_data['Profit'])\n",
    "                    self.historical_performance.rename(columns={'Profit':expiry_date},inplace=True)\n",
    "                    self.Profit=self.premium_data['Profit'][-1]\n",
    "                    self.Backtested_samples=self.premium_data.shape[0]\n",
    "                    self.Maxmium_profit=self.premium_data['Profit'].max()\n",
    "                    self.Percentage_duration_at_max_profit=(self.premium_data.index.get_loc(self.premium_data['Profit'].idxmax())+1)/len(self.premium_data)*100\n",
    "                    self.Expiry=expiry_date\n",
    "                    self.performance_df = pd.DataFrame({'Backtested Samples': self.Backtested_samples,\n",
    "                                                'Profit till Expiry': self.Profit,\n",
    "                                                'Maximum Profit':self.Maxmium_profit,\n",
    "                                                'Duration % at Max Profit':np.round(self.Percentage_duration_at_max_profit,3),\n",
    "                                                'Market Trend' :self.market_trend},index=[expiry_date.date()]).rename_axis('Expiry Date')\n",
    "\n",
    "                    self.performance = pd.concat([self.performance, self.performance_df])\n",
    "\n",
    "                    if self.historical_performance.shape[0] !=0:\n",
    "                        self.historical_performance_df=pd.concat([self.historical_performance_df,self.historical_performance],axis=1)\n",
    "\n",
    "\n",
    "                    self.overall_performance[ticker]=self.performance\n",
    "\n",
    "                    self.overall_historical_performance[ticker]=self.historical_performance_df\n",
    "\n",
    "                    self.statistical_performance_df=pd.DataFrame({'Mean Profit':self.performance['Profit till Expiry'].mean(),\n",
    "                                                    'Std Profit':self.performance['Profit till Expiry'].std(),\n",
    "                                                    'Risk Adjusted Profit' : self.performance['Profit till Expiry'].mean()/self.performance['Profit till Expiry'].std(),\n",
    "                                                    'Mean Max Profit':self.performance['Maximum Profit'].mean()},index=[ticker])\n",
    "\n",
    "                    self.statistical_performance[ticker]=self.statistical_performance_df\n",
    "                \n",
    "                \n",
    "                except Exception as e:\n",
    "                    print(f\"Error occurred for ticker : {ticker} for expiry date: {expiry_date.date()}, Error: {e}\")\n",
    "\n",
    "\n",
    "        return self.overall_performance,self.statistical_performance,self.overall_historical_performance\n",
    "    \n",
    "\n"
   ]
  },
  {
   "cell_type": "code",
   "execution_count": 85,
   "metadata": {},
   "outputs": [],
   "source": [
    "SBI_condor=IronCondor(tickers=['SBIN'],root_folder_path=root_folder,type='Symmetric')\n"
   ]
  },
  {
   "cell_type": "code",
   "execution_count": 86,
   "metadata": {},
   "outputs": [
    {
     "name": "stderr",
     "output_type": "stream",
     "text": [
      "Processing:   0%|          | 0/1 [00:00<?, ?ticker/s]"
     ]
    },
    {
     "name": "stdout",
     "output_type": "stream",
     "text": [
      "\n",
      " Start Building Symmteric Iron Condor Performance Charts for SBIN\n",
      " \n"
     ]
    },
    {
     "name": "stderr",
     "output_type": "stream",
     "text": [
      "[*********************100%%**********************]  1 of 1 completed"
     ]
    },
    {
     "name": "stderr",
     "output_type": "stream",
     "text": [
      "\n",
      "[*********************100%%**********************]  1 of 1 completed\n",
      "[*********************100%%**********************]  1 of 1 completed\n",
      "[*********************100%%**********************]  1 of 1 completed\n",
      "[*********************100%%**********************]  1 of 1 completed\n",
      "[*********************100%%**********************]  1 of 1 completed\n",
      "[*********************100%%**********************]  1 of 1 completed\n",
      "[*********************100%%**********************]  1 of 1 completed\n",
      "[*********************100%%**********************]  1 of 1 completed\n",
      "[*********************100%%**********************]  1 of 1 completed\n",
      "[*********************100%%**********************]  1 of 1 completed\n",
      "[*********************100%%**********************]  1 of 1 completed\n",
      "Processing: 100%|██████████| 12/12 [00:33<00:00,  2.76s/expiry]\n",
      "Processing: 100%|██████████| 1/1 [00:33<00:00, 33.16s/ticker]"
     ]
    },
    {
     "name": "stdout",
     "output_type": "stream",
     "text": [
      "Error occurred for ticker : SBIN for expiry date: 2023-12-28, Error: single positional indexer is out-of-bounds\n"
     ]
    },
    {
     "name": "stderr",
     "output_type": "stream",
     "text": [
      "\n"
     ]
    },
    {
     "data": {
      "text/plain": [
       "({'SBIN':              Backtested Samples  Profit till Expiry  Maximum Profit  \\\n",
       "  Expiry Date                                                           \n",
       "  2023-01-25                  409               -8.55            7.30   \n",
       "  2023-02-23                  276                0.45            5.10   \n",
       "  2023-03-29                  612                2.40            2.40   \n",
       "  2023-04-27                  356                0.65            2.35   \n",
       "  2023-05-25                  576               -4.15            1.25   \n",
       "  2023-06-29                  949                0.00            0.00   \n",
       "  2023-07-27                  595                0.00            0.00   \n",
       "  2023-08-31                  651                2.15            2.65   \n",
       "  2023-09-28                  480                1.30            1.60   \n",
       "  2023-10-26                  764                1.25            4.90   \n",
       "  2023-11-30                  259               -0.50            2.50   \n",
       "  \n",
       "               Duration % at Max Profit Market Trend  \n",
       "  Expiry Date                                         \n",
       "  2023-01-25                     95.355     Sideways  \n",
       "  2023-02-23                     43.841     Sideways  \n",
       "  2023-03-29                    100.000      Bearish  \n",
       "  2023-04-27                     97.191      Bullish  \n",
       "  2023-05-25                      1.562     Sideways  \n",
       "  2023-06-29                      0.105     Sideways  \n",
       "  2023-07-27                      0.168     Sideways  \n",
       "  2023-08-31                     77.266     Sideways  \n",
       "  2023-09-28                     83.958      Bullish  \n",
       "  2023-10-26                     79.581     Sideways  \n",
       "  2023-11-30                     60.618     Sideways  },\n",
       " {'SBIN':       Mean Profit  Std Profit  Risk Adjusted Profit  Mean Max Profit\n",
       "  SBIN    -0.454545    3.202535             -0.141933         2.731818},\n",
       " {'SBIN':                      2023-01-25  2023-02-23  2023-03-29  2023-04-27  \\\n",
       "  Datetime                                                              \n",
       "  2023-01-02 09:15:00        0.00         NaN         NaN         NaN   \n",
       "  2023-01-02 09:30:00        0.15         NaN         NaN         NaN   \n",
       "  2023-01-02 09:45:00       -0.10         NaN         NaN         NaN   \n",
       "  2023-01-02 10:00:00       -0.10         NaN         NaN         NaN   \n",
       "  2023-01-02 10:15:00        0.05         NaN         NaN         NaN   \n",
       "  ...                         ...         ...         ...         ...   \n",
       "  2023-12-10 14:30:00         NaN         NaN         NaN         NaN   \n",
       "  2023-12-10 14:45:00         NaN         NaN         NaN         NaN   \n",
       "  2023-12-10 15:00:00         NaN         NaN         NaN         NaN   \n",
       "  2023-12-10 15:15:00         NaN         NaN         NaN         NaN   \n",
       "  2023-12-10 15:30:00         NaN         NaN         NaN         NaN   \n",
       "  \n",
       "                       2023-05-25  2023-06-29  2023-07-27  2023-08-31  \\\n",
       "  Datetime                                                              \n",
       "  2023-01-02 09:15:00         NaN         NaN         NaN         NaN   \n",
       "  2023-01-02 09:30:00         NaN         NaN         NaN         NaN   \n",
       "  2023-01-02 09:45:00         NaN         NaN         NaN         NaN   \n",
       "  2023-01-02 10:00:00         NaN         NaN         NaN         NaN   \n",
       "  2023-01-02 10:15:00         NaN         NaN         NaN         NaN   \n",
       "  ...                         ...         ...         ...         ...   \n",
       "  2023-12-10 14:30:00         NaN         NaN         NaN         NaN   \n",
       "  2023-12-10 14:45:00         NaN         NaN         NaN         NaN   \n",
       "  2023-12-10 15:00:00         NaN         NaN         NaN         NaN   \n",
       "  2023-12-10 15:15:00         NaN         NaN         NaN         NaN   \n",
       "  2023-12-10 15:30:00         NaN         NaN         NaN         NaN   \n",
       "  \n",
       "                       2023-09-28  2023-10-26  2023-11-30  \n",
       "  Datetime                                                 \n",
       "  2023-01-02 09:15:00         NaN         NaN         NaN  \n",
       "  2023-01-02 09:30:00         NaN         NaN         NaN  \n",
       "  2023-01-02 09:45:00         NaN         NaN         NaN  \n",
       "  2023-01-02 10:00:00         NaN         NaN         NaN  \n",
       "  2023-01-02 10:15:00         NaN         NaN         NaN  \n",
       "  ...                         ...         ...         ...  \n",
       "  2023-12-10 14:30:00         NaN        1.10         NaN  \n",
       "  2023-12-10 14:45:00         NaN        1.15         NaN  \n",
       "  2023-12-10 15:00:00         NaN        1.10         NaN  \n",
       "  2023-12-10 15:15:00         NaN        1.25         NaN  \n",
       "  2023-12-10 15:30:00         NaN        1.25         NaN  \n",
       "  \n",
       "  [4704 rows x 11 columns]})"
      ]
     },
     "execution_count": 86,
     "metadata": {},
     "output_type": "execute_result"
    }
   ],
   "source": [
    "SBI_condor.calculate_iron_condor_performance()"
   ]
  },
  {
   "cell_type": "code",
   "execution_count": 87,
   "metadata": {},
   "outputs": [
    {
     "data": {
      "text/plain": [
       "<matplotlib.legend.Legend at 0x20062b27610>"
      ]
     },
     "execution_count": 87,
     "metadata": {},
     "output_type": "execute_result"
    },
    {
     "data": {
      "image/png": "[encoded data removed]",
      "text/plain": [
       "<Figure size 1500x500 with 1 Axes>"
      ]
     },
     "metadata": {},
     "output_type": "display_data"
    }
   ],
   "source": [
    "ax = SBI_condor.historical_performance_df.plot(figsize=(15,5))\n",
    "ax.legend(loc='upper left', bbox_to_anchor=(1, 1))\n"
   ]
  },
  {
   "cell_type": "code",
   "execution_count": null,
   "metadata": {},
   "outputs": [],
   "source": [
    "import yfinance as yf\n",
    "import matplotlib.pyplot as plt\n",
    "\n",
    "sbi_data = yf.download('SBIN.NS', start='2023-01-01', end='2024-01-01')\n",
    "fig, ax1 = plt.subplots(figsize=(15, 5))\n",
    "SBI_condor.historical_performance_df.plot(ax=ax1,alpha=0.5)\n",
    "\n",
    "ax2 = ax1.twinx()\n",
    "sbi_data['Close'].plot(ax=ax2, color='red', label='SBIN Closing Price')\n",
    "ax1.set_ylabel('Historical Performance')\n",
    "ax2.set_ylabel('SBIN Price')\n",
    "lines, labels = ax1.get_legend_handles_labels()\n",
    "lines2, labels2 = ax2.get_legend_handles_labels()\n",
    "ax1.legend(lines + lines2, labels + labels2, loc='upper left', bbox_to_anchor=(1.1, 1))\n",
    "plt.show()\n",
    "\n"
   ]
  },
  {
   "cell_type": "code",
   "execution_count": null,
   "metadata": {},
   "outputs": [],
   "source": [
    "SBI_condor=IronCondor(root_folder_path=root_folder,tickers=['SBIN'],lot_size=[1,1,2,1],type='Asymmetric',strike_offset_for_long_put=8)\n",
    "SBI_condor.calculate_iron_condor_performance()\n",
    "SBI_condor.statistical_performance['SBIN']"
   ]
  },
  {
   "cell_type": "markdown",
   "metadata": {},
   "source": [
    "# Step 3 : Comparison of Iron Condor With and W/o Extra Long put for different combinations"
   ]
  },
  {
   "cell_type": "markdown",
   "metadata": {},
   "source": [
    "### Comparison of Profit and Loss for Iron Condor with Extra Long Put with different Strikes\n",
    "#### 1 Lots of all options are used to build Iron Condor\n",
    "- Symmetric Iron Condor\n",
    "- Asymmetric Iron Condor with Extra Long Put with 8 strike offset\n",
    "- Asymmetric Iron Condor with Exta Long Put with 12 strike offset\n",
    "- Asymmetric Iron Condor with Exta Long Put with 16 strike offset\n",
    "- Asymmetric Iron Condor with Exta Long Put with 20 strike offset\n",
    "\n"
   ]
  },
  {
   "cell_type": "code",
   "execution_count": 91,
   "metadata": {},
   "outputs": [
    {
     "name": "stderr",
     "output_type": "stream",
     "text": [
      "Processing:   0%|          | 0/1 [00:00<?, ?ticker/s]"
     ]
    },
    {
     "name": "stdout",
     "output_type": "stream",
     "text": [
      "\n",
      " Start Building Symmteric Iron Condor Performance Charts for NIFTY\n",
      " \n"
     ]
    },
    {
     "name": "stderr",
     "output_type": "stream",
     "text": [
      "[*********************100%%**********************]  1 of 1 completed\n",
      "[*********************100%%**********************]  1 of 1 completed"
     ]
    },
    {
     "name": "stdout",
     "output_type": "stream",
     "text": [
      "Error occurred for ticker : NIFTY for expiry date: 2023-01-05, Error: single positional indexer is out-of-bounds\n"
     ]
    },
    {
     "name": "stderr",
     "output_type": "stream",
     "text": [
      "\n",
      "[*********************100%%**********************]  1 of 1 completed\n",
      "[*********************100%%**********************]  1 of 1 completed\n",
      "[*********************100%%**********************]  1 of 1 completed\n",
      "[*********************100%%**********************]  1 of 1 completed\n",
      "[*********************100%%**********************]  1 of 1 completed\n",
      "[*********************100%%**********************]  1 of 1 completed\n",
      "[*********************100%%**********************]  1 of 1 completed\n",
      "[*********************100%%**********************]  1 of 1 completed\n",
      "[*********************100%%**********************]  1 of 1 completed\n",
      "[*********************100%%**********************]  1 of 1 completed\n",
      "[*********************100%%**********************]  1 of 1 completed"
     ]
    },
    {
     "name": "stdout",
     "output_type": "stream",
     "text": [
      "Error occurred for ticker : NIFTY for expiry date: 2023-03-23, Error: -3\n"
     ]
    },
    {
     "name": "stderr",
     "output_type": "stream",
     "text": [
      "\n",
      "[*********************100%%**********************]  1 of 1 completed\n",
      "[*********************100%%**********************]  1 of 1 completed\n",
      "[*********************100%%**********************]  1 of 1 completed\n",
      "[*********************100%%**********************]  1 of 1 completed\n",
      "[*********************100%%**********************]  1 of 1 completed\n",
      "[*********************100%%**********************]  1 of 1 completed\n",
      "[*********************100%%**********************]  1 of 1 completed\n",
      "[*********************100%%**********************]  1 of 1 completed\n",
      "[*********************100%%**********************]  1 of 1 completed\n",
      "[*********************100%%**********************]  1 of 1 completed\n",
      "[*********************100%%**********************]  1 of 1 completed\n",
      "[*********************100%%**********************]  1 of 1 completed\n",
      "[*********************100%%**********************]  1 of 1 completed\n",
      "[*********************100%%**********************]  1 of 1 completed\n",
      "[*********************100%%**********************]  1 of 1 completed\n",
      "[*********************100%%**********************]  1 of 1 completed\n",
      "[*********************100%%**********************]  1 of 1 completed\n",
      "[*********************100%%**********************]  1 of 1 completed\n",
      "[*********************100%%**********************]  1 of 1 completed\n",
      "[*********************100%%**********************]  1 of 1 completed\n",
      "[*********************100%%**********************]  1 of 1 completed\n",
      "[*********************100%%**********************]  1 of 1 completed\n",
      "[*********************100%%**********************]  1 of 1 completed\n",
      "[*********************100%%**********************]  1 of 1 completed\n",
      "[*********************100%%**********************]  1 of 1 completed\n",
      "[*********************100%%**********************]  1 of 1 completed\n",
      "[*********************100%%**********************]  1 of 1 completed\n",
      "[*********************100%%**********************]  1 of 1 completed\n",
      "[*********************100%%**********************]  1 of 1 completed\n",
      "[*********************100%%**********************]  1 of 1 completed\n",
      "[*********************100%%**********************]  1 of 1 completed\n",
      "[*********************100%%**********************]  1 of 1 completed\n",
      "[*********************100%%**********************]  1 of 1 completed\n",
      "[*********************100%%**********************]  1 of 1 completed\n",
      "[*********************100%%**********************]  1 of 1 completed\n",
      "[*********************100%%**********************]  1 of 1 completed\n",
      "[*********************100%%**********************]  1 of 1 completed\n",
      "[*********************100%%**********************]  1 of 1 completed\n",
      "[*********************100%%**********************]  1 of 1 completed\n",
      "Processing: 100%|██████████| 52/52 [05:21<00:00,  6.19s/expiry]\n",
      "Processing: 100%|██████████| 1/1 [05:21<00:00, 321.90s/ticker]"
     ]
    },
    {
     "name": "stdout",
     "output_type": "stream",
     "text": [
      "Error occurred for ticker : NIFTY for expiry date: 2023-12-28, Error: single positional indexer is out-of-bounds\n"
     ]
    },
    {
     "name": "stderr",
     "output_type": "stream",
     "text": [
      "\n",
      "Processing:   0%|          | 0/1 [00:00<?, ?ticker/s]"
     ]
    },
    {
     "name": "stdout",
     "output_type": "stream",
     "text": [
      "\n",
      " Start Building Symmteric Iron Condor Performance Charts for NIFTY\n",
      " \n"
     ]
    },
    {
     "name": "stderr",
     "output_type": "stream",
     "text": [
      "[*********************100%%**********************]  1 of 1 completed\n",
      "[*********************100%%**********************]  1 of 1 completed"
     ]
    },
    {
     "name": "stdout",
     "output_type": "stream",
     "text": [
      "Error occurred for ticker : NIFTY for expiry date: 2023-01-05, Error: single positional indexer is out-of-bounds\n"
     ]
    },
    {
     "name": "stderr",
     "output_type": "stream",
     "text": [
      "\n",
      "[*********************100%%**********************]  1 of 1 completed\n",
      "[*********************100%%**********************]  1 of 1 completed\n",
      "[*********************100%%**********************]  1 of 1 completed\n",
      "[*********************100%%**********************]  1 of 1 completed\n",
      "[*********************100%%**********************]  1 of 1 completed\n",
      "[*********************100%%**********************]  1 of 1 completed\n",
      "[*********************100%%**********************]  1 of 1 completed\n",
      "[*********************100%%**********************]  1 of 1 completed\n",
      "[*********************100%%**********************]  1 of 1 completed\n",
      "[*********************100%%**********************]  1 of 1 completed\n",
      "[*********************100%%**********************]  1 of 1 completed"
     ]
    },
    {
     "name": "stdout",
     "output_type": "stream",
     "text": [
      "Error occurred for ticker : NIFTY for expiry date: 2023-03-23, Error: -3\n"
     ]
    },
    {
     "name": "stderr",
     "output_type": "stream",
     "text": [
      "\n",
      "[*********************100%%**********************]  1 of 1 completed\n",
      "[*********************100%%**********************]  1 of 1 completed\n",
      "[*********************100%%**********************]  1 of 1 completed\n",
      "[*********************100%%**********************]  1 of 1 completed\n",
      "[*********************100%%**********************]  1 of 1 completed\n",
      "[*********************100%%**********************]  1 of 1 completed\n",
      "[*********************100%%**********************]  1 of 1 completed\n",
      "[*********************100%%**********************]  1 of 1 completed\n",
      "[*********************100%%**********************]  1 of 1 completed\n",
      "[*********************100%%**********************]  1 of 1 completed\n",
      "[*********************100%%**********************]  1 of 1 completed\n",
      "[*********************100%%**********************]  1 of 1 completed\n",
      "[*********************100%%**********************]  1 of 1 completed\n",
      "[*********************100%%**********************]  1 of 1 completed\n",
      "[*********************100%%**********************]  1 of 1 completed\n",
      "[*********************100%%**********************]  1 of 1 completed\n",
      "[*********************100%%**********************]  1 of 1 completed\n",
      "[*********************100%%**********************]  1 of 1 completed\n",
      "[*********************100%%**********************]  1 of 1 completed\n",
      "[*********************100%%**********************]  1 of 1 completed\n",
      "[*********************100%%**********************]  1 of 1 completed\n",
      "[*********************100%%**********************]  1 of 1 completed\n",
      "[*********************100%%**********************]  1 of 1 completed\n",
      "[*********************100%%**********************]  1 of 1 completed\n",
      "[*********************100%%**********************]  1 of 1 completed\n",
      "[*********************100%%**********************]  1 of 1 completed\n",
      "[*********************100%%**********************]  1 of 1 completed\n",
      "[*********************100%%**********************]  1 of 1 completed\n",
      "[*********************100%%**********************]  1 of 1 completed\n",
      "[*********************100%%**********************]  1 of 1 completed\n",
      "[*********************100%%**********************]  1 of 1 completed\n",
      "[*********************100%%**********************]  1 of 1 completed\n",
      "[*********************100%%**********************]  1 of 1 completed\n",
      "[*********************100%%**********************]  1 of 1 completed\n",
      "[*********************100%%**********************]  1 of 1 completed\n",
      "[*********************100%%**********************]  1 of 1 completed\n",
      "[*********************100%%**********************]  1 of 1 completed\n",
      "[*********************100%%**********************]  1 of 1 completed\n",
      "[*********************100%%**********************]  1 of 1 completed\n",
      "Processing: 100%|██████████| 52/52 [03:18<00:00,  3.81s/expiry]\n",
      "Processing: 100%|██████████| 1/1 [03:18<00:00, 198.07s/ticker]"
     ]
    },
    {
     "name": "stdout",
     "output_type": "stream",
     "text": [
      "Error occurred for ticker : NIFTY for expiry date: 2023-12-28, Error: single positional indexer is out-of-bounds\n"
     ]
    },
    {
     "name": "stderr",
     "output_type": "stream",
     "text": [
      "\n",
      "Processing:   0%|          | 0/1 [00:00<?, ?ticker/s]"
     ]
    },
    {
     "name": "stdout",
     "output_type": "stream",
     "text": [
      "\n",
      " Start Building Symmteric Iron Condor Performance Charts for NIFTY\n",
      " \n"
     ]
    },
    {
     "name": "stderr",
     "output_type": "stream",
     "text": [
      "[*********************100%%**********************]  1 of 1 completed\n",
      "[*********************100%%**********************]  1 of 1 completed"
     ]
    },
    {
     "name": "stdout",
     "output_type": "stream",
     "text": [
      "Error occurred for ticker : NIFTY for expiry date: 2023-01-05, Error: single positional indexer is out-of-bounds\n"
     ]
    },
    {
     "name": "stderr",
     "output_type": "stream",
     "text": [
      "\n",
      "[*********************100%%**********************]  1 of 1 completed\n",
      "[*********************100%%**********************]  1 of 1 completed\n",
      "[*********************100%%**********************]  1 of 1 completed\n",
      "[*********************100%%**********************]  1 of 1 completed\n",
      "[*********************100%%**********************]  1 of 1 completed\n",
      "[*********************100%%**********************]  1 of 1 completed\n",
      "[*********************100%%**********************]  1 of 1 completed\n",
      "[*********************100%%**********************]  1 of 1 completed\n",
      "[*********************100%%**********************]  1 of 1 completed\n",
      "[*********************100%%**********************]  1 of 1 completed\n",
      "[*********************100%%**********************]  1 of 1 completed"
     ]
    },
    {
     "name": "stdout",
     "output_type": "stream",
     "text": [
      "Error occurred for ticker : NIFTY for expiry date: 2023-03-23, Error: -3\n"
     ]
    },
    {
     "name": "stderr",
     "output_type": "stream",
     "text": [
      "\n",
      "[*********************100%%**********************]  1 of 1 completed\n",
      "[*********************100%%**********************]  1 of 1 completed\n",
      "[*********************100%%**********************]  1 of 1 completed\n",
      "[*********************100%%**********************]  1 of 1 completed\n",
      "[*********************100%%**********************]  1 of 1 completed\n",
      "[*********************100%%**********************]  1 of 1 completed\n",
      "[*********************100%%**********************]  1 of 1 completed\n",
      "[*********************100%%**********************]  1 of 1 completed\n",
      "[*********************100%%**********************]  1 of 1 completed\n",
      "[*********************100%%**********************]  1 of 1 completed\n",
      "[*********************100%%**********************]  1 of 1 completed\n",
      "[*********************100%%**********************]  1 of 1 completed\n",
      "[*********************100%%**********************]  1 of 1 completed\n",
      "[*********************100%%**********************]  1 of 1 completed\n",
      "[*********************100%%**********************]  1 of 1 completed\n",
      "[*********************100%%**********************]  1 of 1 completed\n",
      "[*********************100%%**********************]  1 of 1 completed\n",
      "[*********************100%%**********************]  1 of 1 completed\n",
      "[*********************100%%**********************]  1 of 1 completed\n",
      "[*********************100%%**********************]  1 of 1 completed\n",
      "[*********************100%%**********************]  1 of 1 completed\n",
      "[*********************100%%**********************]  1 of 1 completed\n",
      "[*********************100%%**********************]  1 of 1 completed\n",
      "[*********************100%%**********************]  1 of 1 completed\n",
      "[*********************100%%**********************]  1 of 1 completed\n",
      "[*********************100%%**********************]  1 of 1 completed\n",
      "[*********************100%%**********************]  1 of 1 completed\n",
      "[*********************100%%**********************]  1 of 1 completed\n",
      "[*********************100%%**********************]  1 of 1 completed\n",
      "[*********************100%%**********************]  1 of 1 completed\n",
      "[*********************100%%**********************]  1 of 1 completed\n",
      "[*********************100%%**********************]  1 of 1 completed\n",
      "[*********************100%%**********************]  1 of 1 completed\n",
      "[*********************100%%**********************]  1 of 1 completed\n",
      "[*********************100%%**********************]  1 of 1 completed\n",
      "[*********************100%%**********************]  1 of 1 completed\n",
      "[*********************100%%**********************]  1 of 1 completed\n",
      "[*********************100%%**********************]  1 of 1 completed\n",
      "[*********************100%%**********************]  1 of 1 completed\n",
      "Processing: 100%|██████████| 52/52 [03:00<00:00,  3.47s/expiry]\n",
      "Processing: 100%|██████████| 1/1 [03:00<00:00, 180.53s/ticker]"
     ]
    },
    {
     "name": "stdout",
     "output_type": "stream",
     "text": [
      "Error occurred for ticker : NIFTY for expiry date: 2023-12-28, Error: single positional indexer is out-of-bounds\n"
     ]
    },
    {
     "name": "stderr",
     "output_type": "stream",
     "text": [
      "\n",
      "Processing:   0%|          | 0/1 [00:00<?, ?ticker/s]"
     ]
    },
    {
     "name": "stdout",
     "output_type": "stream",
     "text": [
      "\n",
      " Start Building Symmteric Iron Condor Performance Charts for NIFTY\n",
      " \n"
     ]
    },
    {
     "name": "stderr",
     "output_type": "stream",
     "text": [
      "[*********************100%%**********************]  1 of 1 completed\n",
      "[*********************100%%**********************]  1 of 1 completed"
     ]
    },
    {
     "name": "stdout",
     "output_type": "stream",
     "text": [
      "Error occurred for ticker : NIFTY for expiry date: 2023-01-05, Error: single positional indexer is out-of-bounds\n"
     ]
    },
    {
     "name": "stderr",
     "output_type": "stream",
     "text": [
      "\n",
      "[*********************100%%**********************]  1 of 1 completed\n",
      "[*********************100%%**********************]  1 of 1 completed\n",
      "[*********************100%%**********************]  1 of 1 completed\n",
      "[*********************100%%**********************]  1 of 1 completed\n",
      "[*********************100%%**********************]  1 of 1 completed\n",
      "[*********************100%%**********************]  1 of 1 completed\n",
      "[*********************100%%**********************]  1 of 1 completed\n",
      "[*********************100%%**********************]  1 of 1 completed\n",
      "[*********************100%%**********************]  1 of 1 completed\n",
      "[*********************100%%**********************]  1 of 1 completed\n",
      "[*********************100%%**********************]  1 of 1 completed"
     ]
    },
    {
     "name": "stdout",
     "output_type": "stream",
     "text": [
      "Error occurred for ticker : NIFTY for expiry date: 2023-03-23, Error: -3\n"
     ]
    },
    {
     "name": "stderr",
     "output_type": "stream",
     "text": [
      "\n",
      "[*********************100%%**********************]  1 of 1 completed\n",
      "[*********************100%%**********************]  1 of 1 completed\n",
      "[*********************100%%**********************]  1 of 1 completed\n",
      "[*********************100%%**********************]  1 of 1 completed\n",
      "[*********************100%%**********************]  1 of 1 completed\n",
      "[*********************100%%**********************]  1 of 1 completed\n",
      "[*********************100%%**********************]  1 of 1 completed\n",
      "[*********************100%%**********************]  1 of 1 completed\n",
      "[*********************100%%**********************]  1 of 1 completed\n",
      "[*********************100%%**********************]  1 of 1 completed\n",
      "[*********************100%%**********************]  1 of 1 completed\n",
      "[*********************100%%**********************]  1 of 1 completed\n",
      "[*********************100%%**********************]  1 of 1 completed\n",
      "[*********************100%%**********************]  1 of 1 completed\n",
      "[*********************100%%**********************]  1 of 1 completed\n",
      "[*********************100%%**********************]  1 of 1 completed\n",
      "[*********************100%%**********************]  1 of 1 completed\n",
      "[*********************100%%**********************]  1 of 1 completed\n",
      "[*********************100%%**********************]  1 of 1 completed\n",
      "[*********************100%%**********************]  1 of 1 completed\n",
      "[*********************100%%**********************]  1 of 1 completed\n",
      "[*********************100%%**********************]  1 of 1 completed\n",
      "[*********************100%%**********************]  1 of 1 completed\n",
      "[*********************100%%**********************]  1 of 1 completed\n",
      "[*********************100%%**********************]  1 of 1 completed\n",
      "[*********************100%%**********************]  1 of 1 completed\n",
      "[*********************100%%**********************]  1 of 1 completed\n",
      "[*********************100%%**********************]  1 of 1 completed\n",
      "[*********************100%%**********************]  1 of 1 completed\n",
      "[*********************100%%**********************]  1 of 1 completed\n",
      "[*********************100%%**********************]  1 of 1 completed\n",
      "[*********************100%%**********************]  1 of 1 completed\n",
      "[*********************100%%**********************]  1 of 1 completed\n",
      "[*********************100%%**********************]  1 of 1 completed\n",
      "[*********************100%%**********************]  1 of 1 completed\n",
      "[*********************100%%**********************]  1 of 1 completed\n",
      "[*********************100%%**********************]  1 of 1 completed\n",
      "[*********************100%%**********************]  1 of 1 completed\n",
      "[*********************100%%**********************]  1 of 1 completed\n",
      "Processing: 100%|██████████| 52/52 [03:00<00:00,  3.47s/expiry]\n",
      "Processing: 100%|██████████| 1/1 [03:00<00:00, 180.25s/ticker]"
     ]
    },
    {
     "name": "stdout",
     "output_type": "stream",
     "text": [
      "Error occurred for ticker : NIFTY for expiry date: 2023-12-28, Error: single positional indexer is out-of-bounds\n"
     ]
    },
    {
     "name": "stderr",
     "output_type": "stream",
     "text": [
      "\n",
      "Processing:   0%|          | 0/1 [00:00<?, ?ticker/s]"
     ]
    },
    {
     "name": "stdout",
     "output_type": "stream",
     "text": [
      "\n",
      " Start Building Symmteric Iron Condor Performance Charts for NIFTY\n",
      " \n"
     ]
    },
    {
     "name": "stderr",
     "output_type": "stream",
     "text": [
      "[*********************100%%**********************]  1 of 1 completed\n",
      "[*********************100%%**********************]  1 of 1 completed"
     ]
    },
    {
     "name": "stdout",
     "output_type": "stream",
     "text": [
      "Error occurred for ticker : NIFTY for expiry date: 2023-01-05, Error: single positional indexer is out-of-bounds\n"
     ]
    },
    {
     "name": "stderr",
     "output_type": "stream",
     "text": [
      "\n",
      "[*********************100%%**********************]  1 of 1 completed\n",
      "[*********************100%%**********************]  1 of 1 completed\n",
      "[*********************100%%**********************]  1 of 1 completed\n",
      "[*********************100%%**********************]  1 of 1 completed\n",
      "[*********************100%%**********************]  1 of 1 completed\n",
      "[*********************100%%**********************]  1 of 1 completed\n",
      "[*********************100%%**********************]  1 of 1 completed\n",
      "[*********************100%%**********************]  1 of 1 completed\n",
      "[*********************100%%**********************]  1 of 1 completed\n",
      "[*********************100%%**********************]  1 of 1 completed\n",
      "[*********************100%%**********************]  1 of 1 completed"
     ]
    },
    {
     "name": "stdout",
     "output_type": "stream",
     "text": [
      "Error occurred for ticker : NIFTY for expiry date: 2023-03-23, Error: -3\n"
     ]
    },
    {
     "name": "stderr",
     "output_type": "stream",
     "text": [
      "\n",
      "[*********************100%%**********************]  1 of 1 completed\n",
      "[*********************100%%**********************]  1 of 1 completed\n",
      "[*********************100%%**********************]  1 of 1 completed\n",
      "[*********************100%%**********************]  1 of 1 completed\n",
      "[*********************100%%**********************]  1 of 1 completed\n",
      "[*********************100%%**********************]  1 of 1 completed\n",
      "[*********************100%%**********************]  1 of 1 completed\n",
      "[*********************100%%**********************]  1 of 1 completed\n",
      "[*********************100%%**********************]  1 of 1 completed\n",
      "[*********************100%%**********************]  1 of 1 completed\n",
      "[*********************100%%**********************]  1 of 1 completed\n",
      "[*********************100%%**********************]  1 of 1 completed\n",
      "[*********************100%%**********************]  1 of 1 completed\n",
      "[*********************100%%**********************]  1 of 1 completed\n",
      "[*********************100%%**********************]  1 of 1 completed\n",
      "[*********************100%%**********************]  1 of 1 completed\n",
      "[*********************100%%**********************]  1 of 1 completed\n",
      "[*********************100%%**********************]  1 of 1 completed\n",
      "[*********************100%%**********************]  1 of 1 completed\n",
      "[*********************100%%**********************]  1 of 1 completed\n",
      "[*********************100%%**********************]  1 of 1 completed\n",
      "[*********************100%%**********************]  1 of 1 completed\n",
      "[*********************100%%**********************]  1 of 1 completed\n",
      "[*********************100%%**********************]  1 of 1 completed\n",
      "[*********************100%%**********************]  1 of 1 completed\n",
      "[*********************100%%**********************]  1 of 1 completed\n",
      "[*********************100%%**********************]  1 of 1 completed\n",
      "[*********************100%%**********************]  1 of 1 completed\n",
      "[*********************100%%**********************]  1 of 1 completed\n",
      "[*********************100%%**********************]  1 of 1 completed\n",
      "[*********************100%%**********************]  1 of 1 completed\n",
      "[*********************100%%**********************]  1 of 1 completed\n",
      "[*********************100%%**********************]  1 of 1 completed\n",
      "[*********************100%%**********************]  1 of 1 completed\n",
      "[*********************100%%**********************]  1 of 1 completed\n",
      "[*********************100%%**********************]  1 of 1 completed\n",
      "[*********************100%%**********************]  1 of 1 completed\n",
      "[*********************100%%**********************]  1 of 1 completed\n",
      "[*********************100%%**********************]  1 of 1 completed\n",
      "Processing: 100%|██████████| 52/52 [02:58<00:00,  3.43s/expiry]\n",
      "Processing: 100%|██████████| 1/1 [02:58<00:00, 178.59s/ticker]"
     ]
    },
    {
     "name": "stdout",
     "output_type": "stream",
     "text": [
      "Error occurred for ticker : NIFTY for expiry date: 2023-12-28, Error: single positional indexer is out-of-bounds\n"
     ]
    },
    {
     "name": "stderr",
     "output_type": "stream",
     "text": [
      "\n"
     ]
    },
    {
     "data": {
      "text/plain": [
       "({'NIFTY':              Backtested Samples  Profit till Expiry  Maximum Profit  \\\n",
       "  Expiry Date                                                           \n",
       "  2023-01-12                  225              128.55          128.55   \n",
       "  2023-01-19                  252               33.05           88.60   \n",
       "  2023-01-25                  451               75.15          217.35   \n",
       "  2023-02-02                  321              -98.90           46.85   \n",
       "  2023-02-09                  256               16.05           18.25   \n",
       "  2023-02-16                  312               74.30           79.35   \n",
       "  2023-02-23                  803             -107.05           29.85   \n",
       "  2023-03-02                  380              -93.75           29.30   \n",
       "  2023-03-09                  244               19.45           23.65   \n",
       "  2023-03-16                  303              -92.60           46.90   \n",
       "  2023-03-29                  698              -11.15           11.20   \n",
       "  2023-04-06                  323               75.05           80.50   \n",
       "  2023-04-13                  223              101.80          106.70   \n",
       "  2023-04-20                  220               57.75          120.15   \n",
       "  2023-04-27                  874               10.20           31.20   \n",
       "  2023-05-04                  344               34.25           38.05   \n",
       "  2023-05-11                  247              101.95          112.50   \n",
       "  2023-05-18                  180               65.85           65.90   \n",
       "  2023-05-25                  657               29.95           42.50   \n",
       "  2023-06-01                  407               49.35           51.70   \n",
       "  2023-06-08                  341               93.85           98.85   \n",
       "  2023-06-15                  383               76.45           87.55   \n",
       "  2023-06-22                  404               60.05           65.30   \n",
       "  2023-06-29                  678              110.10          118.20   \n",
       "  2023-07-06                  195              104.25          108.30   \n",
       "  2023-07-13                  239              113.00          131.70   \n",
       "  2023-07-20                  364               32.05           46.80   \n",
       "  2023-07-27                  444              -20.95           85.95   \n",
       "  2023-08-03                  354               -2.15            7.25   \n",
       "  2023-08-10                  274                8.20           32.35   \n",
       "  2023-08-17                  294              -22.15           10.30   \n",
       "  2023-08-24                  250                0.20          103.25   \n",
       "  2023-08-31                  964              -21.20           11.00   \n",
       "  2023-09-07                  385                0.75           18.00   \n",
       "  2023-09-14                  256              106.10          108.80   \n",
       "  2023-09-21                  151               54.55          119.65   \n",
       "  2023-09-28                  957                8.70           16.65   \n",
       "  2023-10-05                  307               35.95           50.85   \n",
       "  2023-10-12                  309               36.00           38.45   \n",
       "  2023-10-19                  358               46.85           70.60   \n",
       "  2023-10-26                  956               12.00           56.00   \n",
       "  2023-11-02                  179                1.05           21.45   \n",
       "  2023-11-09                  303                6.15           46.60   \n",
       "  2023-11-16                  302               70.10           72.55   \n",
       "  2023-11-23                  312               16.20          100.80   \n",
       "  2023-11-30                  783                0.60           62.30   \n",
       "  2023-12-07                  302              -30.85           18.45   \n",
       "  2023-12-14                  229               71.90          122.30   \n",
       "  2023-12-21                  315              228.15          229.15   \n",
       "  \n",
       "               Duration % at Max Profit Market Trend  \n",
       "  Expiry Date                                         \n",
       "  2023-01-12                    100.000     Sideways  \n",
       "  2023-01-19                     76.984     Sideways  \n",
       "  2023-01-25                     90.244     Sideways  \n",
       "  2023-02-02                     28.349     Sideways  \n",
       "  2023-02-09                     89.453     Sideways  \n",
       "  2023-02-16                     90.385     Sideways  \n",
       "  2023-02-23                     81.445     Sideways  \n",
       "  2023-03-02                     31.579     Sideways  \n",
       "  2023-03-09                     82.377     Sideways  \n",
       "  2023-03-16                     36.964      Bearish  \n",
       "  2023-03-29                      0.573     Sideways  \n",
       "  2023-04-06                     84.520      Bullish  \n",
       "  2023-04-13                     77.578     Sideways  \n",
       "  2023-04-20                     54.545     Sideways  \n",
       "  2023-04-27                      1.030     Sideways  \n",
       "  2023-05-04                     90.988     Sideways  \n",
       "  2023-05-11                     99.190      Bullish  \n",
       "  2023-05-18                     99.444     Sideways  \n",
       "  2023-05-25                     99.087     Sideways  \n",
       "  2023-06-01                     91.646     Sideways  \n",
       "  2023-06-08                     85.337     Sideways  \n",
       "  2023-06-15                     99.478     Sideways  \n",
       "  2023-06-22                     99.010     Sideways  \n",
       "  2023-06-29                     98.820     Sideways  \n",
       "  2023-07-06                     85.641     Sideways  \n",
       "  2023-07-13                     98.326     Sideways  \n",
       "  2023-07-20                     65.659     Sideways  \n",
       "  2023-07-27                     70.946     Sideways  \n",
       "  2023-08-03                     48.588     Sideways  \n",
       "  2023-08-10                     46.350     Sideways  \n",
       "  2023-08-17                     38.095     Sideways  \n",
       "  2023-08-24                     82.000     Sideways  \n",
       "  2023-08-31                     30.187     Sideways  \n",
       "  2023-09-07                     30.909     Sideways  \n",
       "  2023-09-14                     91.797     Sideways  \n",
       "  2023-09-21                     54.305     Sideways  \n",
       "  2023-09-28                     69.070     Sideways  \n",
       "  2023-10-05                     28.013     Sideways  \n",
       "  2023-10-12                     87.379     Sideways  \n",
       "  2023-10-19                     72.626     Sideways  \n",
       "  2023-10-26                     25.837     Sideways  \n",
       "  2023-11-02                     36.872     Sideways  \n",
       "  2023-11-09                     57.096     Sideways  \n",
       "  2023-11-16                     80.464     Sideways  \n",
       "  2023-11-23                     93.910     Sideways  \n",
       "  2023-11-30                     97.318     Sideways  \n",
       "  2023-12-07                     22.185     Sideways  \n",
       "  2023-12-14                     89.083     Sideways  \n",
       "  2023-12-21                     99.365      Bullish  },\n",
       " {'NIFTY':        Mean Profit  Std Profit  Risk Adjusted Profit  Mean Max Profit\n",
       "  NIFTY    33.982653   62.808584              0.541051        69.968367},\n",
       " {'NIFTY':                      2023-01-12  2023-01-19  2023-01-25  2023-02-02  \\\n",
       "  Datetime                                                              \n",
       "  2023-01-02 09:15:00        0.00         NaN        0.00         NaN   \n",
       "  2023-01-02 09:30:00        3.35         NaN        8.65         NaN   \n",
       "  2023-01-02 09:45:00        3.25         NaN       14.70         NaN   \n",
       "  2023-01-02 10:00:00        3.75         NaN       12.10         NaN   \n",
       "  2023-01-02 10:15:00        5.55         NaN       12.60         NaN   \n",
       "  ...                         ...         ...         ...         ...   \n",
       "  2023-12-21 14:30:00         NaN         NaN         NaN         NaN   \n",
       "  2023-12-21 14:45:00         NaN         NaN         NaN         NaN   \n",
       "  2023-12-21 15:00:00         NaN         NaN         NaN         NaN   \n",
       "  2023-12-21 15:15:00         NaN         NaN         NaN         NaN   \n",
       "  2023-12-21 15:30:00         NaN         NaN         NaN         NaN   \n",
       "  \n",
       "                       2023-02-09  2023-02-16  2023-02-23  2023-03-02  \\\n",
       "  Datetime                                                              \n",
       "  2023-01-02 09:15:00         NaN         NaN         NaN         NaN   \n",
       "  2023-01-02 09:30:00         NaN         NaN         NaN         NaN   \n",
       "  2023-01-02 09:45:00         NaN         NaN         0.0         NaN   \n",
       "  2023-01-02 10:00:00         NaN         NaN         NaN         NaN   \n",
       "  2023-01-02 10:15:00         NaN         NaN         NaN         NaN   \n",
       "  ...                         ...         ...         ...         ...   \n",
       "  2023-12-21 14:30:00         NaN         NaN         NaN         NaN   \n",
       "  2023-12-21 14:45:00         NaN         NaN         NaN         NaN   \n",
       "  2023-12-21 15:00:00         NaN         NaN         NaN         NaN   \n",
       "  2023-12-21 15:15:00         NaN         NaN         NaN         NaN   \n",
       "  2023-12-21 15:30:00         NaN         NaN         NaN         NaN   \n",
       "  \n",
       "                       2023-03-09  2023-03-16  ...  2023-10-19  2023-10-26  \\\n",
       "  Datetime                                     ...                           \n",
       "  2023-01-02 09:15:00         NaN         NaN  ...         NaN         NaN   \n",
       "  2023-01-02 09:30:00         NaN         NaN  ...         NaN         NaN   \n",
       "  2023-01-02 09:45:00         NaN         NaN  ...         NaN         NaN   \n",
       "  2023-01-02 10:00:00         NaN         NaN  ...         NaN         NaN   \n",
       "  2023-01-02 10:15:00         NaN         NaN  ...         NaN         NaN   \n",
       "  ...                         ...         ...  ...         ...         ...   \n",
       "  2023-12-21 14:30:00         NaN         NaN  ...         NaN         NaN   \n",
       "  2023-12-21 14:45:00         NaN         NaN  ...         NaN         NaN   \n",
       "  2023-12-21 15:00:00         NaN         NaN  ...         NaN         NaN   \n",
       "  2023-12-21 15:15:00         NaN         NaN  ...         NaN         NaN   \n",
       "  2023-12-21 15:30:00         NaN         NaN  ...         NaN         NaN   \n",
       "  \n",
       "                       2023-11-02  2023-11-09  2023-11-16  2023-11-23  \\\n",
       "  Datetime                                                              \n",
       "  2023-01-02 09:15:00         NaN         NaN         NaN         NaN   \n",
       "  2023-01-02 09:30:00         NaN         NaN         NaN         NaN   \n",
       "  2023-01-02 09:45:00         NaN         NaN         NaN         NaN   \n",
       "  2023-01-02 10:00:00         NaN         NaN         NaN         NaN   \n",
       "  2023-01-02 10:15:00         NaN         NaN         NaN         NaN   \n",
       "  ...                         ...         ...         ...         ...   \n",
       "  2023-12-21 14:30:00         NaN         NaN         NaN         NaN   \n",
       "  2023-12-21 14:45:00         NaN         NaN         NaN         NaN   \n",
       "  2023-12-21 15:00:00         NaN         NaN         NaN         NaN   \n",
       "  2023-12-21 15:15:00         NaN         NaN         NaN         NaN   \n",
       "  2023-12-21 15:30:00         NaN         NaN         NaN         NaN   \n",
       "  \n",
       "                       2023-11-30  2023-12-07  2023-12-14  2023-12-21  \n",
       "  Datetime                                                             \n",
       "  2023-01-02 09:15:00         NaN         NaN         NaN         NaN  \n",
       "  2023-01-02 09:30:00         NaN         NaN         NaN         NaN  \n",
       "  2023-01-02 09:45:00         NaN         NaN         NaN         NaN  \n",
       "  2023-01-02 10:00:00         NaN         NaN         NaN         NaN  \n",
       "  2023-01-02 10:15:00         NaN         NaN         NaN         NaN  \n",
       "  ...                         ...         ...         ...         ...  \n",
       "  2023-12-21 14:30:00         NaN         NaN         NaN      211.40  \n",
       "  2023-12-21 14:45:00         NaN         NaN         NaN      224.00  \n",
       "  2023-12-21 15:00:00         NaN         NaN         NaN      229.15  \n",
       "  2023-12-21 15:15:00         NaN         NaN         NaN      228.15  \n",
       "  2023-12-21 15:30:00         NaN         NaN         NaN      228.15  \n",
       "  \n",
       "  [5731 rows x 49 columns]})"
      ]
     },
     "execution_count": 91,
     "metadata": {},
     "output_type": "execute_result"
    }
   ],
   "source": [
    "nifty_condor_symmteric = IronCondor(tickers=['NIFTY'], root_folder_path=root_folder, lot_size=[1,1,1,1], type='Symmetric')\n",
    "nifty_condor_symmteric.calculate_iron_condor_performance()\n",
    "\n",
    "nifty_condor_asymmetric_8_offset = IronCondor(tickers=['NIFTY'], root_folder_path=root_folder, lot_size=[1,1,1,1], type='Asymmetric',strike_offset_for_long_put=8)\n",
    "nifty_condor_asymmetric_8_offset.calculate_iron_condor_performance()\n",
    "\n",
    "\n",
    "nifty_condor_asymmetric_12_offset = IronCondor(tickers=['NIFTY'], root_folder_path=root_folder, lot_size=[1,1,1,1], type='Asymmetric',strike_offset_for_long_put=12)\n",
    "nifty_condor_asymmetric_12_offset.calculate_iron_condor_performance()\n",
    "\n",
    "\n",
    "nifty_condor_asymmetric_16_offset = IronCondor(tickers=['NIFTY'], root_folder_path=root_folder, lot_size=[1,1,1,1], type='Asymmetric',strike_offset_for_long_put=16)\n",
    "nifty_condor_asymmetric_16_offset.calculate_iron_condor_performance()\n",
    "\n",
    "nifty_condor_asymmetric_20_offset = IronCondor(tickers=['NIFTY'], root_folder_path=root_folder, lot_size=[1,1,1,1], type='Asymmetric',strike_offset_for_long_put=20)\n",
    "nifty_condor_asymmetric_20_offset.calculate_iron_condor_performance()\n",
    "\n"
   ]
  },
  {
   "cell_type": "code",
   "execution_count": 98,
   "metadata": {},
   "outputs": [
    {
     "data": {
      "text/html": [
       "<div>\n",
       "<style scoped>\n",
       "    .dataframe tbody tr th:only-of-type {\n",
       "        vertical-align: middle;\n",
       "    }\n",
       "\n",
       "    .dataframe tbody tr th {\n",
       "        vertical-align: top;\n",
       "    }\n",
       "\n",
       "    .dataframe thead th {\n",
       "        text-align: right;\n",
       "    }\n",
       "</style>\n",
       "<table border=\"1\" class=\"dataframe\">\n",
       "  <thead>\n",
       "    <tr style=\"text-align: right;\">\n",
       "      <th></th>\n",
       "      <th></th>\n",
       "      <th>Backtested Samples</th>\n",
       "      <th>Profit till Expiry</th>\n",
       "      <th>Maximum Profit</th>\n",
       "      <th>Duration % at Max Profit</th>\n",
       "    </tr>\n",
       "    <tr>\n",
       "      <th></th>\n",
       "      <th>Market Trend</th>\n",
       "      <th></th>\n",
       "      <th></th>\n",
       "      <th></th>\n",
       "      <th></th>\n",
       "    </tr>\n",
       "  </thead>\n",
       "  <tbody>\n",
       "    <tr>\n",
       "      <th rowspan=\"3\" valign=\"top\">symmetric</th>\n",
       "      <th>Bearish</th>\n",
       "      <td>332.00</td>\n",
       "      <td>24.65</td>\n",
       "      <td>61.20</td>\n",
       "      <td>12.35</td>\n",
       "    </tr>\n",
       "    <tr>\n",
       "      <th>Bullish</th>\n",
       "      <td>293.33</td>\n",
       "      <td>16.32</td>\n",
       "      <td>37.73</td>\n",
       "      <td>37.71</td>\n",
       "    </tr>\n",
       "    <tr>\n",
       "      <th>Sideways</th>\n",
       "      <td>419.38</td>\n",
       "      <td>-1.52</td>\n",
       "      <td>27.76</td>\n",
       "      <td>32.59</td>\n",
       "    </tr>\n",
       "    <tr>\n",
       "      <th rowspan=\"3\" valign=\"top\">asymmetric_8_offset</th>\n",
       "      <th>Bearish</th>\n",
       "      <td>332.00</td>\n",
       "      <td>24.65</td>\n",
       "      <td>61.20</td>\n",
       "      <td>12.35</td>\n",
       "    </tr>\n",
       "    <tr>\n",
       "      <th>Bullish</th>\n",
       "      <td>294.33</td>\n",
       "      <td>27.73</td>\n",
       "      <td>49.17</td>\n",
       "      <td>37.60</td>\n",
       "    </tr>\n",
       "    <tr>\n",
       "      <th>Sideways</th>\n",
       "      <td>419.20</td>\n",
       "      <td>1.42</td>\n",
       "      <td>33.68</td>\n",
       "      <td>34.36</td>\n",
       "    </tr>\n",
       "    <tr>\n",
       "      <th rowspan=\"3\" valign=\"top\">asymmetric_12_offset</th>\n",
       "      <th>Bearish</th>\n",
       "      <td>317.00</td>\n",
       "      <td>-13.90</td>\n",
       "      <td>70.90</td>\n",
       "      <td>0.95</td>\n",
       "    </tr>\n",
       "    <tr>\n",
       "      <th>Bullish</th>\n",
       "      <td>295.33</td>\n",
       "      <td>65.72</td>\n",
       "      <td>79.25</td>\n",
       "      <td>66.39</td>\n",
       "    </tr>\n",
       "    <tr>\n",
       "      <th>Sideways</th>\n",
       "      <td>417.76</td>\n",
       "      <td>13.66</td>\n",
       "      <td>43.93</td>\n",
       "      <td>54.17</td>\n",
       "    </tr>\n",
       "    <tr>\n",
       "      <th rowspan=\"3\" valign=\"top\">asymmetric_16_offset</th>\n",
       "      <th>Bearish</th>\n",
       "      <td>332.00</td>\n",
       "      <td>-48.25</td>\n",
       "      <td>46.10</td>\n",
       "      <td>42.47</td>\n",
       "    </tr>\n",
       "    <tr>\n",
       "      <th>Bullish</th>\n",
       "      <td>296.67</td>\n",
       "      <td>98.42</td>\n",
       "      <td>107.12</td>\n",
       "      <td>66.59</td>\n",
       "    </tr>\n",
       "    <tr>\n",
       "      <th>Sideways</th>\n",
       "      <td>411.80</td>\n",
       "      <td>21.59</td>\n",
       "      <td>52.06</td>\n",
       "      <td>64.61</td>\n",
       "    </tr>\n",
       "    <tr>\n",
       "      <th rowspan=\"3\" valign=\"top\">asymmetric_20_offset</th>\n",
       "      <th>Bearish</th>\n",
       "      <td>303.00</td>\n",
       "      <td>-92.60</td>\n",
       "      <td>46.90</td>\n",
       "      <td>36.96</td>\n",
       "    </tr>\n",
       "    <tr>\n",
       "      <th>Bullish</th>\n",
       "      <td>295.00</td>\n",
       "      <td>135.05</td>\n",
       "      <td>140.72</td>\n",
       "      <td>94.36</td>\n",
       "    </tr>\n",
       "    <tr>\n",
       "      <th>Sideways</th>\n",
       "      <td>402.67</td>\n",
       "      <td>30.06</td>\n",
       "      <td>65.76</td>\n",
       "      <td>68.24</td>\n",
       "    </tr>\n",
       "  </tbody>\n",
       "</table>\n",
       "</div>"
      ],
      "text/plain": [
       "                                   Backtested Samples  Profit till Expiry  \\\n",
       "                     Market Trend                                           \n",
       "symmetric            Bearish                   332.00               24.65   \n",
       "                     Bullish                   293.33               16.32   \n",
       "                     Sideways                  419.38               -1.52   \n",
       "asymmetric_8_offset  Bearish                   332.00               24.65   \n",
       "                     Bullish                   294.33               27.73   \n",
       "                     Sideways                  419.20                1.42   \n",
       "asymmetric_12_offset Bearish                   317.00              -13.90   \n",
       "                     Bullish                   295.33               65.72   \n",
       "                     Sideways                  417.76               13.66   \n",
       "asymmetric_16_offset Bearish                   332.00              -48.25   \n",
       "                     Bullish                   296.67               98.42   \n",
       "                     Sideways                  411.80               21.59   \n",
       "asymmetric_20_offset Bearish                   303.00              -92.60   \n",
       "                     Bullish                   295.00              135.05   \n",
       "                     Sideways                  402.67               30.06   \n",
       "\n",
       "                                   Maximum Profit  Duration % at Max Profit  \n",
       "                     Market Trend                                            \n",
       "symmetric            Bearish                61.20                     12.35  \n",
       "                     Bullish                37.73                     37.71  \n",
       "                     Sideways               27.76                     32.59  \n",
       "asymmetric_8_offset  Bearish                61.20                     12.35  \n",
       "                     Bullish                49.17                     37.60  \n",
       "                     Sideways               33.68                     34.36  \n",
       "asymmetric_12_offset Bearish                70.90                      0.95  \n",
       "                     Bullish                79.25                     66.39  \n",
       "                     Sideways               43.93                     54.17  \n",
       "asymmetric_16_offset Bearish                46.10                     42.47  \n",
       "                     Bullish               107.12                     66.59  \n",
       "                     Sideways               52.06                     64.61  \n",
       "asymmetric_20_offset Bearish                46.90                     36.96  \n",
       "                     Bullish               140.72                     94.36  \n",
       "                     Sideways               65.76                     68.24  "
      ]
     },
     "execution_count": 98,
     "metadata": {},
     "output_type": "execute_result"
    }
   ],
   "source": [
    "dfs = [\n",
    "    np.round(nifty_condor_symmteric.overall_performance['NIFTY'].groupby('Market Trend').mean(), 2),\n",
    "    np.round(nifty_condor_asymmetric_8_offset.overall_performance['NIFTY'].groupby('Market Trend').mean(), 2),\n",
    "    np.round(nifty_condor_asymmetric_12_offset.overall_performance['NIFTY'].groupby('Market Trend').mean(), 2),\n",
    "    np.round(nifty_condor_asymmetric_16_offset.overall_performance['NIFTY'].groupby('Market Trend').mean(), 2),\n",
    "    np.round(nifty_condor_asymmetric_20_offset.overall_performance['NIFTY'].groupby('Market Trend').mean(), 2)\n",
    "]\n",
    "\n",
    "names = ['symmetric', 'asymmetric_8_offset', 'asymmetric_12_offset', 'asymmetric_16_offset', 'asymmetric_20_offset']\n",
    "\n",
    "concatenated_dfs = pd.concat([df.rename(columns={'Value': name}) for df, name in zip(dfs, names)], keys=names)\n",
    "concatenated_dfs\n"
   ]
  },
  {
   "cell_type": "code",
   "execution_count": 104,
   "metadata": {},
   "outputs": [
    {
     "data": {
      "text/html": [
       "<div>\n",
       "<style scoped>\n",
       "    .dataframe tbody tr th:only-of-type {\n",
       "        vertical-align: middle;\n",
       "    }\n",
       "\n",
       "    .dataframe tbody tr th {\n",
       "        vertical-align: top;\n",
       "    }\n",
       "\n",
       "    .dataframe thead th {\n",
       "        text-align: right;\n",
       "    }\n",
       "</style>\n",
       "<table border=\"1\" class=\"dataframe\">\n",
       "  <thead>\n",
       "    <tr style=\"text-align: right;\">\n",
       "      <th></th>\n",
       "      <th></th>\n",
       "      <th>Mean Profit</th>\n",
       "      <th>Std Profit</th>\n",
       "      <th>Risk Adjusted Profit</th>\n",
       "      <th>Mean Max Profit</th>\n",
       "    </tr>\n",
       "  </thead>\n",
       "  <tbody>\n",
       "    <tr>\n",
       "      <th>symmetric</th>\n",
       "      <th>NIFTY</th>\n",
       "      <td>0.102</td>\n",
       "      <td>25.592</td>\n",
       "      <td>0.004</td>\n",
       "      <td>29.050</td>\n",
       "    </tr>\n",
       "    <tr>\n",
       "      <th>asymmetric_8_offset</th>\n",
       "      <th>NIFTY</th>\n",
       "      <td>3.509</td>\n",
       "      <td>28.414</td>\n",
       "      <td>0.124</td>\n",
       "      <td>35.186</td>\n",
       "    </tr>\n",
       "    <tr>\n",
       "      <th>asymmetric_12_offset</th>\n",
       "      <th>NIFTY</th>\n",
       "      <td>16.288</td>\n",
       "      <td>34.863</td>\n",
       "      <td>0.467</td>\n",
       "      <td>46.641</td>\n",
       "    </tr>\n",
       "    <tr>\n",
       "      <th>asymmetric_16_offset</th>\n",
       "      <th>NIFTY</th>\n",
       "      <td>24.866</td>\n",
       "      <td>47.228</td>\n",
       "      <td>0.527</td>\n",
       "      <td>55.311</td>\n",
       "    </tr>\n",
       "    <tr>\n",
       "      <th>asymmetric_20_offset</th>\n",
       "      <th>NIFTY</th>\n",
       "      <td>33.983</td>\n",
       "      <td>62.809</td>\n",
       "      <td>0.541</td>\n",
       "      <td>69.968</td>\n",
       "    </tr>\n",
       "  </tbody>\n",
       "</table>\n",
       "</div>"
      ],
      "text/plain": [
       "                            Mean Profit  Std Profit  Risk Adjusted Profit  \\\n",
       "symmetric            NIFTY        0.102      25.592                 0.004   \n",
       "asymmetric_8_offset  NIFTY        3.509      28.414                 0.124   \n",
       "asymmetric_12_offset NIFTY       16.288      34.863                 0.467   \n",
       "asymmetric_16_offset NIFTY       24.866      47.228                 0.527   \n",
       "asymmetric_20_offset NIFTY       33.983      62.809                 0.541   \n",
       "\n",
       "                            Mean Max Profit  \n",
       "symmetric            NIFTY           29.050  \n",
       "asymmetric_8_offset  NIFTY           35.186  \n",
       "asymmetric_12_offset NIFTY           46.641  \n",
       "asymmetric_16_offset NIFTY           55.311  \n",
       "asymmetric_20_offset NIFTY           69.968  "
      ]
     },
     "execution_count": 104,
     "metadata": {},
     "output_type": "execute_result"
    }
   ],
   "source": [
    "dfs = [\n",
    "    np.round(nifty_condor_symmteric.statistical_performance['NIFTY'], 3),\n",
    "    np.round(nifty_condor_asymmetric_8_offset.statistical_performance['NIFTY'], 3),\n",
    "    np.round(nifty_condor_asymmetric_12_offset.statistical_performance['NIFTY'], 3),\n",
    "    np.round(nifty_condor_asymmetric_16_offset.statistical_performance['NIFTY'], 3),\n",
    "    np.round(nifty_condor_asymmetric_20_offset.statistical_performance['NIFTY'], 3)\n",
    "]\n",
    "\n",
    "names = ['symmetric', 'asymmetric_8_offset', 'asymmetric_12_offset', 'asymmetric_16_offset', 'asymmetric_20_offset']\n",
    "\n",
    "concatenated_dfs = pd.concat([df.rename(columns={'Value': name}) for df, name in zip(dfs, names)], keys=names)\n",
    "concatenated_dfs\n"
   ]
  },
  {
   "cell_type": "code",
   "execution_count": 93,
   "metadata": {},
   "outputs": [
    {
     "data": {
      "text/plain": [
       "<matplotlib.legend.Legend at 0x2002ce45190>"
      ]
     },
     "execution_count": 93,
     "metadata": {},
     "output_type": "execute_result"
    },
    {
     "data": {
      "image/png": "[encoded data removed]",
      "text/plain": [
       "<Figure size 2000x1000 with 1 Axes>"
      ]
     },
     "metadata": {},
     "output_type": "display_data"
    }
   ],
   "source": [
    "# Price of Iron Condor\n",
    "nifty_condor_asymmetric_8_offset.premium_data['Price of Iron Condor'].plot(figsize=(20,10),label='8_offset')\n",
    "nifty_condor_asymmetric_12_offset.premium_data['Price of Iron Condor'].plot(figsize=(20,10),label='12_offset')\n",
    "nifty_condor_asymmetric_16_offset.premium_data['Price of Iron Condor'].plot(figsize=(20,10),label='16_offset')\n",
    "nifty_condor_asymmetric_20_offset.premium_data['Price of Iron Condor'].plot(figsize=(20,10),label='20_offset')\n",
    "\n",
    "plt.legend()\n"
   ]
  },
  {
   "cell_type": "markdown",
   "metadata": {},
   "source": [
    "### Comparison of Greeks for IC with different Lot Size of Long Put\n",
    "- Symmetric Iron Condor\n",
    "- Asymmetric Iron Condor with Extra Long Put with lot size =1 \n",
    "- Asymmetric Iron Condor with Exta Long Put with lot size = 2 \n",
    "- Asymmetric Iron Condor with Exta Long Put with lot size = 4 \n",
    "- Asymmetric Iron Condor with Exta Long Put with lot size = 8\n",
    "\n"
   ]
  },
  {
   "cell_type": "code",
   "execution_count": 106,
   "metadata": {},
   "outputs": [
    {
     "name": "stderr",
     "output_type": "stream",
     "text": [
      "Processing:   0%|          | 0/1 [00:00<?, ?ticker/s]"
     ]
    },
    {
     "name": "stdout",
     "output_type": "stream",
     "text": [
      "\n",
      " Start Building Symmteric Iron Condor Performance Charts for NIFTY\n",
      " \n"
     ]
    },
    {
     "name": "stderr",
     "output_type": "stream",
     "text": [
      "[*********************100%%**********************]  1 of 1 completed\n",
      "[*********************100%%**********************]  1 of 1 completed"
     ]
    },
    {
     "name": "stdout",
     "output_type": "stream",
     "text": [
      "Error occurred for ticker : NIFTY for expiry date: 2023-01-05, Error: single positional indexer is out-of-bounds\n"
     ]
    },
    {
     "name": "stderr",
     "output_type": "stream",
     "text": [
      "\n",
      "[*********************100%%**********************]  1 of 1 completed\n",
      "[*********************100%%**********************]  1 of 1 completed\n",
      "[*********************100%%**********************]  1 of 1 completed\n",
      "[*********************100%%**********************]  1 of 1 completed\n",
      "[*********************100%%**********************]  1 of 1 completed\n",
      "[*********************100%%**********************]  1 of 1 completed\n",
      "[*********************100%%**********************]  1 of 1 completed\n",
      "[*********************100%%**********************]  1 of 1 completed\n",
      "[*********************100%%**********************]  1 of 1 completed\n",
      "[*********************100%%**********************]  1 of 1 completed\n",
      "[*********************100%%**********************]  1 of 1 completed"
     ]
    },
    {
     "name": "stdout",
     "output_type": "stream",
     "text": [
      "Error occurred for ticker : NIFTY for expiry date: 2023-03-23, Error: -3\n"
     ]
    },
    {
     "name": "stderr",
     "output_type": "stream",
     "text": [
      "\n",
      "[*********************100%%**********************]  1 of 1 completed\n",
      "[*********************100%%**********************]  1 of 1 completed\n",
      "[*********************100%%**********************]  1 of 1 completed\n",
      "[*********************100%%**********************]  1 of 1 completed\n",
      "[*********************100%%**********************]  1 of 1 completed\n",
      "[*********************100%%**********************]  1 of 1 completed\n",
      "[*********************100%%**********************]  1 of 1 completed\n",
      "[*********************100%%**********************]  1 of 1 completed\n",
      "[*********************100%%**********************]  1 of 1 completed\n",
      "[*********************100%%**********************]  1 of 1 completed\n",
      "[*********************100%%**********************]  1 of 1 completed\n",
      "[*********************100%%**********************]  1 of 1 completed\n",
      "[*********************100%%**********************]  1 of 1 completed\n",
      "[*********************100%%**********************]  1 of 1 completed\n",
      "[*********************100%%**********************]  1 of 1 completed\n",
      "[*********************100%%**********************]  1 of 1 completed\n",
      "[*********************100%%**********************]  1 of 1 completed\n",
      "[*********************100%%**********************]  1 of 1 completed\n",
      "[*********************100%%**********************]  1 of 1 completed\n",
      "[*********************100%%**********************]  1 of 1 completed\n",
      "[*********************100%%**********************]  1 of 1 completed\n",
      "[*********************100%%**********************]  1 of 1 completed\n",
      "[*********************100%%**********************]  1 of 1 completed\n",
      "[*********************100%%**********************]  1 of 1 completed\n",
      "[*********************100%%**********************]  1 of 1 completed\n",
      "[*********************100%%**********************]  1 of 1 completed\n",
      "[*********************100%%**********************]  1 of 1 completed\n",
      "[*********************100%%**********************]  1 of 1 completed\n",
      "[*********************100%%**********************]  1 of 1 completed\n",
      "[*********************100%%**********************]  1 of 1 completed\n",
      "[*********************100%%**********************]  1 of 1 completed\n",
      "[*********************100%%**********************]  1 of 1 completed\n",
      "[*********************100%%**********************]  1 of 1 completed\n",
      "[*********************100%%**********************]  1 of 1 completed\n",
      "[*********************100%%**********************]  1 of 1 completed\n",
      "[*********************100%%**********************]  1 of 1 completed\n",
      "[*********************100%%**********************]  1 of 1 completed\n",
      "[*********************100%%**********************]  1 of 1 completed\n",
      "[*********************100%%**********************]  1 of 1 completed\n",
      "Processing: 100%|██████████| 52/52 [02:57<00:00,  3.42s/expiry]\n",
      "Processing: 100%|██████████| 1/1 [02:57<00:00, 177.73s/ticker]"
     ]
    },
    {
     "name": "stdout",
     "output_type": "stream",
     "text": [
      "Error occurred for ticker : NIFTY for expiry date: 2023-12-28, Error: single positional indexer is out-of-bounds\n"
     ]
    },
    {
     "name": "stderr",
     "output_type": "stream",
     "text": [
      "\n",
      "Processing:   0%|          | 0/1 [00:00<?, ?ticker/s]"
     ]
    },
    {
     "name": "stdout",
     "output_type": "stream",
     "text": [
      "\n",
      " Start Building Symmteric Iron Condor Performance Charts for NIFTY\n",
      " \n"
     ]
    },
    {
     "name": "stderr",
     "output_type": "stream",
     "text": [
      "[*********************100%%**********************]  1 of 1 completed\n",
      "[*********************100%%**********************]  1 of 1 completed"
     ]
    },
    {
     "name": "stdout",
     "output_type": "stream",
     "text": [
      "Error occurred for ticker : NIFTY for expiry date: 2023-01-05, Error: single positional indexer is out-of-bounds\n"
     ]
    },
    {
     "name": "stderr",
     "output_type": "stream",
     "text": [
      "\n",
      "[*********************100%%**********************]  1 of 1 completed\n",
      "[*********************100%%**********************]  1 of 1 completed\n",
      "[*********************100%%**********************]  1 of 1 completed\n",
      "[*********************100%%**********************]  1 of 1 completed\n",
      "[*********************100%%**********************]  1 of 1 completed\n",
      "[*********************100%%**********************]  1 of 1 completed\n",
      "[*********************100%%**********************]  1 of 1 completed\n",
      "[*********************100%%**********************]  1 of 1 completed\n",
      "[*********************100%%**********************]  1 of 1 completed\n",
      "[*********************100%%**********************]  1 of 1 completed\n",
      "[*********************100%%**********************]  1 of 1 completed"
     ]
    },
    {
     "name": "stdout",
     "output_type": "stream",
     "text": [
      "Error occurred for ticker : NIFTY for expiry date: 2023-03-23, Error: -3\n"
     ]
    },
    {
     "name": "stderr",
     "output_type": "stream",
     "text": [
      "\n",
      "[*********************100%%**********************]  1 of 1 completed\n",
      "[*********************100%%**********************]  1 of 1 completed\n",
      "[*********************100%%**********************]  1 of 1 completed\n",
      "[*********************100%%**********************]  1 of 1 completed\n",
      "[*********************100%%**********************]  1 of 1 completed\n",
      "[*********************100%%**********************]  1 of 1 completed\n",
      "[*********************100%%**********************]  1 of 1 completed\n",
      "[*********************100%%**********************]  1 of 1 completed\n",
      "[*********************100%%**********************]  1 of 1 completed\n",
      "[*********************100%%**********************]  1 of 1 completed\n",
      "[*********************100%%**********************]  1 of 1 completed\n",
      "[*********************100%%**********************]  1 of 1 completed\n",
      "[*********************100%%**********************]  1 of 1 completed\n",
      "[*********************100%%**********************]  1 of 1 completed\n",
      "[*********************100%%**********************]  1 of 1 completed\n",
      "[*********************100%%**********************]  1 of 1 completed\n",
      "[*********************100%%**********************]  1 of 1 completed\n",
      "[*********************100%%**********************]  1 of 1 completed\n",
      "[*********************100%%**********************]  1 of 1 completed\n",
      "[*********************100%%**********************]  1 of 1 completed\n",
      "[*********************100%%**********************]  1 of 1 completed\n",
      "[*********************100%%**********************]  1 of 1 completed\n",
      "[*********************100%%**********************]  1 of 1 completed\n",
      "[*********************100%%**********************]  1 of 1 completed\n",
      "[*********************100%%**********************]  1 of 1 completed\n",
      "[*********************100%%**********************]  1 of 1 completed\n",
      "[*********************100%%**********************]  1 of 1 completed\n",
      "[*********************100%%**********************]  1 of 1 completed\n",
      "[*********************100%%**********************]  1 of 1 completed\n",
      "[*********************100%%**********************]  1 of 1 completed\n",
      "[*********************100%%**********************]  1 of 1 completed\n",
      "[*********************100%%**********************]  1 of 1 completed\n",
      "[*********************100%%**********************]  1 of 1 completed\n",
      "[*********************100%%**********************]  1 of 1 completed\n",
      "[*********************100%%**********************]  1 of 1 completed\n",
      "[*********************100%%**********************]  1 of 1 completed\n",
      "[*********************100%%**********************]  1 of 1 completed\n",
      "[*********************100%%**********************]  1 of 1 completed\n",
      "[*********************100%%**********************]  1 of 1 completed\n",
      "Processing: 100%|██████████| 52/52 [02:59<00:00,  3.46s/expiry]\n",
      "Processing: 100%|██████████| 1/1 [02:59<00:00, 179.83s/ticker]"
     ]
    },
    {
     "name": "stdout",
     "output_type": "stream",
     "text": [
      "Error occurred for ticker : NIFTY for expiry date: 2023-12-28, Error: single positional indexer is out-of-bounds\n"
     ]
    },
    {
     "name": "stderr",
     "output_type": "stream",
     "text": [
      "\n",
      "Processing:   0%|          | 0/1 [00:00<?, ?ticker/s]"
     ]
    },
    {
     "name": "stdout",
     "output_type": "stream",
     "text": [
      "\n",
      " Start Building Symmteric Iron Condor Performance Charts for NIFTY\n",
      " \n"
     ]
    },
    {
     "name": "stderr",
     "output_type": "stream",
     "text": [
      "[*********************100%%**********************]  1 of 1 completed\n",
      "[*********************100%%**********************]  1 of 1 completed"
     ]
    },
    {
     "name": "stdout",
     "output_type": "stream",
     "text": [
      "Error occurred for ticker : NIFTY for expiry date: 2023-01-05, Error: single positional indexer is out-of-bounds\n"
     ]
    },
    {
     "name": "stderr",
     "output_type": "stream",
     "text": [
      "\n",
      "[*********************100%%**********************]  1 of 1 completed\n",
      "[*********************100%%**********************]  1 of 1 completed\n",
      "[*********************100%%**********************]  1 of 1 completed\n",
      "[*********************100%%**********************]  1 of 1 completed\n",
      "[*********************100%%**********************]  1 of 1 completed\n",
      "[*********************100%%**********************]  1 of 1 completed\n",
      "[*********************100%%**********************]  1 of 1 completed\n",
      "[*********************100%%**********************]  1 of 1 completed\n",
      "[*********************100%%**********************]  1 of 1 completed\n",
      "[*********************100%%**********************]  1 of 1 completed\n",
      "[*********************100%%**********************]  1 of 1 completed"
     ]
    },
    {
     "name": "stdout",
     "output_type": "stream",
     "text": [
      "Error occurred for ticker : NIFTY for expiry date: 2023-03-23, Error: -3\n"
     ]
    },
    {
     "name": "stderr",
     "output_type": "stream",
     "text": [
      "\n",
      "[*********************100%%**********************]  1 of 1 completed\n",
      "[*********************100%%**********************]  1 of 1 completed\n",
      "[*********************100%%**********************]  1 of 1 completed\n",
      "[*********************100%%**********************]  1 of 1 completed\n",
      "[*********************100%%**********************]  1 of 1 completed\n",
      "[*********************100%%**********************]  1 of 1 completed\n",
      "[*********************100%%**********************]  1 of 1 completed\n",
      "[*********************100%%**********************]  1 of 1 completed\n",
      "[*********************100%%**********************]  1 of 1 completed\n",
      "[*********************100%%**********************]  1 of 1 completed\n",
      "[*********************100%%**********************]  1 of 1 completed\n",
      "[*********************100%%**********************]  1 of 1 completed\n",
      "[*********************100%%**********************]  1 of 1 completed\n",
      "[*********************100%%**********************]  1 of 1 completed\n",
      "[*********************100%%**********************]  1 of 1 completed\n",
      "[*********************100%%**********************]  1 of 1 completed\n",
      "[*********************100%%**********************]  1 of 1 completed\n",
      "[*********************100%%**********************]  1 of 1 completed\n",
      "[*********************100%%**********************]  1 of 1 completed\n",
      "[*********************100%%**********************]  1 of 1 completed\n",
      "[*********************100%%**********************]  1 of 1 completed\n",
      "[*********************100%%**********************]  1 of 1 completed\n",
      "[*********************100%%**********************]  1 of 1 completed\n",
      "[*********************100%%**********************]  1 of 1 completed\n",
      "[*********************100%%**********************]  1 of 1 completed\n",
      "[*********************100%%**********************]  1 of 1 completed\n",
      "[*********************100%%**********************]  1 of 1 completed\n",
      "[*********************100%%**********************]  1 of 1 completed\n",
      "[*********************100%%**********************]  1 of 1 completed\n",
      "[*********************100%%**********************]  1 of 1 completed\n",
      "[*********************100%%**********************]  1 of 1 completed\n",
      "[*********************100%%**********************]  1 of 1 completed\n",
      "[*********************100%%**********************]  1 of 1 completed\n",
      "[*********************100%%**********************]  1 of 1 completed\n",
      "[*********************100%%**********************]  1 of 1 completed\n",
      "[*********************100%%**********************]  1 of 1 completed\n",
      "[*********************100%%**********************]  1 of 1 completed\n",
      "[*********************100%%**********************]  1 of 1 completed\n",
      "[*********************100%%**********************]  1 of 1 completed\n",
      "Processing: 100%|██████████| 52/52 [03:00<00:00,  3.48s/expiry]\n",
      "Processing: 100%|██████████| 1/1 [03:00<00:00, 180.80s/ticker]"
     ]
    },
    {
     "name": "stdout",
     "output_type": "stream",
     "text": [
      "Error occurred for ticker : NIFTY for expiry date: 2023-12-28, Error: single positional indexer is out-of-bounds\n"
     ]
    },
    {
     "name": "stderr",
     "output_type": "stream",
     "text": [
      "\n",
      "Processing:   0%|          | 0/1 [00:00<?, ?ticker/s]"
     ]
    },
    {
     "name": "stdout",
     "output_type": "stream",
     "text": [
      "\n",
      " Start Building Symmteric Iron Condor Performance Charts for NIFTY\n",
      " \n"
     ]
    },
    {
     "name": "stderr",
     "output_type": "stream",
     "text": [
      "[*********************100%%**********************]  1 of 1 completed\n",
      "[*********************100%%**********************]  1 of 1 completed"
     ]
    },
    {
     "name": "stdout",
     "output_type": "stream",
     "text": [
      "Error occurred for ticker : NIFTY for expiry date: 2023-01-05, Error: single positional indexer is out-of-bounds\n"
     ]
    },
    {
     "name": "stderr",
     "output_type": "stream",
     "text": [
      "\n",
      "[*********************100%%**********************]  1 of 1 completed\n",
      "[*********************100%%**********************]  1 of 1 completed\n",
      "[*********************100%%**********************]  1 of 1 completed\n",
      "[*********************100%%**********************]  1 of 1 completed\n",
      "[*********************100%%**********************]  1 of 1 completed\n",
      "[*********************100%%**********************]  1 of 1 completed\n",
      "[*********************100%%**********************]  1 of 1 completed\n",
      "[*********************100%%**********************]  1 of 1 completed\n",
      "[*********************100%%**********************]  1 of 1 completed\n",
      "[*********************100%%**********************]  1 of 1 completed\n",
      "[*********************100%%**********************]  1 of 1 completed"
     ]
    },
    {
     "name": "stdout",
     "output_type": "stream",
     "text": [
      "Error occurred for ticker : NIFTY for expiry date: 2023-03-23, Error: -3\n"
     ]
    },
    {
     "name": "stderr",
     "output_type": "stream",
     "text": [
      "\n",
      "[*********************100%%**********************]  1 of 1 completed\n",
      "[*********************100%%**********************]  1 of 1 completed\n",
      "[*********************100%%**********************]  1 of 1 completed\n",
      "[*********************100%%**********************]  1 of 1 completed\n",
      "[*********************100%%**********************]  1 of 1 completed\n",
      "[*********************100%%**********************]  1 of 1 completed\n",
      "[*********************100%%**********************]  1 of 1 completed\n",
      "[*********************100%%**********************]  1 of 1 completed\n",
      "[*********************100%%**********************]  1 of 1 completed\n",
      "[*********************100%%**********************]  1 of 1 completed\n",
      "[*********************100%%**********************]  1 of 1 completed\n",
      "[*********************100%%**********************]  1 of 1 completed\n",
      "[*********************100%%**********************]  1 of 1 completed\n",
      "[*********************100%%**********************]  1 of 1 completed\n",
      "[*********************100%%**********************]  1 of 1 completed\n",
      "[*********************100%%**********************]  1 of 1 completed\n",
      "[*********************100%%**********************]  1 of 1 completed\n",
      "[*********************100%%**********************]  1 of 1 completed\n",
      "[*********************100%%**********************]  1 of 1 completed\n",
      "[*********************100%%**********************]  1 of 1 completed\n",
      "[*********************100%%**********************]  1 of 1 completed\n",
      "[*********************100%%**********************]  1 of 1 completed\n",
      "[*********************100%%**********************]  1 of 1 completed\n",
      "[*********************100%%**********************]  1 of 1 completed\n",
      "[*********************100%%**********************]  1 of 1 completed\n",
      "[*********************100%%**********************]  1 of 1 completed\n",
      "[*********************100%%**********************]  1 of 1 completed\n",
      "[*********************100%%**********************]  1 of 1 completed\n",
      "[*********************100%%**********************]  1 of 1 completed\n",
      "[*********************100%%**********************]  1 of 1 completed\n",
      "[*********************100%%**********************]  1 of 1 completed\n",
      "[*********************100%%**********************]  1 of 1 completed\n",
      "[*********************100%%**********************]  1 of 1 completed\n",
      "[*********************100%%**********************]  1 of 1 completed\n",
      "[*********************100%%**********************]  1 of 1 completed\n",
      "[*********************100%%**********************]  1 of 1 completed\n",
      "[*********************100%%**********************]  1 of 1 completed\n",
      "[*********************100%%**********************]  1 of 1 completed\n",
      "[*********************100%%**********************]  1 of 1 completed\n",
      "Processing: 100%|██████████| 52/52 [03:00<00:00,  3.48s/expiry]\n",
      "Processing: 100%|██████████| 1/1 [03:00<00:00, 180.93s/ticker]"
     ]
    },
    {
     "name": "stdout",
     "output_type": "stream",
     "text": [
      "Error occurred for ticker : NIFTY for expiry date: 2023-12-28, Error: single positional indexer is out-of-bounds\n"
     ]
    },
    {
     "name": "stderr",
     "output_type": "stream",
     "text": [
      "\n"
     ]
    },
    {
     "data": {
      "text/plain": [
       "({'NIFTY':              Backtested Samples  Profit till Expiry  Maximum Profit  \\\n",
       "  Expiry Date                                                           \n",
       "  2023-01-12                  228               16.45           46.60   \n",
       "  2023-01-19                  330             -102.35           60.80   \n",
       "  2023-01-25                  452             -414.85          172.90   \n",
       "  2023-02-02                  350             -112.75          431.55   \n",
       "  2023-02-09                  258             -206.55          506.35   \n",
       "  2023-02-16                  317             -532.45          749.15   \n",
       "  2023-02-23                  762              453.95          812.30   \n",
       "  2023-03-02                  378             -145.00          107.70   \n",
       "  2023-03-09                  254             -134.30          174.80   \n",
       "  2023-03-16                  332             1139.00         1482.95   \n",
       "  2023-03-29                  714             -579.05          178.80   \n",
       "  2023-04-06                  331             -467.35          423.30   \n",
       "  2023-04-13                  223            -1362.70          255.50   \n",
       "  2023-04-20                  221             -562.40            0.00   \n",
       "  2023-04-27                  874             -933.00         1116.75   \n",
       "  2023-05-04                  345             -512.85          239.40   \n",
       "  2023-05-11                  237             -931.80            0.00   \n",
       "  2023-05-18                  254               38.80           39.55   \n",
       "  2023-05-25                  657            -1333.00          223.05   \n",
       "  2023-06-01                  397             -433.80           13.30   \n",
       "  2023-06-08                  342             -596.50           92.85   \n",
       "  2023-06-15                  363             -649.40            0.00   \n",
       "  2023-06-22                  423             -506.45          129.10   \n",
       "  2023-06-29                  664            -1140.75          113.85   \n",
       "  2023-07-06                  196             -864.60          357.80   \n",
       "  2023-07-13                  241             -846.85           49.40   \n",
       "  2023-07-20                  364             -788.85            0.00   \n",
       "  2023-07-27                  496            -2154.35           94.65   \n",
       "  2023-08-03                  353               14.70          657.55   \n",
       "  2023-08-10                  283              -44.70          261.40   \n",
       "  2023-08-17                  302               87.00          485.25   \n",
       "  2023-08-24                  348             -115.90           28.95   \n",
       "  2023-08-31                 1045               77.15         1059.55   \n",
       "  2023-09-07                  340               11.40          181.65   \n",
       "  2023-09-14                  253             -984.60            6.05   \n",
       "  2023-09-21                  224               71.80          115.55   \n",
       "  2023-09-28                 1171             -518.85          690.00   \n",
       "  2023-10-05                  354             -533.55           58.95   \n",
       "  2023-10-12                  287             -291.00          222.80   \n",
       "  2023-10-19                  381             -569.50          366.75   \n",
       "  2023-10-26                  957             -823.95         1108.05   \n",
       "  2023-11-02                  180                3.75          282.15   \n",
       "  2023-11-09                  304              -26.30          456.50   \n",
       "  2023-11-16                  319             -811.50          487.30   \n",
       "  2023-11-23                  271             -356.55            3.90   \n",
       "  2023-11-30                  900            -1075.05          561.60   \n",
       "  2023-12-07                  259              197.50         1045.90   \n",
       "  2023-12-14                  230             -604.00           12.30   \n",
       "  2023-12-21                  315             -776.80          108.90   \n",
       "  \n",
       "               Duration % at Max Profit Market Trend  \n",
       "  Expiry Date                                         \n",
       "  2023-01-12                     51.754     Sideways  \n",
       "  2023-01-19                     28.485     Sideways  \n",
       "  2023-01-25                     25.885     Sideways  \n",
       "  2023-02-02                     76.857     Sideways  \n",
       "  2023-02-09                     19.380     Sideways  \n",
       "  2023-02-16                      3.785     Sideways  \n",
       "  2023-02-23                     39.895     Sideways  \n",
       "  2023-03-02                     85.185     Sideways  \n",
       "  2023-03-09                     38.583     Sideways  \n",
       "  2023-03-16                     93.072      Bearish  \n",
       "  2023-03-29                     64.566     Sideways  \n",
       "  2023-04-06                     14.502      Bullish  \n",
       "  2023-04-13                      8.072     Sideways  \n",
       "  2023-04-20                      0.452     Sideways  \n",
       "  2023-04-27                     35.812     Sideways  \n",
       "  2023-05-04                      9.565     Sideways  \n",
       "  2023-05-11                      0.422      Bullish  \n",
       "  2023-05-18                     98.031     Sideways  \n",
       "  2023-05-25                     11.111     Sideways  \n",
       "  2023-06-01                     38.035     Sideways  \n",
       "  2023-06-08                     23.684     Sideways  \n",
       "  2023-06-15                      0.275     Sideways  \n",
       "  2023-06-22                      8.511     Sideways  \n",
       "  2023-06-29                      0.301     Sideways  \n",
       "  2023-07-06                     13.265     Sideways  \n",
       "  2023-07-13                      0.830     Sideways  \n",
       "  2023-07-20                      0.275     Sideways  \n",
       "  2023-07-27                      0.403     Sideways  \n",
       "  2023-08-03                     20.113     Sideways  \n",
       "  2023-08-10                     24.028     Sideways  \n",
       "  2023-08-17                     18.874     Sideways  \n",
       "  2023-08-24                      0.862     Sideways  \n",
       "  2023-08-31                      9.665     Sideways  \n",
       "  2023-09-07                     70.294     Sideways  \n",
       "  2023-09-14                      1.581     Sideways  \n",
       "  2023-09-21                     56.696     Sideways  \n",
       "  2023-09-28                     15.884     Sideways  \n",
       "  2023-10-05                     31.638     Sideways  \n",
       "  2023-10-12                     13.937     Sideways  \n",
       "  2023-10-19                      6.299     Sideways  \n",
       "  2023-10-26                     87.879     Sideways  \n",
       "  2023-11-02                     48.889     Sideways  \n",
       "  2023-11-09                     69.737     Sideways  \n",
       "  2023-11-16                     68.025     Sideways  \n",
       "  2023-11-23                     16.605     Sideways  \n",
       "  2023-11-30                     55.000     Sideways  \n",
       "  2023-12-07                     43.243     Sideways  \n",
       "  2023-12-14                      1.739     Sideways  \n",
       "  2023-12-21                      0.635      Bullish  },\n",
       " {'NIFTY':        Mean Profit  Std Profit  Risk Adjusted Profit  Mean Max Profit\n",
       "  NIFTY   -443.52449  535.782761             -0.827807       328.029592},\n",
       " {'NIFTY':                      2023-01-12  2023-01-19  2023-01-25  2023-02-02  \\\n",
       "  Datetime                                                              \n",
       "  2023-01-02 09:15:00        0.00         0.0        0.00         NaN   \n",
       "  2023-01-02 09:30:00      -17.45         NaN      -48.70         NaN   \n",
       "  2023-01-02 09:45:00      -17.05       -16.4      -46.35         NaN   \n",
       "  2023-01-02 10:00:00      -18.65        -9.9      -53.15         NaN   \n",
       "  2023-01-02 10:15:00      -17.90         NaN      -48.55         NaN   \n",
       "  ...                         ...         ...         ...         ...   \n",
       "  2023-12-21 14:30:00         NaN         NaN         NaN         NaN   \n",
       "  2023-12-21 14:45:00         NaN         NaN         NaN         NaN   \n",
       "  2023-12-21 15:00:00         NaN         NaN         NaN         NaN   \n",
       "  2023-12-21 15:15:00         NaN         NaN         NaN         NaN   \n",
       "  2023-12-21 15:30:00         NaN         NaN         NaN         NaN   \n",
       "  \n",
       "                       2023-02-09  2023-02-16  2023-02-23  2023-03-02  \\\n",
       "  Datetime                                                              \n",
       "  2023-01-02 09:15:00         NaN         NaN         NaN         NaN   \n",
       "  2023-01-02 09:30:00         NaN         NaN         NaN         NaN   \n",
       "  2023-01-02 09:45:00         NaN         NaN         NaN         NaN   \n",
       "  2023-01-02 10:00:00         NaN         NaN         NaN         NaN   \n",
       "  2023-01-02 10:15:00         NaN         NaN         NaN         NaN   \n",
       "  ...                         ...         ...         ...         ...   \n",
       "  2023-12-21 14:30:00         NaN         NaN         NaN         NaN   \n",
       "  2023-12-21 14:45:00         NaN         NaN         NaN         NaN   \n",
       "  2023-12-21 15:00:00         NaN         NaN         NaN         NaN   \n",
       "  2023-12-21 15:15:00         NaN         NaN         NaN         NaN   \n",
       "  2023-12-21 15:30:00         NaN         NaN         NaN         NaN   \n",
       "  \n",
       "                       2023-03-09  2023-03-16  ...  2023-10-19  2023-10-26  \\\n",
       "  Datetime                                     ...                           \n",
       "  2023-01-02 09:15:00         NaN         NaN  ...         NaN         NaN   \n",
       "  2023-01-02 09:30:00         NaN         NaN  ...         NaN         NaN   \n",
       "  2023-01-02 09:45:00         NaN         NaN  ...         NaN         NaN   \n",
       "  2023-01-02 10:00:00         NaN         NaN  ...         NaN         NaN   \n",
       "  2023-01-02 10:15:00         NaN         NaN  ...         NaN         NaN   \n",
       "  ...                         ...         ...  ...         ...         ...   \n",
       "  2023-12-21 14:30:00         NaN         NaN  ...         NaN         NaN   \n",
       "  2023-12-21 14:45:00         NaN         NaN  ...         NaN         NaN   \n",
       "  2023-12-21 15:00:00         NaN         NaN  ...         NaN         NaN   \n",
       "  2023-12-21 15:15:00         NaN         NaN  ...         NaN         NaN   \n",
       "  2023-12-21 15:30:00         NaN         NaN  ...         NaN         NaN   \n",
       "  \n",
       "                       2023-11-02  2023-11-09  2023-11-16  2023-11-23  \\\n",
       "  Datetime                                                              \n",
       "  2023-01-02 09:15:00         NaN         NaN         NaN         NaN   \n",
       "  2023-01-02 09:30:00         NaN         NaN         NaN         NaN   \n",
       "  2023-01-02 09:45:00         NaN         NaN         NaN         NaN   \n",
       "  2023-01-02 10:00:00         NaN         NaN         NaN         NaN   \n",
       "  2023-01-02 10:15:00         NaN         NaN         NaN         NaN   \n",
       "  ...                         ...         ...         ...         ...   \n",
       "  2023-12-21 14:30:00         NaN         NaN         NaN         NaN   \n",
       "  2023-12-21 14:45:00         NaN         NaN         NaN         NaN   \n",
       "  2023-12-21 15:00:00         NaN         NaN         NaN         NaN   \n",
       "  2023-12-21 15:15:00         NaN         NaN         NaN         NaN   \n",
       "  2023-12-21 15:30:00         NaN         NaN         NaN         NaN   \n",
       "  \n",
       "                       2023-11-30  2023-12-07  2023-12-14  2023-12-21  \n",
       "  Datetime                                                             \n",
       "  2023-01-02 09:15:00         NaN         NaN         NaN         NaN  \n",
       "  2023-01-02 09:30:00         NaN         NaN         NaN         NaN  \n",
       "  2023-01-02 09:45:00         NaN         NaN         NaN         NaN  \n",
       "  2023-01-02 10:00:00         NaN         NaN         NaN         NaN  \n",
       "  2023-01-02 10:15:00         NaN         NaN         NaN         NaN  \n",
       "  ...                         ...         ...         ...         ...  \n",
       "  2023-12-21 14:30:00         NaN         NaN         NaN     -792.35  \n",
       "  2023-12-21 14:45:00         NaN         NaN         NaN     -778.95  \n",
       "  2023-12-21 15:00:00         NaN         NaN         NaN     -775.65  \n",
       "  2023-12-21 15:15:00         NaN         NaN         NaN     -776.80  \n",
       "  2023-12-21 15:30:00         NaN         NaN         NaN     -776.80  \n",
       "  \n",
       "  [5755 rows x 49 columns]})"
      ]
     },
     "execution_count": 106,
     "metadata": {},
     "output_type": "execute_result"
    }
   ],
   "source": [
    "nifty_condor_symmteric = IronCondor(tickers=['NIFTY'], root_folder_path=root_folder, lot_size=[1,1,1,1], type='Symmetric')\n",
    "nifty_condor_symmteric.calculate_iron_condor_performance()\n",
    "\n",
    "nifty_condor_asymmetric_1_lot = IronCondor(tickers=['NIFTY'], root_folder_path=root_folder, lot_size=[1,1,1,1], type='Asymmetric',strike_offset_for_long_put=8)\n",
    "nifty_condor_asymmetric_1_lot.calculate_iron_condor_performance()\n",
    "\n",
    "nifty_condor_asymmetric_2_lot = IronCondor(tickers=['NIFTY'], root_folder_path=root_folder, lot_size=[1,1,2,1], type='Asymmetric',strike_offset_for_long_put=8)\n",
    "nifty_condor_asymmetric_2_lot.calculate_iron_condor_performance()\n",
    "\n",
    "nifty_condor_asymmetric_4_lot = IronCondor(tickers=['NIFTY'], root_folder_path=root_folder, lot_size=[1,1,4,1], type='Asymmetric',strike_offset_for_long_put=8)\n",
    "nifty_condor_asymmetric_4_lot.calculate_iron_condor_performance()\n",
    "\n",
    "\n",
    "\n"
   ]
  },
  {
   "cell_type": "code",
   "execution_count": 115,
   "metadata": {},
   "outputs": [
    {
     "data": {
      "text/html": [
       "<div>\n",
       "<style scoped>\n",
       "    .dataframe tbody tr th:only-of-type {\n",
       "        vertical-align: middle;\n",
       "    }\n",
       "\n",
       "    .dataframe tbody tr th {\n",
       "        vertical-align: top;\n",
       "    }\n",
       "\n",
       "    .dataframe thead th {\n",
       "        text-align: right;\n",
       "    }\n",
       "</style>\n",
       "<table border=\"1\" class=\"dataframe\">\n",
       "  <thead>\n",
       "    <tr style=\"text-align: right;\">\n",
       "      <th></th>\n",
       "      <th></th>\n",
       "      <th>Backtested Samples</th>\n",
       "      <th>Profit till Expiry</th>\n",
       "      <th>Maximum Profit</th>\n",
       "      <th>Duration % at Max Profit</th>\n",
       "    </tr>\n",
       "    <tr>\n",
       "      <th></th>\n",
       "      <th>Market Trend</th>\n",
       "      <th></th>\n",
       "      <th></th>\n",
       "      <th></th>\n",
       "      <th></th>\n",
       "    </tr>\n",
       "  </thead>\n",
       "  <tbody>\n",
       "    <tr>\n",
       "      <th rowspan=\"3\" valign=\"top\">symmetric</th>\n",
       "      <th>Bearish</th>\n",
       "      <td>332.000</td>\n",
       "      <td>24.650</td>\n",
       "      <td>61.200</td>\n",
       "      <td>12.349</td>\n",
       "    </tr>\n",
       "    <tr>\n",
       "      <th>Bullish</th>\n",
       "      <td>293.333</td>\n",
       "      <td>16.317</td>\n",
       "      <td>37.733</td>\n",
       "      <td>37.708</td>\n",
       "    </tr>\n",
       "    <tr>\n",
       "      <th>Sideways</th>\n",
       "      <td>419.378</td>\n",
       "      <td>-1.524</td>\n",
       "      <td>27.757</td>\n",
       "      <td>32.590</td>\n",
       "    </tr>\n",
       "    <tr>\n",
       "      <th rowspan=\"3\" valign=\"top\">nifty_condor_asymmetric_1_lot</th>\n",
       "      <th>Bearish</th>\n",
       "      <td>332.000</td>\n",
       "      <td>24.650</td>\n",
       "      <td>61.200</td>\n",
       "      <td>12.349</td>\n",
       "    </tr>\n",
       "    <tr>\n",
       "      <th>Bullish</th>\n",
       "      <td>294.333</td>\n",
       "      <td>27.733</td>\n",
       "      <td>49.167</td>\n",
       "      <td>37.603</td>\n",
       "    </tr>\n",
       "    <tr>\n",
       "      <th>Sideways</th>\n",
       "      <td>419.200</td>\n",
       "      <td>1.424</td>\n",
       "      <td>33.676</td>\n",
       "      <td>34.361</td>\n",
       "    </tr>\n",
       "    <tr>\n",
       "      <th rowspan=\"3\" valign=\"top\">nifty_condor_asymmetric_2_lot</th>\n",
       "      <th>Bearish</th>\n",
       "      <td>332.000</td>\n",
       "      <td>396.100</td>\n",
       "      <td>508.650</td>\n",
       "      <td>93.072</td>\n",
       "    </tr>\n",
       "    <tr>\n",
       "      <th>Bullish</th>\n",
       "      <td>294.333</td>\n",
       "      <td>-223.283</td>\n",
       "      <td>74.533</td>\n",
       "      <td>5.186</td>\n",
       "    </tr>\n",
       "    <tr>\n",
       "      <th>Sideways</th>\n",
       "      <td>419.200</td>\n",
       "      <td>-152.352</td>\n",
       "      <td>112.766</td>\n",
       "      <td>33.127</td>\n",
       "    </tr>\n",
       "    <tr>\n",
       "      <th rowspan=\"3\" valign=\"top\">nifty_condor_asymmetric_4_lot</th>\n",
       "      <th>Bearish</th>\n",
       "      <td>332.000</td>\n",
       "      <td>1139.000</td>\n",
       "      <td>1482.950</td>\n",
       "      <td>93.072</td>\n",
       "    </tr>\n",
       "    <tr>\n",
       "      <th>Bullish</th>\n",
       "      <td>294.333</td>\n",
       "      <td>-725.317</td>\n",
       "      <td>177.400</td>\n",
       "      <td>5.186</td>\n",
       "    </tr>\n",
       "    <tr>\n",
       "      <th>Sideways</th>\n",
       "      <td>419.200</td>\n",
       "      <td>-459.906</td>\n",
       "      <td>312.407</td>\n",
       "      <td>29.866</td>\n",
       "    </tr>\n",
       "  </tbody>\n",
       "</table>\n",
       "</div>"
      ],
      "text/plain": [
       "                                            Backtested Samples  \\\n",
       "                              Market Trend                       \n",
       "symmetric                     Bearish                  332.000   \n",
       "                              Bullish                  293.333   \n",
       "                              Sideways                 419.378   \n",
       "nifty_condor_asymmetric_1_lot Bearish                  332.000   \n",
       "                              Bullish                  294.333   \n",
       "                              Sideways                 419.200   \n",
       "nifty_condor_asymmetric_2_lot Bearish                  332.000   \n",
       "                              Bullish                  294.333   \n",
       "                              Sideways                 419.200   \n",
       "nifty_condor_asymmetric_4_lot Bearish                  332.000   \n",
       "                              Bullish                  294.333   \n",
       "                              Sideways                 419.200   \n",
       "\n",
       "                                            Profit till Expiry  \\\n",
       "                              Market Trend                       \n",
       "symmetric                     Bearish                   24.650   \n",
       "                              Bullish                   16.317   \n",
       "                              Sideways                  -1.524   \n",
       "nifty_condor_asymmetric_1_lot Bearish                   24.650   \n",
       "                              Bullish                   27.733   \n",
       "                              Sideways                   1.424   \n",
       "nifty_condor_asymmetric_2_lot Bearish                  396.100   \n",
       "                              Bullish                 -223.283   \n",
       "                              Sideways                -152.352   \n",
       "nifty_condor_asymmetric_4_lot Bearish                 1139.000   \n",
       "                              Bullish                 -725.317   \n",
       "                              Sideways                -459.906   \n",
       "\n",
       "                                            Maximum Profit  \\\n",
       "                              Market Trend                   \n",
       "symmetric                     Bearish               61.200   \n",
       "                              Bullish               37.733   \n",
       "                              Sideways              27.757   \n",
       "nifty_condor_asymmetric_1_lot Bearish               61.200   \n",
       "                              Bullish               49.167   \n",
       "                              Sideways              33.676   \n",
       "nifty_condor_asymmetric_2_lot Bearish              508.650   \n",
       "                              Bullish               74.533   \n",
       "                              Sideways             112.766   \n",
       "nifty_condor_asymmetric_4_lot Bearish             1482.950   \n",
       "                              Bullish              177.400   \n",
       "                              Sideways             312.407   \n",
       "\n",
       "                                            Duration % at Max Profit  \n",
       "                              Market Trend                            \n",
       "symmetric                     Bearish                         12.349  \n",
       "                              Bullish                         37.708  \n",
       "                              Sideways                        32.590  \n",
       "nifty_condor_asymmetric_1_lot Bearish                         12.349  \n",
       "                              Bullish                         37.603  \n",
       "                              Sideways                        34.361  \n",
       "nifty_condor_asymmetric_2_lot Bearish                         93.072  \n",
       "                              Bullish                          5.186  \n",
       "                              Sideways                        33.127  \n",
       "nifty_condor_asymmetric_4_lot Bearish                         93.072  \n",
       "                              Bullish                          5.186  \n",
       "                              Sideways                        29.866  "
      ]
     },
     "execution_count": 115,
     "metadata": {},
     "output_type": "execute_result"
    }
   ],
   "source": [
    "# Assuming all the DataFrames are named accordingly\n",
    "\n",
    "dfs = [\n",
    "    np.round(nifty_condor_symmteric.overall_performance['NIFTY'].groupby('Market Trend').mean(),3),\n",
    "    np.round(nifty_condor_asymmetric_1_lot.overall_performance['NIFTY'].groupby('Market Trend').mean(),3),\n",
    "    np.round(nifty_condor_asymmetric_2_lot.overall_performance['NIFTY'].groupby('Market Trend').mean(),3),\n",
    "    np.round(nifty_condor_asymmetric_4_lot.overall_performance['NIFTY'].groupby('Market Trend').mean(),3),\n",
    "]\n",
    "\n",
    "names = ['symmetric', 'nifty_condor_asymmetric_1_lot', 'nifty_condor_asymmetric_2_lot', 'nifty_condor_asymmetric_4_lot']\n",
    "\n",
    "concatenated_dfs = pd.concat([df.rename(columns={'Value': name}) for df, name in zip(dfs, names)], keys=names)\n",
    "concatenated_dfs"
   ]
  },
  {
   "cell_type": "code",
   "execution_count": 108,
   "metadata": {},
   "outputs": [
    {
     "data": {
      "text/plain": [
       "<matplotlib.legend.Legend at 0x200b45fca90>"
      ]
     },
     "execution_count": 108,
     "metadata": {},
     "output_type": "execute_result"
    },
    {
     "data": {
      "image/png": "[encoded data removed]",
      "text/plain": [
       "<Figure size 2000x1000 with 1 Axes>"
      ]
     },
     "metadata": {},
     "output_type": "display_data"
    }
   ],
   "source": [
    "# Price of Iron Condor\n",
    "nifty_condor_asymmetric_1_lot.premium_data['Price of Iron Condor'].plot(figsize=(20,10),label='1_lot')\n",
    "nifty_condor_asymmetric_2_lot.premium_data['Price of Iron Condor'].plot(figsize=(20,10),label='2_lot')\n",
    "nifty_condor_asymmetric_4_lot.premium_data['Price of Iron Condor'].plot(figsize=(20,10),label='4_lot')\n",
    "plt.legend()\n"
   ]
  },
  {
   "cell_type": "code",
   "execution_count": null,
   "metadata": {},
   "outputs": [],
   "source": []
  },
  {
   "cell_type": "code",
   "execution_count": 152,
   "metadata": {},
   "outputs": [
    {
     "name": "stdout",
     "output_type": "stream",
     "text": [
      "All the provided Ticker are in the Framework 2023\n"
     ]
    }
   ],
   "source": [
    "nifty_50_tickers=['ACC',\n",
    "                 'ADANIPORTS', \n",
    "                 'ASIANPAINT', \n",
    "                 'AXISBANK', 'BAJAJ-AUTO', \n",
    "                 'BAJFINANCE', 'BAJAJFINSV', \n",
    "                 'BPCL', 'BHARTIARTL', \n",
    "                 'BRITANNIA', 'CIPLA', 'COALINDIA', 'DIVISLAB', \n",
    "                 'DRREDDY', 'EICHERMOT', 'GRASIM', 'HCLTECH', 'HDFCBANK', \n",
    "                 'HDFCLIFE', 'HEROMOTOCO', 'HINDALCO', 'HINDUNILVR', 'ICICIBANK', \n",
    "                 'INDUSINDBK', 'INFY', 'ITC', 'JSWSTEEL', 'KOTAKBANK', 'LT', 'M&M', 'MARICO', \n",
    "                 'MARUTI', 'NESTLEIND', 'NTPC', 'ONGC', 'POWERGRID', 'RELIANCE', 'SHREECEM', 'SBIN', 'SBILIFE', \n",
    "                 'TATACONSUM', 'TATAMOTORS', 'TATASTEEL', 'TCS', 'TECHM', 'TITAN', 'ULTRACEMCO', 'UPL', 'WIPRO']\n",
    "#Check if stocks in above list are in the option_contrats_framework_2023\n",
    "if set(nifty_50_tickers).issubset(ticker_list):\n",
    "    print(\"All the provided Ticker are in the Framework 2023\")\n",
    "else:\n",
    "    print(\"Following tickers are not in Framework 2023\\n\",set(nifty_50_tickers) - set(ticker_list))"
   ]
  },
  {
   "cell_type": "code",
   "execution_count": null,
   "metadata": {},
   "outputs": [],
   "source": [
    "for ticker in nifty_50_tickers:\n",
    "    condor=IronCondor(tickers=ticker,root_folder_path=root_folder,type='Symmetric')\n",
    "    condor.calculate_iron_condor_performance()"
   ]
  },
  {
   "cell_type": "code",
   "execution_count": 119,
   "metadata": {},
   "outputs": [
    {
     "data": {
      "text/plain": [
       "{}"
      ]
     },
     "execution_count": 119,
     "metadata": {},
     "output_type": "execute_result"
    }
   ],
   "source": []
  },
  {
   "cell_type": "code",
   "execution_count": null,
   "metadata": {},
   "outputs": [],
   "source": []
  }
 ],
 "metadata": {
  "kernelspec": {
   "display_name": "base",
   "language": "python",
   "name": "python3"
  },
  "language_info": {
   "codemirror_mode": {
    "name": "ipython",
    "version": 3
   },
   "file_extension": ".py",
   "mimetype": "text/x-python",
   "name": "python",
   "nbconvert_exporter": "python",
   "pygments_lexer": "ipython3",
   "version": "3.11.5"
  }
 },
 "nbformat": 4,
 "nbformat_minor": 2
}
